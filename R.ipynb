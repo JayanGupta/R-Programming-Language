{
  "nbformat": 4,
  "nbformat_minor": 0,
  "metadata": {
    "colab": {
      "provenance": []
    },
    "kernelspec": {
      "name": "ir",
      "display_name": "R"
    },
    "language_info": {
      "name": "R"
    }
  },
  "cells": [
    {
      "cell_type": "code",
      "source": [
        "# install and load caret package\n",
        "install.packages(\"caret\")\n",
        "library(caret)"
      ],
      "metadata": {
        "colab": {
          "base_uri": "https://localhost:8080/"
        },
        "id": "Mu1e-d5rkul2",
        "outputId": "b7e2efe5-dcfb-49b6-e57c-1078dac114bd"
      },
      "execution_count": null,
      "outputs": [
        {
          "output_type": "stream",
          "name": "stderr",
          "text": [
            "Installing package into ‘/usr/local/lib/R/site-library’\n",
            "(as ‘lib’ is unspecified)\n",
            "\n",
            "also installing the dependencies ‘listenv’, ‘parallelly’, ‘future’, ‘globals’, ‘shape’, ‘future.apply’, ‘numDeriv’, ‘progressr’, ‘SQUAREM’, ‘diagram’, ‘lava’, ‘prodlim’, ‘proxy’, ‘iterators’, ‘clock’, ‘gower’, ‘hardhat’, ‘ipred’, ‘sparsevctrs’, ‘timeDate’, ‘e1071’, ‘foreach’, ‘ModelMetrics’, ‘plyr’, ‘pROC’, ‘recipes’, ‘reshape2’\n",
            "\n",
            "\n",
            "Loading required package: ggplot2\n",
            "\n",
            "Loading required package: lattice\n",
            "\n"
          ]
        }
      ]
    },
    {
      "cell_type": "code",
      "execution_count": null,
      "metadata": {
        "colab": {
          "base_uri": "https://localhost:8080/",
          "height": 34
        },
        "id": "QFhu-8RTkpHi",
        "outputId": "e2b116f1-2f59-4121-a27d-338814921bfa"
      },
      "outputs": [
        {
          "output_type": "display_data",
          "data": {
            "text/html": [
              "<strong>Accuracy:</strong> 0.5"
            ],
            "text/markdown": "**Accuracy:** 0.5",
            "text/latex": "\\textbf{Accuracy:} 0.5",
            "text/plain": [
              "Accuracy \n",
              "     0.5 "
            ]
          },
          "metadata": {}
        }
      ],
      "source": [
        "# prepare data\n",
        "actual <- factor(c(0, 1, 0, 1, 0,\n",
        "                   1, 0, 1, 0, 1),\n",
        "                 levels = c(0, 1))\n",
        "predicted <- factor(c(0, 0, 1, 1, 0,\n",
        "                      0, 1, 1, 0, 0),\n",
        "                    levels = c(0, 1))\n",
        "\n",
        "# execute confusionMatrix()\n",
        "confusion_matrix <- confusionMatrix(data = predicted,\n",
        "                                    reference = actual)\n",
        "confusion_matrix$overall[\"Accuracy\"]"
      ]
    },
    {
      "cell_type": "code",
      "source": [
        "actual <- factor(c(0, 0, 0, 1, 1, 1,\n",
        "                   0, 0, 0, 1, 1, 1),\n",
        "                 levels = c(0, 1))\n",
        "\n",
        "predicted <- factor(c(1, 1, 0, 0, 1, 1,\n",
        "                      0, 0, 1, 1, 0, 0),\n",
        "                    levels = c(0, 1))\n",
        "\n",
        "sens <- sensitivity(predicted, actual)\n",
        "print(sens)"
      ],
      "metadata": {
        "colab": {
          "base_uri": "https://localhost:8080/"
        },
        "id": "_-Ec9i9ckwxm",
        "outputId": "1b02f361-c827-46eb-bd89-7f95006d31c1"
      },
      "execution_count": null,
      "outputs": [
        {
          "output_type": "stream",
          "name": "stdout",
          "text": [
            "[1] 0.5\n"
          ]
        }
      ]
    },
    {
      "cell_type": "code",
      "source": [
        "install.packages(\"lme4\")\n",
        "library(lme4)\n",
        "\n",
        "data(sleepstudy)\n",
        "model <- lmer(Reaction ~ Days + (1 | Subject),\n",
        "              data = sleepstudy)\n",
        "summary(model)\n"
      ],
      "metadata": {
        "colab": {
          "base_uri": "https://localhost:8080/",
          "height": 573
        },
        "id": "1PdlL7Kinq3v",
        "outputId": "a0083a6f-0aa9-4952-f5fb-e1c2b8e2bc89"
      },
      "execution_count": null,
      "outputs": [
        {
          "output_type": "stream",
          "name": "stderr",
          "text": [
            "Installing package into ‘/usr/local/lib/R/site-library’\n",
            "(as ‘lib’ is unspecified)\n",
            "\n",
            "also installing the dependencies ‘rbibutils’, ‘Rdpack’, ‘minqa’, ‘nloptr’, ‘reformulas’, ‘RcppEigen’\n",
            "\n",
            "\n",
            "Loading required package: Matrix\n",
            "\n"
          ]
        },
        {
          "output_type": "display_data",
          "data": {
            "text/plain": [
              "Linear mixed model fit by REML ['lmerMod']\n",
              "Formula: Reaction ~ Days + (1 | Subject)\n",
              "   Data: sleepstudy\n",
              "\n",
              "REML criterion at convergence: 1786.5\n",
              "\n",
              "Scaled residuals: \n",
              "    Min      1Q  Median      3Q     Max \n",
              "-3.2257 -0.5529  0.0109  0.5188  4.2506 \n",
              "\n",
              "Random effects:\n",
              " Groups   Name        Variance Std.Dev.\n",
              " Subject  (Intercept) 1378.2   37.12   \n",
              " Residual              960.5   30.99   \n",
              "Number of obs: 180, groups:  Subject, 18\n",
              "\n",
              "Fixed effects:\n",
              "            Estimate Std. Error t value\n",
              "(Intercept) 251.4051     9.7467   25.79\n",
              "Days         10.4673     0.8042   13.02\n",
              "\n",
              "Correlation of Fixed Effects:\n",
              "     (Intr)\n",
              "Days -0.371"
            ]
          },
          "metadata": {}
        }
      ]
    },
    {
      "cell_type": "code",
      "source": [
        "install.packages(\"lme4\")\n",
        "install.packages(\"ggplot2\")\n",
        "library(lme4)\n",
        "library(ggplot2)\n",
        "\n",
        "data(sleepstudy)\n",
        "\n",
        "model <- lmer(Reaction ~ Days + (1 | Subject),\n",
        "              data = sleepstudy)\n",
        "\n",
        "predicted <- predict(model)\n",
        "df <- data.frame(Observed = sleepstudy$Reaction,\n",
        "                 Predicted = predicted)\n",
        "ggplot(df, aes(x = Observed, y = Predicted)) +\n",
        "  geom_point() +\n",
        "  geom_abline(intercept = 3, slope = 1,\n",
        "              linetype = \"dashed\") +\n",
        "  xlab(\"Observed Time\") +\n",
        "  ylab(\"Predicted Time\")\n"
      ],
      "metadata": {
        "colab": {
          "base_uri": "https://localhost:8080/",
          "height": 541
        },
        "id": "pVDMdP-KpBjs",
        "outputId": "eb26f0b4-896f-48c8-97be-03fc00eebf6b"
      },
      "execution_count": null,
      "outputs": [
        {
          "output_type": "stream",
          "name": "stderr",
          "text": [
            "Installing package into ‘/usr/local/lib/R/site-library’\n",
            "(as ‘lib’ is unspecified)\n",
            "\n",
            "Installing package into ‘/usr/local/lib/R/site-library’\n",
            "(as ‘lib’ is unspecified)\n",
            "\n"
          ]
        },
        {
          "output_type": "display_data",
          "data": {
            "text/plain": [
              "plot without title"
            ],
            "image/png": "[encoded data removed]"
          },
          "metadata": {
            "image/png": {
              "width": 420,
              "height": 420
            }
          }
        }
      ]
    },
    {
      "cell_type": "code",
      "source": [
        "summary(mtcars)"
      ],
      "metadata": {
        "colab": {
          "base_uri": "https://localhost:8080/",
          "height": 382
        },
        "id": "uScIcMchtrbi",
        "outputId": "80c34efe-ed61-44e2-b9b7-77df89ec5c4b"
      },
      "execution_count": null,
      "outputs": [
        {
          "output_type": "display_data",
          "data": {
            "text/plain": [
              "      mpg             cyl             disp             hp       \n",
              " Min.   :10.40   Min.   :4.000   Min.   : 71.1   Min.   : 52.0  \n",
              " 1st Qu.:15.43   1st Qu.:4.000   1st Qu.:120.8   1st Qu.: 96.5  \n",
              " Median :19.20   Median :6.000   Median :196.3   Median :123.0  \n",
              " Mean   :20.09   Mean   :6.188   Mean   :230.7   Mean   :146.7  \n",
              " 3rd Qu.:22.80   3rd Qu.:8.000   3rd Qu.:326.0   3rd Qu.:180.0  \n",
              " Max.   :33.90   Max.   :8.000   Max.   :472.0   Max.   :335.0  \n",
              "      drat             wt             qsec             vs        \n",
              " Min.   :2.760   Min.   :1.513   Min.   :14.50   Min.   :0.0000  \n",
              " 1st Qu.:3.080   1st Qu.:2.581   1st Qu.:16.89   1st Qu.:0.0000  \n",
              " Median :3.695   Median :3.325   Median :17.71   Median :0.0000  \n",
              " Mean   :3.597   Mean   :3.217   Mean   :17.85   Mean   :0.4375  \n",
              " 3rd Qu.:3.920   3rd Qu.:3.610   3rd Qu.:18.90   3rd Qu.:1.0000  \n",
              " Max.   :4.930   Max.   :5.424   Max.   :22.90   Max.   :1.0000  \n",
              "       am              gear            carb      \n",
              " Min.   :0.0000   Min.   :3.000   Min.   :1.000  \n",
              " 1st Qu.:0.0000   1st Qu.:3.000   1st Qu.:2.000  \n",
              " Median :0.0000   Median :4.000   Median :2.000  \n",
              " Mean   :0.4062   Mean   :3.688   Mean   :2.812  \n",
              " 3rd Qu.:1.0000   3rd Qu.:4.000   3rd Qu.:4.000  \n",
              " Max.   :1.0000   Max.   :5.000   Max.   :8.000  "
            ]
          },
          "metadata": {}
        }
      ]
    },
    {
      "cell_type": "code",
      "source": [
        "model <- lm(mpg ~ wt, data = mtcars)"
      ],
      "metadata": {
        "id": "FJ0jCzwfv73V"
      },
      "execution_count": null,
      "outputs": []
    },
    {
      "cell_type": "code",
      "source": [
        "summary(model)"
      ],
      "metadata": {
        "colab": {
          "base_uri": "https://localhost:8080/",
          "height": 330
        },
        "id": "3Y0CunQ-w23R",
        "outputId": "27049549-b6df-4390-866a-15168a5c1de9"
      },
      "execution_count": null,
      "outputs": [
        {
          "output_type": "display_data",
          "data": {
            "text/plain": [
              "\n",
              "Call:\n",
              "lm(formula = mpg ~ wt, data = mtcars)\n",
              "\n",
              "Residuals:\n",
              "    Min      1Q  Median      3Q     Max \n",
              "-4.5432 -2.3647 -0.1252  1.4096  6.8727 \n",
              "\n",
              "Coefficients:\n",
              "            Estimate Std. Error t value Pr(>|t|)    \n",
              "(Intercept)  37.2851     1.8776  19.858  < 2e-16 ***\n",
              "wt           -5.3445     0.5591  -9.559 1.29e-10 ***\n",
              "---\n",
              "Signif. codes:  0 ‘***’ 0.001 ‘**’ 0.01 ‘*’ 0.05 ‘.’ 0.1 ‘ ’ 1\n",
              "\n",
              "Residual standard error: 3.046 on 30 degrees of freedom\n",
              "Multiple R-squared:  0.7528,\tAdjusted R-squared:  0.7446 \n",
              "F-statistic: 91.38 on 1 and 30 DF,  p-value: 1.294e-10\n"
            ]
          },
          "metadata": {}
        }
      ]
    },
    {
      "cell_type": "code",
      "source": [
        "plot(mtcars$wt, mtcars$mpg)\n",
        "abline(model)"
      ],
      "metadata": {
        "colab": {
          "base_uri": "https://localhost:8080/",
          "height": 437
        },
        "id": "BLCBfnFzw6mZ",
        "outputId": "7f1d9c95-47b2-413b-d981-651c0fb5ac6e"
      },
      "execution_count": null,
      "outputs": [
        {
          "output_type": "display_data",
          "data": {
            "text/plain": [
              "plot without title"
            ],
            "image/png": "[encoded data removed]"
          },
          "metadata": {
            "image/png": {
              "width": 420,
              "height": 420
            }
          }
        }
      ]
    },
    {
      "cell_type": "code",
      "source": [
        "install.packages(\"car\")\n",
        "library(car)\n",
        "residualPlots(model)"
      ],
      "metadata": {
        "colab": {
          "base_uri": "https://localhost:8080/",
          "height": 663
        },
        "id": "1zxI8-LQxh0A",
        "outputId": "dc1dfdb4-449b-4dec-eca4-aea714385f03"
      },
      "execution_count": null,
      "outputs": [
        {
          "output_type": "stream",
          "name": "stderr",
          "text": [
            "Installing package into ‘/usr/local/lib/R/site-library’\n",
            "(as ‘lib’ is unspecified)\n",
            "\n",
            "also installing the dependencies ‘cowplot’, ‘Deriv’, ‘microbenchmark’, ‘doBy’, ‘SparseM’, ‘MatrixModels’, ‘carData’, ‘abind’, ‘Formula’, ‘pbkrtest’, ‘quantreg’\n",
            "\n",
            "\n",
            "Loading required package: carData\n",
            "\n"
          ]
        },
        {
          "output_type": "stream",
          "name": "stdout",
          "text": [
            "           Test stat Pr(>|Test stat|)   \n",
            "wt             3.258         0.002860 **\n",
            "Tukey test     3.258         0.001122 **\n",
            "---\n",
            "Signif. codes:  0 ‘***’ 0.001 ‘**’ 0.01 ‘*’ 0.05 ‘.’ 0.1 ‘ ’ 1\n"
          ]
        },
        {
          "output_type": "display_data",
          "data": {
            "text/plain": [
              "plot without title"
            ],
            "image/png": "[encoded data removed]"
          },
          "metadata": {
            "image/png": {
              "width": 420,
              "height": 420
            }
          }
        }
      ]
    },
    {
      "cell_type": "code",
      "source": [
        "library(car)\n",
        "\n",
        "model <- lm(mpg ~ wt + hp, data = mtcars)\n",
        "\n",
        "summary(model)"
      ],
      "metadata": {
        "colab": {
          "base_uri": "https://localhost:8080/",
          "height": 347
        },
        "id": "VSBIb8rbzEw9",
        "outputId": "b8ea3d55-bf65-4876-b32d-7323d4301165"
      },
      "execution_count": null,
      "outputs": [
        {
          "output_type": "display_data",
          "data": {
            "text/plain": [
              "\n",
              "Call:\n",
              "lm(formula = mpg ~ wt + hp, data = mtcars)\n",
              "\n",
              "Residuals:\n",
              "   Min     1Q Median     3Q    Max \n",
              "-3.941 -1.600 -0.182  1.050  5.854 \n",
              "\n",
              "Coefficients:\n",
              "            Estimate Std. Error t value Pr(>|t|)    \n",
              "(Intercept) 37.22727    1.59879  23.285  < 2e-16 ***\n",
              "wt          -3.87783    0.63273  -6.129 1.12e-06 ***\n",
              "hp          -0.03177    0.00903  -3.519  0.00145 ** \n",
              "---\n",
              "Signif. codes:  0 ‘***’ 0.001 ‘**’ 0.01 ‘*’ 0.05 ‘.’ 0.1 ‘ ’ 1\n",
              "\n",
              "Residual standard error: 2.593 on 29 degrees of freedom\n",
              "Multiple R-squared:  0.8268,\tAdjusted R-squared:  0.8148 \n",
              "F-statistic: 69.21 on 2 and 29 DF,  p-value: 9.109e-12\n"
            ]
          },
          "metadata": {}
        }
      ]
    },
    {
      "cell_type": "code",
      "source": [
        "library(car)\n",
        "\n",
        "model <- lm(mpg ~ wt + hp, data = mtcars)\n",
        "\n",
        "anova(model)"
      ],
      "metadata": {
        "colab": {
          "base_uri": "https://localhost:8080/",
          "height": 192
        },
        "id": "iF2Vsnw01MY-",
        "outputId": "56bc1737-4c55-42f9-8498-ea0c39a6f458"
      },
      "execution_count": null,
      "outputs": [
        {
          "output_type": "display_data",
          "data": {
            "text/html": [
              "<table class=\"dataframe\">\n",
              "<caption>A anova: 3 × 5</caption>\n",
              "<thead>\n",
              "\t<tr><th></th><th scope=col>Df</th><th scope=col>Sum Sq</th><th scope=col>Mean Sq</th><th scope=col>F value</th><th scope=col>Pr(&gt;F)</th></tr>\n",
              "\t<tr><th></th><th scope=col>&lt;int&gt;</th><th scope=col>&lt;dbl&gt;</th><th scope=col>&lt;dbl&gt;</th><th scope=col>&lt;dbl&gt;</th><th scope=col>&lt;dbl&gt;</th></tr>\n",
              "</thead>\n",
              "<tbody>\n",
              "\t<tr><th scope=row>wt</th><td> 1</td><td>847.72525</td><td>847.725250</td><td>126.04109</td><td>4.488360e-12</td></tr>\n",
              "\t<tr><th scope=row>hp</th><td> 1</td><td> 83.27418</td><td> 83.274183</td><td> 12.38133</td><td>1.451229e-03</td></tr>\n",
              "\t<tr><th scope=row>Residuals</th><td>29</td><td>195.04775</td><td>  6.725785</td><td>       NA</td><td>          NA</td></tr>\n",
              "</tbody>\n",
              "</table>\n"
            ],
            "text/markdown": "\nA anova: 3 × 5\n\n| <!--/--> | Df &lt;int&gt; | Sum Sq &lt;dbl&gt; | Mean Sq &lt;dbl&gt; | F value &lt;dbl&gt; | Pr(&gt;F) &lt;dbl&gt; |\n|---|---|---|---|---|---|\n| wt |  1 | 847.72525 | 847.725250 | 126.04109 | 4.488360e-12 |\n| hp |  1 |  83.27418 |  83.274183 |  12.38133 | 1.451229e-03 |\n| Residuals | 29 | 195.04775 |   6.725785 |        NA |           NA |\n\n",
            "text/latex": "A anova: 3 × 5\n\\begin{tabular}{r|lllll}\n  & Df & Sum Sq & Mean Sq & F value & Pr(>F)\\\\\n  & <int> & <dbl> & <dbl> & <dbl> & <dbl>\\\\\n\\hline\n\twt &  1 & 847.72525 & 847.725250 & 126.04109 & 4.488360e-12\\\\\n\thp &  1 &  83.27418 &  83.274183 &  12.38133 & 1.451229e-03\\\\\n\tResiduals & 29 & 195.04775 &   6.725785 &        NA &           NA\\\\\n\\end{tabular}\n",
            "text/plain": [
              "          Df Sum Sq    Mean Sq    F value   Pr(>F)      \n",
              "wt         1 847.72525 847.725250 126.04109 4.488360e-12\n",
              "hp         1  83.27418  83.274183  12.38133 1.451229e-03\n",
              "Residuals 29 195.04775   6.725785        NA           NA"
            ]
          },
          "metadata": {}
        }
      ]
    },
    {
      "cell_type": "markdown",
      "source": [
        "caret package"
      ],
      "metadata": {
        "id": "NeNcd0Gs6VD0"
      }
    },
    {
      "cell_type": "code",
      "source": [
        "# install and load caret package\n",
        "install.packages(\"caret\")\n",
        "library(caret)"
      ],
      "metadata": {
        "colab": {
          "base_uri": "https://localhost:8080/"
        },
        "id": "Uv2aQt5U6fGz",
        "outputId": "8e78ccdc-dd08-473e-9190-2ace0c3f59e0"
      },
      "execution_count": null,
      "outputs": [
        {
          "output_type": "stream",
          "name": "stderr",
          "text": [
            "Installing package into ‘/usr/local/lib/R/site-library’\n",
            "(as ‘lib’ is unspecified)\n",
            "\n"
          ]
        }
      ]
    },
    {
      "cell_type": "code",
      "source": [
        "set.seed(123)\n",
        "data(iris)\n",
        "\n",
        "# 80/20 split\n",
        "idx <- createDataPartition(iris$Species, p = 0.8, list = FALSE)\n",
        "train_data <- iris[idx, ]\n",
        "test_data  <- iris[-idx, ]"
      ],
      "metadata": {
        "id": "bd3-QA1J6irr"
      },
      "execution_count": null,
      "outputs": []
    },
    {
      "cell_type": "code",
      "source": [
        "ctrl <- trainControl(method = \"cv\", number = 10)\n",
        "\n",
        "rf_model <- train(Species ~ ., data = train_data,\n",
        "                  method = \"rf\",\n",
        "                  trControl = ctrl)\n",
        "\n",
        "rf_preds <- predict(rf_model, test_data)\n",
        "confusionMatrix(rf_preds, test_data$Species)"
      ],
      "metadata": {
        "colab": {
          "base_uri": "https://localhost:8080/",
          "height": 538
        },
        "id": "qTdkYxaJ1SaG",
        "outputId": "68217675-379b-4228-b4a9-269e1ab675c6"
      },
      "execution_count": null,
      "outputs": [
        {
          "output_type": "display_data",
          "data": {
            "text/plain": [
              "Confusion Matrix and Statistics\n",
              "\n",
              "            Reference\n",
              "Prediction   setosa versicolor virginica\n",
              "  setosa         10          0         0\n",
              "  versicolor      0         10         2\n",
              "  virginica       0          0         8\n",
              "\n",
              "Overall Statistics\n",
              "                                          \n",
              "               Accuracy : 0.9333          \n",
              "                 95% CI : (0.7793, 0.9918)\n",
              "    No Information Rate : 0.3333          \n",
              "    P-Value [Acc > NIR] : 8.747e-12       \n",
              "                                          \n",
              "                  Kappa : 0.9             \n",
              "                                          \n",
              " Mcnemar's Test P-Value : NA              \n",
              "\n",
              "Statistics by Class:\n",
              "\n",
              "                     Class: setosa Class: versicolor Class: virginica\n",
              "Sensitivity                 1.0000            1.0000           0.8000\n",
              "Specificity                 1.0000            0.9000           1.0000\n",
              "Pos Pred Value              1.0000            0.8333           1.0000\n",
              "Neg Pred Value              1.0000            1.0000           0.9091\n",
              "Prevalence                  0.3333            0.3333           0.3333\n",
              "Detection Rate              0.3333            0.3333           0.2667\n",
              "Detection Prevalence        0.3333            0.4000           0.2667\n",
              "Balanced Accuracy           1.0000            0.9500           0.9000"
            ]
          },
          "metadata": {}
        }
      ]
    },
    {
      "cell_type": "code",
      "source": [
        "# 1. Train a decision tree\n",
        "cart_model <- train(Species ~ ., data = train_data,\n",
        "                    method = \"rpart\",\n",
        "                    trControl = ctrl)\n",
        "\n",
        "# 3. Evaluate on test set\n",
        "cart_preds <- predict(cart_model, test_data)\n",
        "confusionMatrix(cart_preds, test_data$Species)"
      ],
      "metadata": {
        "colab": {
          "base_uri": "https://localhost:8080/",
          "height": 538
        },
        "id": "zcR5vXnE6j2b",
        "outputId": "66d20b0b-5f66-4399-b2e5-c4c1b383164c"
      },
      "execution_count": null,
      "outputs": [
        {
          "output_type": "display_data",
          "data": {
            "text/plain": [
              "Confusion Matrix and Statistics\n",
              "\n",
              "            Reference\n",
              "Prediction   setosa versicolor virginica\n",
              "  setosa         10          0         0\n",
              "  versicolor      0         10         2\n",
              "  virginica       0          0         8\n",
              "\n",
              "Overall Statistics\n",
              "                                          \n",
              "               Accuracy : 0.9333          \n",
              "                 95% CI : (0.7793, 0.9918)\n",
              "    No Information Rate : 0.3333          \n",
              "    P-Value [Acc > NIR] : 8.747e-12       \n",
              "                                          \n",
              "                  Kappa : 0.9             \n",
              "                                          \n",
              " Mcnemar's Test P-Value : NA              \n",
              "\n",
              "Statistics by Class:\n",
              "\n",
              "                     Class: setosa Class: versicolor Class: virginica\n",
              "Sensitivity                 1.0000            1.0000           0.8000\n",
              "Specificity                 1.0000            0.9000           1.0000\n",
              "Pos Pred Value              1.0000            0.8333           1.0000\n",
              "Neg Pred Value              1.0000            1.0000           0.9091\n",
              "Prevalence                  0.3333            0.3333           0.3333\n",
              "Detection Rate              0.3333            0.3333           0.2667\n",
              "Detection Prevalence        0.3333            0.4000           0.2667\n",
              "Balanced Accuracy           1.0000            0.9500           0.9000"
            ]
          },
          "metadata": {}
        }
      ]
    },
    {
      "cell_type": "code",
      "source": [
        "knn_grid <- expand.grid(k = seq(3, 15, by = 2))\n",
        "\n",
        "knn_model <- train(Species ~ ., data = train_data,\n",
        "                   method = \"knn\",\n",
        "                   trControl = ctrl,\n",
        "                   tuneGrid = knn_grid)\n",
        "\n",
        "knn_preds <- predict(knn_model, test_data)\n",
        "confusionMatrix(knn_preds, test_data$Species)"
      ],
      "metadata": {
        "colab": {
          "base_uri": "https://localhost:8080/",
          "height": 538
        },
        "id": "KH3a__To7R4o",
        "outputId": "febdfa21-f35f-4f92-ba81-c7a75e04ebe7"
      },
      "execution_count": null,
      "outputs": [
        {
          "output_type": "display_data",
          "data": {
            "text/plain": [
              "Confusion Matrix and Statistics\n",
              "\n",
              "            Reference\n",
              "Prediction   setosa versicolor virginica\n",
              "  setosa         10          0         0\n",
              "  versicolor      0         10         0\n",
              "  virginica       0          0        10\n",
              "\n",
              "Overall Statistics\n",
              "                                     \n",
              "               Accuracy : 1          \n",
              "                 95% CI : (0.8843, 1)\n",
              "    No Information Rate : 0.3333     \n",
              "    P-Value [Acc > NIR] : 4.857e-15  \n",
              "                                     \n",
              "                  Kappa : 1          \n",
              "                                     \n",
              " Mcnemar's Test P-Value : NA         \n",
              "\n",
              "Statistics by Class:\n",
              "\n",
              "                     Class: setosa Class: versicolor Class: virginica\n",
              "Sensitivity                 1.0000            1.0000           1.0000\n",
              "Specificity                 1.0000            1.0000           1.0000\n",
              "Pos Pred Value              1.0000            1.0000           1.0000\n",
              "Neg Pred Value              1.0000            1.0000           1.0000\n",
              "Prevalence                  0.3333            0.3333           0.3333\n",
              "Detection Rate              0.3333            0.3333           0.3333\n",
              "Detection Prevalence        0.3333            0.3333           0.3333\n",
              "Balanced Accuracy           1.0000            1.0000           1.0000"
            ]
          },
          "metadata": {}
        }
      ]
    },
    {
      "cell_type": "code",
      "source": [
        "install.packages(\"kernlab\")\n",
        "library(kernlab)\n",
        "svm_model <- train(Species ~ ., data = train_data,\n",
        "                   method = \"svmRadial\",\n",
        "                   trControl = ctrl,\n",
        "                   preProcess = c(\"center\", \"scale\"))\n",
        "\n",
        "svm_preds <- predict(svm_model, test_data)\n",
        "confusionMatrix(svm_preds, test_data$Species)"
      ],
      "metadata": {
        "colab": {
          "base_uri": "https://localhost:8080/",
          "height": 746
        },
        "id": "pTwzAw0f8Gzm",
        "outputId": "db50c22f-293f-4628-aadd-a645379e9c6d"
      },
      "execution_count": null,
      "outputs": [
        {
          "output_type": "stream",
          "name": "stderr",
          "text": [
            "Installing package into ‘/usr/local/lib/R/site-library’\n",
            "(as ‘lib’ is unspecified)\n",
            "\n",
            "\n",
            "Attaching package: ‘kernlab’\n",
            "\n",
            "\n",
            "The following object is masked from ‘package:ggplot2’:\n",
            "\n",
            "    alpha\n",
            "\n",
            "\n"
          ]
        },
        {
          "output_type": "display_data",
          "data": {
            "text/plain": [
              "Confusion Matrix and Statistics\n",
              "\n",
              "            Reference\n",
              "Prediction   setosa versicolor virginica\n",
              "  setosa         10          0         0\n",
              "  versicolor      0         10         2\n",
              "  virginica       0          0         8\n",
              "\n",
              "Overall Statistics\n",
              "                                          \n",
              "               Accuracy : 0.9333          \n",
              "                 95% CI : (0.7793, 0.9918)\n",
              "    No Information Rate : 0.3333          \n",
              "    P-Value [Acc > NIR] : 8.747e-12       \n",
              "                                          \n",
              "                  Kappa : 0.9             \n",
              "                                          \n",
              " Mcnemar's Test P-Value : NA              \n",
              "\n",
              "Statistics by Class:\n",
              "\n",
              "                     Class: setosa Class: versicolor Class: virginica\n",
              "Sensitivity                 1.0000            1.0000           0.8000\n",
              "Specificity                 1.0000            0.9000           1.0000\n",
              "Pos Pred Value              1.0000            0.8333           1.0000\n",
              "Neg Pred Value              1.0000            1.0000           0.9091\n",
              "Prevalence                  0.3333            0.3333           0.3333\n",
              "Detection Rate              0.3333            0.3333           0.2667\n",
              "Detection Prevalence        0.3333            0.4000           0.2667\n",
              "Balanced Accuracy           1.0000            0.9500           0.9000"
            ]
          },
          "metadata": {}
        }
      ]
    },
    {
      "cell_type": "code",
      "source": [
        "set.seed(456)\n",
        "data(mtcars)\n",
        "idx2 <- createDataPartition(mtcars$mpg, p = 0.8, list = FALSE)\n",
        "train_reg <- mtcars[idx2, ]\n",
        "test_reg  <- mtcars[-idx2, ]"
      ],
      "metadata": {
        "id": "tu0bmeqp8o0l"
      },
      "execution_count": null,
      "outputs": []
    },
    {
      "cell_type": "code",
      "source": [
        "# 1. Define 5-fold CV\n",
        "ctrl_reg <- trainControl(method = \"cv\", number = 10)\n",
        "\n",
        "# 2. Train linear model\n",
        "lm_model <- train(mpg ~ ., data = train_reg,\n",
        "                  method = \"lm\",\n",
        "                  trControl = ctrl_reg)\n",
        "\n",
        "# 3. Summarize performance\n",
        "print(lm_model)\n",
        "\n",
        "# 4. Test-set RMSE\n",
        "lm_preds <- predict(lm_model, test_reg)\n",
        "RMSE(lm_preds, test_reg$mpg)"
      ],
      "metadata": {
        "colab": {
          "base_uri": "https://localhost:8080/",
          "height": 277
        },
        "id": "cCw3iJpC9wtK",
        "outputId": "ffdf696f-466a-4f51-e98e-fb7b809588fc"
      },
      "execution_count": null,
      "outputs": [
        {
          "output_type": "stream",
          "name": "stdout",
          "text": [
            "Linear Regression \n",
            "\n",
            "28 samples\n",
            "10 predictors\n",
            "\n",
            "No pre-processing\n",
            "Resampling: Cross-Validated (10 fold) \n",
            "Summary of sample sizes: 25, 25, 25, 25, 25, 25, ... \n",
            "Resampling results:\n",
            "\n",
            "  RMSE      Rsquared   MAE     \n",
            "  3.630977  0.7662018  3.228986\n",
            "\n",
            "Tuning parameter 'intercept' was held constant at a value of TRUE\n"
          ]
        },
        {
          "output_type": "display_data",
          "data": {
            "text/html": [
              "2.05063877669103"
            ],
            "text/markdown": "2.05063877669103",
            "text/latex": "2.05063877669103",
            "text/plain": [
              "[1] 2.050639"
            ]
          },
          "metadata": {}
        }
      ]
    },
    {
      "cell_type": "code",
      "source": [
        "# 1. Train random forest regressor\n",
        "rf_reg <- train(mpg ~ ., data = train_reg,\n",
        "                method = \"rf\",\n",
        "                trControl = ctrl_reg)\n",
        "print(rf_reg)\n",
        "# 2. Evaluate on test set\n",
        "rf_reg_preds <- predict(rf_reg, test_reg)\n",
        "RMSE(rf_reg_preds, test_reg$mpg)"
      ],
      "metadata": {
        "colab": {
          "base_uri": "https://localhost:8080/",
          "height": 330
        },
        "id": "X2okMIOa9_eh",
        "outputId": "a3b35adb-662b-495a-8ad5-d9431320793d"
      },
      "execution_count": null,
      "outputs": [
        {
          "output_type": "stream",
          "name": "stdout",
          "text": [
            "Random Forest \n",
            "\n",
            "28 samples\n",
            "10 predictors\n",
            "\n",
            "No pre-processing\n",
            "Resampling: Cross-Validated (10 fold) \n",
            "Summary of sample sizes: 25, 25, 25, 25, 25, 25, ... \n",
            "Resampling results across tuning parameters:\n",
            "\n",
            "  mtry  RMSE      Rsquared   MAE     \n",
            "   2    2.500125  0.9282367  2.179374\n",
            "   6    2.299236  0.9303702  2.013490\n",
            "  10    2.434391  0.9162160  2.127943\n",
            "\n",
            "RMSE was used to select the optimal model using the smallest value.\n",
            "The final value used for the model was mtry = 6.\n"
          ]
        },
        {
          "output_type": "display_data",
          "data": {
            "text/html": [
              "1.68116557024682"
            ],
            "text/markdown": "1.68116557024682",
            "text/latex": "1.68116557024682",
            "text/plain": [
              "[1] 1.681166"
            ]
          },
          "metadata": {}
        }
      ]
    },
    {
      "cell_type": "markdown",
      "source": [
        "# Data Processing in R"
      ],
      "metadata": {
        "id": "Ar2ZbhziNOe8"
      }
    },
    {
      "cell_type": "code",
      "source": [
        "install.packages(\"tidyverse\")\n",
        "library(tidyverse)"
      ],
      "metadata": {
        "colab": {
          "base_uri": "https://localhost:8080/"
        },
        "id": "QT_8VdVQNcqm",
        "outputId": "075afcf1-9ac3-49e1-82e7-55d5ea0e9f1c"
      },
      "execution_count": null,
      "outputs": [
        {
          "output_type": "stream",
          "name": "stderr",
          "text": [
            "Installing package into ‘/usr/local/lib/R/site-library’\n",
            "(as ‘lib’ is unspecified)\n",
            "\n",
            "── \u001b[1mAttaching core tidyverse packages\u001b[22m ──────────────────────── tidyverse 2.0.0 ──\n",
            "\u001b[32m✔\u001b[39m \u001b[34mdplyr    \u001b[39m 1.1.4     \u001b[32m✔\u001b[39m \u001b[34mreadr    \u001b[39m 2.1.5\n",
            "\u001b[32m✔\u001b[39m \u001b[34mforcats  \u001b[39m 1.0.0     \u001b[32m✔\u001b[39m \u001b[34mstringr  \u001b[39m 1.5.1\n",
            "\u001b[32m✔\u001b[39m \u001b[34mggplot2  \u001b[39m 3.5.2     \u001b[32m✔\u001b[39m \u001b[34mtibble   \u001b[39m 3.2.1\n",
            "\u001b[32m✔\u001b[39m \u001b[34mlubridate\u001b[39m 1.9.4     \u001b[32m✔\u001b[39m \u001b[34mtidyr    \u001b[39m 1.3.1\n",
            "\u001b[32m✔\u001b[39m \u001b[34mpurrr    \u001b[39m 1.0.4     \n",
            "── \u001b[1mConflicts\u001b[22m ────────────────────────────────────────── tidyverse_conflicts() ──\n",
            "\u001b[31m✖\u001b[39m \u001b[34mdplyr\u001b[39m::\u001b[32mfilter()\u001b[39m masks \u001b[34mstats\u001b[39m::filter()\n",
            "\u001b[31m✖\u001b[39m \u001b[34mdplyr\u001b[39m::\u001b[32mlag()\u001b[39m    masks \u001b[34mstats\u001b[39m::lag()\n",
            "\u001b[36mℹ\u001b[39m Use the conflicted package (\u001b[3m\u001b[34m<http://conflicted.r-lib.org/>\u001b[39m\u001b[23m) to force all conflicts to become errors\n"
          ]
        }
      ]
    },
    {
      "cell_type": "code",
      "source": [
        "data <- read.csv(\"/content/train.csv\")"
      ],
      "metadata": {
        "id": "v-S4UQRkQQnA"
      },
      "execution_count": null,
      "outputs": []
    },
    {
      "cell_type": "code",
      "source": [
        "dim(data)\n",
        "head(data)"
      ],
      "metadata": {
        "colab": {
          "base_uri": "https://localhost:8080/",
          "height": 304
        },
        "id": "Kns09cUkQd7Q",
        "outputId": "d8f2bb27-7615-4283-b666-9367465bcccd"
      },
      "execution_count": null,
      "outputs": [
        {
          "output_type": "display_data",
          "data": {
            "text/html": [
              "<style>\n",
              ".list-inline {list-style: none; margin:0; padding: 0}\n",
              ".list-inline>li {display: inline-block}\n",
              ".list-inline>li:not(:last-child)::after {content: \"\\00b7\"; padding: 0 .5ex}\n",
              "</style>\n",
              "<ol class=list-inline><li>891</li><li>7</li></ol>\n"
            ],
            "text/markdown": "1. 891\n2. 7\n\n\n",
            "text/latex": "\\begin{enumerate*}\n\\item 891\n\\item 7\n\\end{enumerate*}\n",
            "text/plain": [
              "[1] 891   7"
            ]
          },
          "metadata": {}
        },
        {
          "output_type": "display_data",
          "data": {
            "text/html": [
              "<table class=\"dataframe\">\n",
              "<caption>A data.frame: 6 × 7</caption>\n",
              "<thead>\n",
              "\t<tr><th></th><th scope=col>Survived</th><th scope=col>Pclass</th><th scope=col>Sex</th><th scope=col>Age</th><th scope=col>SibSp</th><th scope=col>Parch</th><th scope=col>Fare</th></tr>\n",
              "\t<tr><th></th><th scope=col>&lt;int&gt;</th><th scope=col>&lt;int&gt;</th><th scope=col>&lt;chr&gt;</th><th scope=col>&lt;dbl&gt;</th><th scope=col>&lt;int&gt;</th><th scope=col>&lt;int&gt;</th><th scope=col>&lt;dbl&gt;</th></tr>\n",
              "</thead>\n",
              "<tbody>\n",
              "\t<tr><th scope=row>1</th><td>0</td><td>3</td><td>male  </td><td>22</td><td>1</td><td>0</td><td> 7.2500</td></tr>\n",
              "\t<tr><th scope=row>2</th><td>1</td><td>1</td><td>female</td><td>38</td><td>1</td><td>0</td><td>71.2833</td></tr>\n",
              "\t<tr><th scope=row>3</th><td>1</td><td>3</td><td>female</td><td>26</td><td>0</td><td>0</td><td> 7.9250</td></tr>\n",
              "\t<tr><th scope=row>4</th><td>1</td><td>1</td><td>female</td><td>35</td><td>1</td><td>0</td><td>53.1000</td></tr>\n",
              "\t<tr><th scope=row>5</th><td>0</td><td>3</td><td>male  </td><td>35</td><td>0</td><td>0</td><td> 8.0500</td></tr>\n",
              "\t<tr><th scope=row>6</th><td>0</td><td>3</td><td>male  </td><td>NA</td><td>0</td><td>0</td><td> 8.4583</td></tr>\n",
              "</tbody>\n",
              "</table>\n"
            ],
            "text/markdown": "\nA data.frame: 6 × 7\n\n| <!--/--> | Survived &lt;int&gt; | Pclass &lt;int&gt; | Sex &lt;chr&gt; | Age &lt;dbl&gt; | SibSp &lt;int&gt; | Parch &lt;int&gt; | Fare &lt;dbl&gt; |\n|---|---|---|---|---|---|---|---|\n| 1 | 0 | 3 | male   | 22 | 1 | 0 |  7.2500 |\n| 2 | 1 | 1 | female | 38 | 1 | 0 | 71.2833 |\n| 3 | 1 | 3 | female | 26 | 0 | 0 |  7.9250 |\n| 4 | 1 | 1 | female | 35 | 1 | 0 | 53.1000 |\n| 5 | 0 | 3 | male   | 35 | 0 | 0 |  8.0500 |\n| 6 | 0 | 3 | male   | NA | 0 | 0 |  8.4583 |\n\n",
            "text/latex": "A data.frame: 6 × 7\n\\begin{tabular}{r|lllllll}\n  & Survived & Pclass & Sex & Age & SibSp & Parch & Fare\\\\\n  & <int> & <int> & <chr> & <dbl> & <int> & <int> & <dbl>\\\\\n\\hline\n\t1 & 0 & 3 & male   & 22 & 1 & 0 &  7.2500\\\\\n\t2 & 1 & 1 & female & 38 & 1 & 0 & 71.2833\\\\\n\t3 & 1 & 3 & female & 26 & 0 & 0 &  7.9250\\\\\n\t4 & 1 & 1 & female & 35 & 1 & 0 & 53.1000\\\\\n\t5 & 0 & 3 & male   & 35 & 0 & 0 &  8.0500\\\\\n\t6 & 0 & 3 & male   & NA & 0 & 0 &  8.4583\\\\\n\\end{tabular}\n",
            "text/plain": [
              "  Survived Pclass Sex    Age SibSp Parch Fare   \n",
              "1 0        3      male   22  1     0      7.2500\n",
              "2 1        1      female 38  1     0     71.2833\n",
              "3 1        3      female 26  0     0      7.9250\n",
              "4 1        1      female 35  1     0     53.1000\n",
              "5 0        3      male   35  0     0      8.0500\n",
              "6 0        3      male   NA  0     0      8.4583"
            ]
          },
          "metadata": {}
        }
      ]
    },
    {
      "cell_type": "code",
      "source": [
        "summary(data)"
      ],
      "metadata": {
        "colab": {
          "base_uri": "https://localhost:8080/",
          "height": 295
        },
        "id": "7lM0aR85QvwS",
        "outputId": "77b8a067-890e-4400-90df-c8c1584f41fb"
      },
      "execution_count": null,
      "outputs": [
        {
          "output_type": "display_data",
          "data": {
            "text/plain": [
              "    Survived          Pclass          Sex                 Age       \n",
              " Min.   :0.0000   Min.   :1.000   Length:891         Min.   : 0.42  \n",
              " 1st Qu.:0.0000   1st Qu.:2.000   Class :character   1st Qu.:20.12  \n",
              " Median :0.0000   Median :3.000   Mode  :character   Median :28.00  \n",
              " Mean   :0.3838   Mean   :2.309                      Mean   :29.70  \n",
              " 3rd Qu.:1.0000   3rd Qu.:3.000                      3rd Qu.:38.00  \n",
              " Max.   :1.0000   Max.   :3.000                      Max.   :80.00  \n",
              "                                                     NA's   :177    \n",
              "     SibSp           Parch             Fare       \n",
              " Min.   :0.000   Min.   :0.0000   Min.   :  0.00  \n",
              " 1st Qu.:0.000   1st Qu.:0.0000   1st Qu.:  7.91  \n",
              " Median :0.000   Median :0.0000   Median : 14.45  \n",
              " Mean   :0.523   Mean   :0.3816   Mean   : 32.20  \n",
              " 3rd Qu.:1.000   3rd Qu.:0.0000   3rd Qu.: 31.00  \n",
              " Max.   :8.000   Max.   :6.0000   Max.   :512.33  \n",
              "                                                  "
            ]
          },
          "metadata": {}
        }
      ]
    },
    {
      "cell_type": "code",
      "source": [
        "data$Age <- as.numeric(data$Age)\n",
        "data$Fare <- as.numeric(data$Fare)"
      ],
      "metadata": {
        "id": "EUtFSfw9QgCx"
      },
      "execution_count": null,
      "outputs": []
    },
    {
      "cell_type": "code",
      "source": [
        "summary(data)"
      ],
      "metadata": {
        "colab": {
          "base_uri": "https://localhost:8080/",
          "height": 295
        },
        "id": "Wu9usqFfUdfZ",
        "outputId": "b355d53e-8576-4358-e04f-336cadb6065e"
      },
      "execution_count": null,
      "outputs": [
        {
          "output_type": "display_data",
          "data": {
            "text/plain": [
              "    Survived          Pclass          Sex                 Age       \n",
              " Min.   :0.0000   Min.   :1.000   Length:891         Min.   : 0.42  \n",
              " 1st Qu.:0.0000   1st Qu.:2.000   Class :character   1st Qu.:20.12  \n",
              " Median :0.0000   Median :3.000   Mode  :character   Median :28.00  \n",
              " Mean   :0.3838   Mean   :2.309                      Mean   :29.70  \n",
              " 3rd Qu.:1.0000   3rd Qu.:3.000                      3rd Qu.:38.00  \n",
              " Max.   :1.0000   Max.   :3.000                      Max.   :80.00  \n",
              "                                                     NA's   :177    \n",
              "     SibSp           Parch             Fare       \n",
              " Min.   :0.000   Min.   :0.0000   Min.   :  0.00  \n",
              " 1st Qu.:0.000   1st Qu.:0.0000   1st Qu.:  7.91  \n",
              " Median :0.000   Median :0.0000   Median : 14.45  \n",
              " Mean   :0.523   Mean   :0.3816   Mean   : 32.20  \n",
              " 3rd Qu.:1.000   3rd Qu.:0.0000   3rd Qu.: 31.00  \n",
              " Max.   :8.000   Max.   :6.0000   Max.   :512.33  \n",
              "                                                  "
            ]
          },
          "metadata": {}
        }
      ]
    },
    {
      "cell_type": "code",
      "source": [
        "# Fill missing values in Age column with median\n",
        "data$Age[is.na(data$Age)] <- median(data$Age, na.rm = TRUE)\n",
        "\n",
        "# Fill missing values in Sex column with mode\n",
        "data$Sex[is.na(data$Sex)] <- \"male\""
      ],
      "metadata": {
        "id": "ofuSb3quQkjF"
      },
      "execution_count": null,
      "outputs": []
    },
    {
      "cell_type": "code",
      "source": [
        "data$Fare <- scale(data$Fare)\n",
        "data$Age <- scale(data$Age)"
      ],
      "metadata": {
        "id": "6FsH9fa0RLna"
      },
      "execution_count": null,
      "outputs": []
    },
    {
      "cell_type": "code",
      "source": [
        "data$Fare <- (data$Fare - min(data$Fare)) / (max(data$Fare) - min(data$Fare))"
      ],
      "metadata": {
        "id": "JjRtguXARn-s"
      },
      "execution_count": null,
      "outputs": []
    },
    {
      "cell_type": "code",
      "source": [
        "encoded_data <- cbind(data, model.matrix(~ Sex - 1, data))"
      ],
      "metadata": {
        "id": "EccTAGEqRqp8"
      },
      "execution_count": null,
      "outputs": []
    },
    {
      "cell_type": "code",
      "source": [
        "mapping <- c(\"male\" = 0, \"female\" = 1)\n",
        "data$Sex <- mapping[data$Sex]"
      ],
      "metadata": {
        "id": "jEGhDd8sRtkO"
      },
      "execution_count": null,
      "outputs": []
    },
    {
      "cell_type": "code",
      "source": [
        "boxplot(data$Fare,main=\"Before Removing Outliers\")\n",
        "boxplot(data$Age,main=\"Before Removing Outliers\")\n",
        "\n",
        "IQR_value <- IQR(data$Fare)\n",
        "lower_bound <- quantile(data$Fare, 0.25) - 1.5 * IQR_value\n",
        "upper_bound <- quantile(data$Fare, 0.75) + 1.5 * IQR_value\n",
        "data <- data[data$Fare >= lower_bound & data$Fare <= upper_bound, ]\n",
        "\n",
        "\n",
        "IQR_value <- IQR(data$Age)\n",
        "lower_bound <- quantile(data$Age, 0.25) - 1.5 * IQR_value\n",
        "upper_bound <- quantile(data$Age, 0.75) + 1.5 * IQR_value\n",
        "data <- data[data$Age >= lower_bound & data$Age <= upper_bound, ]\n",
        "\n",
        "boxplot(data$Fare, main=\"After Removing Outliers\")\n",
        "boxplot(data$Age, main=\"After Removing Outliers\")"
      ],
      "metadata": {
        "colab": {
          "base_uri": "https://localhost:8080/",
          "height": 1000
        },
        "id": "-B-diYsvRxwj",
        "outputId": "73e20ad0-e2f7-4930-de74-26dcd274d8f4"
      },
      "execution_count": null,
      "outputs": [
        {
          "output_type": "display_data",
          "data": {
            "text/plain": [
              "Plot with title “Before Removing Outliers”"
            ],
            "image/png": "[encoded data removed]"
          },
          "metadata": {
            "image/png": {
              "width": 420,
              "height": 420
            }
          }
        },
        {
          "output_type": "display_data",
          "data": {
            "text/plain": [
              "Plot with title “Before Removing Outliers”"
            ],
            "image/png": "[encoded data removed]"
          },
          "metadata": {
            "image/png": {
              "width": 420,
              "height": 420
            }
          }
        },
        {
          "output_type": "display_data",
          "data": {
            "text/plain": [
              "Plot with title “After Removing Outliers”"
            ],
            "image/png": "[encoded data removed]"
          },
          "metadata": {
            "image/png": {
              "width": 420,
              "height": 420
            }
          }
        },
        {
          "output_type": "display_data",
          "data": {
            "text/plain": [
              "Plot with title “After Removing Outliers”"
            ],
            "image/png": "[encoded data removed]"
          },
          "metadata": {
            "image/png": {
              "width": 420,
              "height": 420
            }
          }
        }
      ]
    },
    {
      "cell_type": "code",
      "source": [
        "boxplot(data)"
      ],
      "metadata": {
        "colab": {
          "base_uri": "https://localhost:8080/",
          "height": 437
        },
        "id": "t0ItRNI3RzHI",
        "outputId": "a44047df-43fc-4e08-f3ac-5346ad657a98"
      },
      "execution_count": null,
      "outputs": [
        {
          "output_type": "display_data",
          "data": {
            "text/plain": [
              "plot without title"
            ],
            "image/png": "[encoded data removed]"
          },
          "metadata": {
            "image/png": {
              "width": 420,
              "height": 420
            }
          }
        }
      ]
    },
    {
      "cell_type": "code",
      "source": [
        "head(data)"
      ],
      "metadata": {
        "colab": {
          "base_uri": "https://localhost:8080/",
          "height": 286
        },
        "id": "IxLNl571TkSY",
        "outputId": "63af8a10-d2da-4a1b-fb39-4b21210ac808"
      },
      "execution_count": null,
      "outputs": [
        {
          "output_type": "display_data",
          "data": {
            "text/html": [
              "<table class=\"dataframe\">\n",
              "<caption>A data.frame: 6 × 7</caption>\n",
              "<thead>\n",
              "\t<tr><th></th><th scope=col>Survived</th><th scope=col>Pclass</th><th scope=col>Sex</th><th scope=col>Age</th><th scope=col>SibSp</th><th scope=col>Parch</th><th scope=col>Fare</th></tr>\n",
              "\t<tr><th></th><th scope=col>&lt;int&gt;</th><th scope=col>&lt;int&gt;</th><th scope=col>&lt;dbl&gt;</th><th scope=col>&lt;dbl[,1]&gt;</th><th scope=col>&lt;int&gt;</th><th scope=col>&lt;int&gt;</th><th scope=col>&lt;dbl[,1]&gt;</th></tr>\n",
              "</thead>\n",
              "<tbody>\n",
              "\t<tr><th scope=row>1</th><td>0</td><td>3</td><td>0</td><td>-0.5654189</td><td>1</td><td>0</td><td>-0.5021631</td></tr>\n",
              "\t<tr><th scope=row>3</th><td>1</td><td>3</td><td>1</td><td>-0.2581921</td><td>0</td><td>0</td><td>-0.4885799</td></tr>\n",
              "\t<tr><th scope=row>4</th><td>1</td><td>1</td><td>1</td><td> 0.4330683</td><td>1</td><td>0</td><td> 0.4204941</td></tr>\n",
              "\t<tr><th scope=row>5</th><td>0</td><td>3</td><td>0</td><td> 0.4330683</td><td>0</td><td>0</td><td>-0.4860644</td></tr>\n",
              "\t<tr><th scope=row>6</th><td>0</td><td>3</td><td>0</td><td>-0.1045787</td><td>0</td><td>0</td><td>-0.4778481</td></tr>\n",
              "\t<tr><th scope=row>7</th><td>0</td><td>1</td><td>0</td><td> 1.8923957</td><td>0</td><td>0</td><td> 0.3955914</td></tr>\n",
              "</tbody>\n",
              "</table>\n"
            ],
            "text/markdown": "\nA data.frame: 6 × 7\n\n| <!--/--> | Survived &lt;int&gt; | Pclass &lt;int&gt; | Sex &lt;dbl&gt; | Age &lt;dbl[,1]&gt; | SibSp &lt;int&gt; | Parch &lt;int&gt; | Fare &lt;dbl[,1]&gt; |\n|---|---|---|---|---|---|---|---|\n| 1 | 0 | 3 | 0 | -0.5654189 | 1 | 0 | -0.5021631 |\n| 3 | 1 | 3 | 1 | -0.2581921 | 0 | 0 | -0.4885799 |\n| 4 | 1 | 1 | 1 |  0.4330683 | 1 | 0 |  0.4204941 |\n| 5 | 0 | 3 | 0 |  0.4330683 | 0 | 0 | -0.4860644 |\n| 6 | 0 | 3 | 0 | -0.1045787 | 0 | 0 | -0.4778481 |\n| 7 | 0 | 1 | 0 |  1.8923957 | 0 | 0 |  0.3955914 |\n\n",
            "text/latex": "A data.frame: 6 × 7\n\\begin{tabular}{r|lllllll}\n  & Survived & Pclass & Sex & Age & SibSp & Parch & Fare\\\\\n  & <int> & <int> & <dbl> & <dbl{[},1{]}> & <int> & <int> & <dbl{[},1{]}>\\\\\n\\hline\n\t1 & 0 & 3 & 0 & -0.5654189 & 1 & 0 & -0.5021631\\\\\n\t3 & 1 & 3 & 1 & -0.2581921 & 0 & 0 & -0.4885799\\\\\n\t4 & 1 & 1 & 1 &  0.4330683 & 1 & 0 &  0.4204941\\\\\n\t5 & 0 & 3 & 0 &  0.4330683 & 0 & 0 & -0.4860644\\\\\n\t6 & 0 & 3 & 0 & -0.1045787 & 0 & 0 & -0.4778481\\\\\n\t7 & 0 & 1 & 0 &  1.8923957 & 0 & 0 &  0.3955914\\\\\n\\end{tabular}\n",
            "text/plain": [
              "  Survived Pclass Sex Age        SibSp Parch Fare      \n",
              "1 0        3      0   -0.5654189 1     0     -0.5021631\n",
              "3 1        3      1   -0.2581921 0     0     -0.4885799\n",
              "4 1        1      1    0.4330683 1     0      0.4204941\n",
              "5 0        3      0    0.4330683 0     0     -0.4860644\n",
              "6 0        3      0   -0.1045787 0     0     -0.4778481\n",
              "7 0        1      0    1.8923957 0     0      0.3955914"
            ]
          },
          "metadata": {}
        }
      ]
    },
    {
      "cell_type": "markdown",
      "source": [
        "Outlier Detection"
      ],
      "metadata": {
        "id": "Qe-_Xv-aimhU"
      }
    },
    {
      "cell_type": "code",
      "source": [
        "sample_data <- data.frame(x=c(1, 2, 3, 4, 3, 12, 3, 4, 4, 15, 0),\n",
        "                           y=c(4, 3, 25, 7, 8, 5, 9, 77, 6, 5, 0),\n",
        "                           z=c(1, 3, 2, 90, 8, 7, 0, 48, 7, 2, 3))\n",
        "\n",
        "print(\"Display original dataframe\")\n",
        "sample_data\n",
        "boxplot(sample_data)"
      ],
      "metadata": {
        "colab": {
          "base_uri": "https://localhost:8080/",
          "height": 880
        },
        "id": "xQCmkg-QZaJm",
        "outputId": "fdd94533-c3fe-4c0c-f4b0-d8f538687090"
      },
      "execution_count": null,
      "outputs": [
        {
          "output_type": "stream",
          "name": "stdout",
          "text": [
            "[1] \"Display original dataframe\"\n"
          ]
        },
        {
          "output_type": "display_data",
          "data": {
            "text/html": [
              "<table class=\"dataframe\">\n",
              "<caption>A data.frame: 11 × 3</caption>\n",
              "<thead>\n",
              "\t<tr><th scope=col>x</th><th scope=col>y</th><th scope=col>z</th></tr>\n",
              "\t<tr><th scope=col>&lt;dbl&gt;</th><th scope=col>&lt;dbl&gt;</th><th scope=col>&lt;dbl&gt;</th></tr>\n",
              "</thead>\n",
              "<tbody>\n",
              "\t<tr><td> 1</td><td> 4</td><td> 1</td></tr>\n",
              "\t<tr><td> 2</td><td> 3</td><td> 3</td></tr>\n",
              "\t<tr><td> 3</td><td>25</td><td> 2</td></tr>\n",
              "\t<tr><td> 4</td><td> 7</td><td>90</td></tr>\n",
              "\t<tr><td> 3</td><td> 8</td><td> 8</td></tr>\n",
              "\t<tr><td>12</td><td> 5</td><td> 7</td></tr>\n",
              "\t<tr><td> 3</td><td> 9</td><td> 0</td></tr>\n",
              "\t<tr><td> 4</td><td>77</td><td>48</td></tr>\n",
              "\t<tr><td> 4</td><td> 6</td><td> 7</td></tr>\n",
              "\t<tr><td>15</td><td> 5</td><td> 2</td></tr>\n",
              "\t<tr><td> 0</td><td> 0</td><td> 3</td></tr>\n",
              "</tbody>\n",
              "</table>\n"
            ],
            "text/markdown": "\nA data.frame: 11 × 3\n\n| x &lt;dbl&gt; | y &lt;dbl&gt; | z &lt;dbl&gt; |\n|---|---|---|\n|  1 |  4 |  1 |\n|  2 |  3 |  3 |\n|  3 | 25 |  2 |\n|  4 |  7 | 90 |\n|  3 |  8 |  8 |\n| 12 |  5 |  7 |\n|  3 |  9 |  0 |\n|  4 | 77 | 48 |\n|  4 |  6 |  7 |\n| 15 |  5 |  2 |\n|  0 |  0 |  3 |\n\n",
            "text/latex": "A data.frame: 11 × 3\n\\begin{tabular}{lll}\n x & y & z\\\\\n <dbl> & <dbl> & <dbl>\\\\\n\\hline\n\t  1 &  4 &  1\\\\\n\t  2 &  3 &  3\\\\\n\t  3 & 25 &  2\\\\\n\t  4 &  7 & 90\\\\\n\t  3 &  8 &  8\\\\\n\t 12 &  5 &  7\\\\\n\t  3 &  9 &  0\\\\\n\t  4 & 77 & 48\\\\\n\t  4 &  6 &  7\\\\\n\t 15 &  5 &  2\\\\\n\t  0 &  0 &  3\\\\\n\\end{tabular}\n",
            "text/plain": [
              "   x  y  z \n",
              "1   1  4  1\n",
              "2   2  3  3\n",
              "3   3 25  2\n",
              "4   4  7 90\n",
              "5   3  8  8\n",
              "6  12  5  7\n",
              "7   3  9  0\n",
              "8   4 77 48\n",
              "9   4  6  7\n",
              "10 15  5  2\n",
              "11  0  0  3"
            ]
          },
          "metadata": {}
        },
        {
          "output_type": "display_data",
          "data": {
            "text/plain": [
              "plot without title"
            ],
            "image/png": "[encoded data removed]"
          },
          "metadata": {
            "image/png": {
              "width": 420,
              "height": 420
            }
          }
        }
      ]
    },
    {
      "cell_type": "code",
      "source": [
        "detect_outlier <- function(x) {\n",
        "\n",
        "  Quantile1 <- quantile(x, probs=.25)\n",
        "  Quantile3 <- quantile(x, probs=.75)\n",
        "\n",
        "  IQR = Quantile3-Quantile1\n",
        "\n",
        "  x > Quantile3 + (IQR*1.5) | x < Quantile1 - (IQR*1.5)\n",
        "}\n",
        "\n",
        "remove_outlier <- function(dataframe,\n",
        "                            columns=names(dataframe)) {\n",
        "\n",
        "  for (col in columns) {\n",
        "    dataframe <- dataframe[!detect_outlier(dataframe[[col]]), ]\n",
        "  }\n",
        "\n",
        "  return(dataframe)\n",
        "}\n",
        "remove_outlier(sample_data, c('x', 'y', 'z'))\n"
      ],
      "metadata": {
        "colab": {
          "base_uri": "https://localhost:8080/",
          "height": 255
        },
        "id": "brqmvNV8ipTX",
        "outputId": "ce08d96f-7483-461d-f8ad-98172635b347"
      },
      "execution_count": null,
      "outputs": [
        {
          "output_type": "display_data",
          "data": {
            "text/html": [
              "<table class=\"dataframe\">\n",
              "<caption>A data.frame: 5 × 3</caption>\n",
              "<thead>\n",
              "\t<tr><th></th><th scope=col>x</th><th scope=col>y</th><th scope=col>z</th></tr>\n",
              "\t<tr><th></th><th scope=col>&lt;dbl&gt;</th><th scope=col>&lt;dbl&gt;</th><th scope=col>&lt;dbl&gt;</th></tr>\n",
              "</thead>\n",
              "<tbody>\n",
              "\t<tr><th scope=row>1</th><td>1</td><td>4</td><td>1</td></tr>\n",
              "\t<tr><th scope=row>2</th><td>2</td><td>3</td><td>3</td></tr>\n",
              "\t<tr><th scope=row>5</th><td>3</td><td>8</td><td>8</td></tr>\n",
              "\t<tr><th scope=row>7</th><td>3</td><td>9</td><td>0</td></tr>\n",
              "\t<tr><th scope=row>9</th><td>4</td><td>6</td><td>7</td></tr>\n",
              "</tbody>\n",
              "</table>\n"
            ],
            "text/markdown": "\nA data.frame: 5 × 3\n\n| <!--/--> | x &lt;dbl&gt; | y &lt;dbl&gt; | z &lt;dbl&gt; |\n|---|---|---|---|\n| 1 | 1 | 4 | 1 |\n| 2 | 2 | 3 | 3 |\n| 5 | 3 | 8 | 8 |\n| 7 | 3 | 9 | 0 |\n| 9 | 4 | 6 | 7 |\n\n",
            "text/latex": "A data.frame: 5 × 3\n\\begin{tabular}{r|lll}\n  & x & y & z\\\\\n  & <dbl> & <dbl> & <dbl>\\\\\n\\hline\n\t1 & 1 & 4 & 1\\\\\n\t2 & 2 & 3 & 3\\\\\n\t5 & 3 & 8 & 8\\\\\n\t7 & 3 & 9 & 0\\\\\n\t9 & 4 & 6 & 7\\\\\n\\end{tabular}\n",
            "text/plain": [
              "  x y z\n",
              "1 1 4 1\n",
              "2 2 3 3\n",
              "5 3 8 8\n",
              "7 3 9 0\n",
              "9 4 6 7"
            ]
          },
          "metadata": {}
        }
      ]
    },
    {
      "cell_type": "markdown",
      "source": [
        "donut plot"
      ],
      "metadata": {
        "id": "niPdGx7qWAfc"
      }
    },
    {
      "cell_type": "code",
      "source": [
        "install.packages(\"webr\")\n",
        "library(webr)"
      ],
      "metadata": {
        "colab": {
          "base_uri": "https://localhost:8080/"
        },
        "id": "pkXQwLYsRzkC",
        "outputId": "8387f5b5-c803-43eb-e5f6-7b8f08343419"
      },
      "execution_count": null,
      "outputs": [
        {
          "output_type": "stream",
          "name": "stderr",
          "text": [
            "Installing package into ‘/usr/local/lib/R/site-library’\n",
            "(as ‘lib’ is unspecified)\n",
            "\n",
            "also installing the dependencies ‘rbibutils’, ‘Deriv’, ‘microbenchmark’, ‘Rdpack’, ‘numDeriv’, ‘doBy’, ‘SparseM’, ‘MatrixModels’, ‘minqa’, ‘nloptr’, ‘reformulas’, ‘R.oo’, ‘R.methodsS3’, ‘carData’, ‘abind’, ‘Formula’, ‘pbkrtest’, ‘quantreg’, ‘lme4’, ‘fontBitstreamVera’, ‘fontLiberation’, ‘writexl’, ‘R.utils’, ‘corrplot’, ‘car’, ‘fontquiver’, ‘DT’, ‘rio’, ‘openxlsx’, ‘ggrepel’, ‘ggsci’, ‘cowplot’, ‘ggsignif’, ‘gridExtra’, ‘polynom’, ‘rstatix’, ‘zoo’, ‘nortest’, ‘sjmisc’, ‘insight’, ‘datawizard’, ‘gdtools’, ‘officer’, ‘rvg’, ‘devEMF’, ‘editData’, ‘shinyWidgets’, ‘ggpubr’, ‘mnormt’, ‘GPArotation’, ‘tweenr’, ‘polyclip’, ‘RcppEigen’, ‘lmtest’, ‘moonBook’, ‘sjlabelled’, ‘flextable’, ‘rrtable’, ‘psych’, ‘ztable’, ‘ggforce’, ‘vcd’\n",
            "\n",
            "\n"
          ]
        }
      ]
    },
    {
      "cell_type": "code",
      "source": [
        "# Create a new dataset\n",
        "devices <- structure(\n",
        "list(\n",
        "\tdevice = structure(\n",
        "\tc(1L, 1L, 2L, 2L, 3L, 3L),\n",
        "\t.Label = c(\"Desktop\", \"Mobile\", \"Tablet\"),\n",
        "\tclass = \"factor\"\n",
        "\t),\n",
        "\tbrowser = structure(\n",
        "\tc(1L, 2L, 1L, 2L, 1L, 2L),\n",
        "\t.Label = c(\"Chrome\", \"Safari\"),\n",
        "\tclass = \"factor\"\n",
        "\t),\n",
        "\tshare = c(60, 40, 80, 20, 50, 50)\n",
        "),\n",
        ".Names = c(\"device\", \"browser\", \"share\"),\n",
        "row.names = c(NA, -6L),\n",
        "class = \"data.frame\"\n",
        ")\n"
      ],
      "metadata": {
        "id": "M109SFTiSQfx"
      },
      "execution_count": null,
      "outputs": []
    },
    {
      "cell_type": "code",
      "source": [
        "# Create a Pie-Donut chart using webr library\n",
        "PieDonut(devices, aes(x = device, y = browser, count = share),\n",
        "\t\tratioByGroup = FALSE)\n"
      ],
      "metadata": {
        "colab": {
          "base_uri": "https://localhost:8080/",
          "height": 524
        },
        "id": "_Pm7ani7V0QJ",
        "outputId": "5f7b9ab3-0160-454a-a650-880541908534"
      },
      "execution_count": null,
      "outputs": [
        {
          "output_type": "stream",
          "name": "stderr",
          "text": [
            "Warning message:\n",
            "“\u001b[1m\u001b[22mThe `<scale>` argument of `guides()` cannot be `FALSE`. Use \"none\" instead as\n",
            "of ggplot2 3.3.4.\n",
            "\u001b[36mℹ\u001b[39m The deprecated feature was likely used in the \u001b[34mwebr\u001b[39m package.\n",
            "  Please report the issue at \u001b[3m\u001b[34m<https://github.com/cardiomoon/webr/issues>\u001b[39m\u001b[23m.”\n"
          ]
        },
        {
          "output_type": "display_data",
          "data": {
            "text/plain": [
              "plot without title"
            ],
            "image/png": "[encoded data removed]"
          },
          "metadata": {
            "image/png": {
              "width": 420,
              "height": 420
            }
          }
        }
      ]
    },
    {
      "cell_type": "code",
      "source": [
        "PieDonut(devices, aes(x = device, y = browser, count = share),\n",
        "\t\texplode = 2, explodeDonut = TRUE,\n",
        "\t\tselected = c(2,4,6),\n",
        "\t\tstart = 120,\n",
        "\t\ttitle = \"Browser market share by device\",\n",
        "\t\tr0=0.3,r1=0.6,r2=0.9,\n",
        "\t\tratioByGroup = FALSE)\n"
      ],
      "metadata": {
        "colab": {
          "base_uri": "https://localhost:8080/",
          "height": 472
        },
        "id": "BpKYlxliV0sq",
        "outputId": "71e0d502-4adc-4958-835b-ee917541ef4f"
      },
      "execution_count": null,
      "outputs": [
        {
          "output_type": "stream",
          "name": "stderr",
          "text": [
            "Warning message in geom_arc_bar(aes_string(x0 = \"x\", y0 = \"y\", r0 = as.character(r1), :\n",
            "“\u001b[1m\u001b[22mIgnoring unknown aesthetics: \u001b[32mexplode\u001b[39m”\n"
          ]
        },
        {
          "output_type": "display_data",
          "data": {
            "text/plain": [
              "plot without title"
            ],
            "image/png": "[encoded data removed]"
          },
          "metadata": {
            "image/png": {
              "width": 420,
              "height": 420
            }
          }
        }
      ]
    },
    {
      "cell_type": "code",
      "source": [
        "PieDonut(devices, aes(x = device, y = browser, count = share),\n",
        "\t\texplode = 2, explodeDonut = TRUE,\n",
        "\t\tselected = c(2,4,6),\n",
        "\t\tratioByGroup = FALSE)"
      ],
      "metadata": {
        "colab": {
          "base_uri": "https://localhost:8080/",
          "height": 472
        },
        "id": "G5VbFdF_WGUp",
        "outputId": "f3e17314-8b8b-4ebc-e131-e7500172a4b7"
      },
      "execution_count": null,
      "outputs": [
        {
          "output_type": "stream",
          "name": "stderr",
          "text": [
            "Warning message in geom_arc_bar(aes_string(x0 = \"x\", y0 = \"y\", r0 = as.character(r1), :\n",
            "“\u001b[1m\u001b[22mIgnoring unknown aesthetics: \u001b[32mexplode\u001b[39m”\n"
          ]
        },
        {
          "output_type": "display_data",
          "data": {
            "text/plain": [
              "plot without title"
            ],
            "image/png": "[encoded data removed]"
          },
          "metadata": {
            "image/png": {
              "width": 420,
              "height": 420
            }
          }
        }
      ]
    },
    {
      "cell_type": "code",
      "source": [
        "install.packages(\"purrr\")\n",
        "library(purrr)\n",
        "\n",
        "df <- data.frame(\n",
        "  x = c(1, 2, 3, 4),\n",
        "  y = c(5, 6, 7, 8)\n",
        ")\n",
        "\n",
        "walk(df$y, ~ print(.x * 3))"
      ],
      "metadata": {
        "colab": {
          "base_uri": "https://localhost:8080/"
        },
        "id": "PnRcRsKdWJzl",
        "outputId": "3168bd22-a9e7-4080-f79d-caad8eff0cce"
      },
      "execution_count": null,
      "outputs": [
        {
          "output_type": "stream",
          "name": "stderr",
          "text": [
            "Installing package into ‘/usr/local/lib/R/site-library’\n",
            "(as ‘lib’ is unspecified)\n",
            "\n"
          ]
        },
        {
          "output_type": "stream",
          "name": "stdout",
          "text": [
            "[1] 15\n",
            "[1] 18\n",
            "[1] 21\n",
            "[1] 24\n"
          ]
        }
      ]
    },
    {
      "cell_type": "code",
      "source": [
        "library(dplyr)\n",
        "data(\"iris\")\n",
        "long_sepals <- filter(iris, Sepal.Length > 5)\n",
        "petal_sum <- reduce(long_sepals$Petal.Length, `+`)\n",
        "petal_sum"
      ],
      "metadata": {
        "colab": {
          "base_uri": "https://localhost:8080/",
          "height": 34
        },
        "id": "UeIYVj07YjKb",
        "outputId": "4224bfe4-7a91-454a-9b8b-af53726e1d7a"
      },
      "execution_count": null,
      "outputs": [
        {
          "output_type": "display_data",
          "data": {
            "text/html": [
              "509.2"
            ],
            "text/markdown": "509.2",
            "text/latex": "509.2",
            "text/plain": [
              "[1] 509.2"
            ]
          },
          "metadata": {}
        }
      ]
    },
    {
      "cell_type": "code",
      "source": [
        "library(purrr)\n",
        "\n",
        "iris_sum <- iris %>%\n",
        "  pull(Sepal.Length) %>%\n",
        "  accumulate(`+`)\n",
        "\n",
        "print(iris_sum)"
      ],
      "metadata": {
        "colab": {
          "base_uri": "https://localhost:8080/"
        },
        "id": "YwL5Ef4TZ0SL",
        "outputId": "19560c83-d6d1-4ce9-cd38-6403a2efc55a"
      },
      "execution_count": null,
      "outputs": [
        {
          "output_type": "stream",
          "name": "stdout",
          "text": [
            "  [1]   5.1  10.0  14.7  19.3  24.3  29.7  34.3  39.3  43.7  48.6  54.0  58.8\n",
            " [13]  63.6  67.9  73.7  79.4  84.8  89.9  95.6 100.7 106.1 111.2 115.8 120.9\n",
            " [25] 125.7 130.7 135.7 140.9 146.1 150.8 155.6 161.0 166.2 171.7 176.6 181.6\n",
            " [37] 187.1 192.0 196.4 201.5 206.5 211.0 215.4 220.4 225.5 230.3 235.4 240.0\n",
            " [49] 245.3 250.3 257.3 263.7 270.6 276.1 282.6 288.3 294.6 299.5 306.1 311.3\n",
            " [61] 316.3 322.2 328.2 334.3 339.9 346.6 352.2 358.0 364.2 369.8 375.7 381.8\n",
            " [73] 388.1 394.2 400.6 407.2 414.0 420.7 426.7 432.4 437.9 443.4 449.2 455.2\n",
            " [85] 460.6 466.6 473.3 479.6 485.2 490.7 496.2 502.3 508.1 513.1 518.7 524.4\n",
            " [97] 530.1 536.3 541.4 547.1 553.4 559.2 566.3 572.6 579.1 586.7 591.6 598.9\n",
            "[109] 605.6 612.8 619.3 625.7 632.5 638.2 644.0 650.4 656.9 664.6 672.3 678.3\n",
            "[121] 685.2 690.8 698.5 704.8 711.5 718.7 724.9 731.0 737.4 744.6 752.0 759.9\n",
            "[133] 766.3 772.6 778.7 786.4 792.7 799.1 805.1 812.0 818.7 825.6 831.4 838.2\n",
            "[145] 844.9 851.6 857.9 864.4 870.6 876.5\n"
          ]
        }
      ]
    },
    {
      "cell_type": "markdown",
      "source": [
        "# Feature Scaling"
      ],
      "metadata": {
        "id": "wq50REOiQLW1"
      }
    },
    {
      "cell_type": "code",
      "source": [
        "age <- c(19,20,21,22,23,24,24,26,27)\n",
        "\n",
        "salary <- c(10000,20000,30000,40000,\n",
        "            50000,60000,70000,80000,90000)\n",
        "\n",
        "df <- data.frame( \"Age\" = age,\n",
        "                 \"Salary\" = salary,\n",
        "                 stringsAsFactors = FALSE)\n",
        "df"
      ],
      "metadata": {
        "id": "Zbty6hueaJCu",
        "colab": {
          "base_uri": "https://localhost:8080/",
          "height": 398
        },
        "outputId": "e2d2247f-df44-44b4-a4a9-483d928f7570"
      },
      "execution_count": null,
      "outputs": [
        {
          "output_type": "display_data",
          "data": {
            "text/html": [
              "<table class=\"dataframe\">\n",
              "<caption>A data.frame: 9 × 2</caption>\n",
              "<thead>\n",
              "\t<tr><th scope=col>Age</th><th scope=col>Salary</th></tr>\n",
              "\t<tr><th scope=col>&lt;dbl&gt;</th><th scope=col>&lt;dbl&gt;</th></tr>\n",
              "</thead>\n",
              "<tbody>\n",
              "\t<tr><td>19</td><td>10000</td></tr>\n",
              "\t<tr><td>20</td><td>20000</td></tr>\n",
              "\t<tr><td>21</td><td>30000</td></tr>\n",
              "\t<tr><td>22</td><td>40000</td></tr>\n",
              "\t<tr><td>23</td><td>50000</td></tr>\n",
              "\t<tr><td>24</td><td>60000</td></tr>\n",
              "\t<tr><td>24</td><td>70000</td></tr>\n",
              "\t<tr><td>26</td><td>80000</td></tr>\n",
              "\t<tr><td>27</td><td>90000</td></tr>\n",
              "</tbody>\n",
              "</table>\n"
            ],
            "text/markdown": "\nA data.frame: 9 × 2\n\n| Age &lt;dbl&gt; | Salary &lt;dbl&gt; |\n|---|---|\n| 19 | 10000 |\n| 20 | 20000 |\n| 21 | 30000 |\n| 22 | 40000 |\n| 23 | 50000 |\n| 24 | 60000 |\n| 24 | 70000 |\n| 26 | 80000 |\n| 27 | 90000 |\n\n",
            "text/latex": "A data.frame: 9 × 2\n\\begin{tabular}{ll}\n Age & Salary\\\\\n <dbl> & <dbl>\\\\\n\\hline\n\t 19 & 10000\\\\\n\t 20 & 20000\\\\\n\t 21 & 30000\\\\\n\t 22 & 40000\\\\\n\t 23 & 50000\\\\\n\t 24 & 60000\\\\\n\t 24 & 70000\\\\\n\t 26 & 80000\\\\\n\t 27 & 90000\\\\\n\\end{tabular}\n",
            "text/plain": [
              "  Age Salary\n",
              "1 19  10000 \n",
              "2 20  20000 \n",
              "3 21  30000 \n",
              "4 22  40000 \n",
              "5 23  50000 \n",
              "6 24  60000 \n",
              "7 24  70000 \n",
              "8 26  80000 \n",
              "9 27  90000 "
            ]
          },
          "metadata": {}
        }
      ]
    },
    {
      "cell_type": "code",
      "source": [
        "age <- c(19,20,21,22,23,24,24,26,27)\n",
        "\n",
        "salary <- c(10000,20000,30000,40000,\n",
        "            50000,60000,70000,80000,90000)\n",
        "\n",
        "df <- data.frame( \"Age\" = age,\n",
        "                 \"Salary\" = salary,\n",
        "                 stringsAsFactors = FALSE)\n",
        "df"
      ],
      "metadata": {
        "id": "8A2KSbx2QSbB"
      },
      "execution_count": null,
      "outputs": []
    },
    {
      "cell_type": "code",
      "source": [
        "scaled_data <- as.data.frame(sapply(df, function(x)\n",
        "                      (x-mean(x))/sd(x)))\n",
        "scaled_data"
      ],
      "metadata": {
        "colab": {
          "base_uri": "https://localhost:8080/",
          "height": 380
        },
        "id": "D5zq74SQQXob",
        "outputId": "5ed9d42c-750c-4c3c-dff5-5770c6ed63b0"
      },
      "execution_count": null,
      "outputs": [
        {
          "output_type": "display_data",
          "data": {
            "text/html": [
              "<table class=\"dataframe\">\n",
              "<caption>A data.frame: 9 × 2</caption>\n",
              "<thead>\n",
              "\t<tr><th scope=col>Age</th><th scope=col>Salary</th></tr>\n",
              "\t<tr><th scope=col>&lt;dbl&gt;</th><th scope=col>&lt;dbl&gt;</th></tr>\n",
              "</thead>\n",
              "<tbody>\n",
              "\t<tr><td>-1.45833333</td><td>-1.4605935</td></tr>\n",
              "\t<tr><td>-1.08333333</td><td>-1.0954451</td></tr>\n",
              "\t<tr><td>-0.70833333</td><td>-0.7302967</td></tr>\n",
              "\t<tr><td>-0.33333333</td><td>-0.3651484</td></tr>\n",
              "\t<tr><td> 0.04166667</td><td> 0.0000000</td></tr>\n",
              "\t<tr><td> 0.41666667</td><td> 0.3651484</td></tr>\n",
              "\t<tr><td> 0.41666667</td><td> 0.7302967</td></tr>\n",
              "\t<tr><td> 1.16666667</td><td> 1.0954451</td></tr>\n",
              "\t<tr><td> 1.54166667</td><td> 1.4605935</td></tr>\n",
              "</tbody>\n",
              "</table>\n"
            ],
            "text/markdown": "\nA data.frame: 9 × 2\n\n| Age &lt;dbl&gt; | Salary &lt;dbl&gt; |\n|---|---|\n| -1.45833333 | -1.4605935 |\n| -1.08333333 | -1.0954451 |\n| -0.70833333 | -0.7302967 |\n| -0.33333333 | -0.3651484 |\n|  0.04166667 |  0.0000000 |\n|  0.41666667 |  0.3651484 |\n|  0.41666667 |  0.7302967 |\n|  1.16666667 |  1.0954451 |\n|  1.54166667 |  1.4605935 |\n\n",
            "text/latex": "A data.frame: 9 × 2\n\\begin{tabular}{ll}\n Age & Salary\\\\\n <dbl> & <dbl>\\\\\n\\hline\n\t -1.45833333 & -1.4605935\\\\\n\t -1.08333333 & -1.0954451\\\\\n\t -0.70833333 & -0.7302967\\\\\n\t -0.33333333 & -0.3651484\\\\\n\t  0.04166667 &  0.0000000\\\\\n\t  0.41666667 &  0.3651484\\\\\n\t  0.41666667 &  0.7302967\\\\\n\t  1.16666667 &  1.0954451\\\\\n\t  1.54166667 &  1.4605935\\\\\n\\end{tabular}\n",
            "text/plain": [
              "  Age         Salary    \n",
              "1 -1.45833333 -1.4605935\n",
              "2 -1.08333333 -1.0954451\n",
              "3 -0.70833333 -0.7302967\n",
              "4 -0.33333333 -0.3651484\n",
              "5  0.04166667  0.0000000\n",
              "6  0.41666667  0.3651484\n",
              "7  0.41666667  0.7302967\n",
              "8  1.16666667  1.0954451\n",
              "9  1.54166667  1.4605935"
            ]
          },
          "metadata": {}
        }
      ]
    },
    {
      "cell_type": "code",
      "source": [
        "scaled_data2 <- as.data.frame(sapply(df, function(x)\n",
        "                      (x-min(x))/(max(x)-min(x))))\n",
        "scaled_data2"
      ],
      "metadata": {
        "colab": {
          "base_uri": "https://localhost:8080/",
          "height": 398
        },
        "id": "WblIYeMmQYPR",
        "outputId": "860023bf-093c-44fb-9938-873fbe275b5a"
      },
      "execution_count": null,
      "outputs": [
        {
          "output_type": "display_data",
          "data": {
            "text/html": [
              "<table class=\"dataframe\">\n",
              "<caption>A data.frame: 9 × 2</caption>\n",
              "<thead>\n",
              "\t<tr><th scope=col>Age</th><th scope=col>Salary</th></tr>\n",
              "\t<tr><th scope=col>&lt;dbl&gt;</th><th scope=col>&lt;dbl&gt;</th></tr>\n",
              "</thead>\n",
              "<tbody>\n",
              "\t<tr><td>0.000</td><td>0.000</td></tr>\n",
              "\t<tr><td>0.125</td><td>0.125</td></tr>\n",
              "\t<tr><td>0.250</td><td>0.250</td></tr>\n",
              "\t<tr><td>0.375</td><td>0.375</td></tr>\n",
              "\t<tr><td>0.500</td><td>0.500</td></tr>\n",
              "\t<tr><td>0.625</td><td>0.625</td></tr>\n",
              "\t<tr><td>0.625</td><td>0.750</td></tr>\n",
              "\t<tr><td>0.875</td><td>0.875</td></tr>\n",
              "\t<tr><td>1.000</td><td>1.000</td></tr>\n",
              "</tbody>\n",
              "</table>\n"
            ],
            "text/markdown": "\nA data.frame: 9 × 2\n\n| Age &lt;dbl&gt; | Salary &lt;dbl&gt; |\n|---|---|\n| 0.000 | 0.000 |\n| 0.125 | 0.125 |\n| 0.250 | 0.250 |\n| 0.375 | 0.375 |\n| 0.500 | 0.500 |\n| 0.625 | 0.625 |\n| 0.625 | 0.750 |\n| 0.875 | 0.875 |\n| 1.000 | 1.000 |\n\n",
            "text/latex": "A data.frame: 9 × 2\n\\begin{tabular}{ll}\n Age & Salary\\\\\n <dbl> & <dbl>\\\\\n\\hline\n\t 0.000 & 0.000\\\\\n\t 0.125 & 0.125\\\\\n\t 0.250 & 0.250\\\\\n\t 0.375 & 0.375\\\\\n\t 0.500 & 0.500\\\\\n\t 0.625 & 0.625\\\\\n\t 0.625 & 0.750\\\\\n\t 0.875 & 0.875\\\\\n\t 1.000 & 1.000\\\\\n\\end{tabular}\n",
            "text/plain": [
              "  Age   Salary\n",
              "1 0.000 0.000 \n",
              "2 0.125 0.125 \n",
              "3 0.250 0.250 \n",
              "4 0.375 0.375 \n",
              "5 0.500 0.500 \n",
              "6 0.625 0.625 \n",
              "7 0.625 0.750 \n",
              "8 0.875 0.875 \n",
              "9 1.000 1.000 "
            ]
          },
          "metadata": {}
        }
      ]
    },
    {
      "cell_type": "code",
      "source": [
        "install.packages(\"caret\")\n",
        "library(caret)\n",
        "\n",
        "data1.pre <- preProcess(df, method=c(\"center\", \"scale\"))\n",
        "data1<- predict(data1.pre, df)\n",
        "data1"
      ],
      "metadata": {
        "colab": {
          "base_uri": "https://localhost:8080/",
          "height": 574
        },
        "id": "e0gJk-C5QwWT",
        "outputId": "49b74f94-4ea0-44d6-91d8-eed181738867"
      },
      "execution_count": null,
      "outputs": [
        {
          "output_type": "stream",
          "name": "stderr",
          "text": [
            "Installing package into ‘/usr/local/lib/R/site-library’\n",
            "(as ‘lib’ is unspecified)\n",
            "\n",
            "also installing the dependencies ‘listenv’, ‘parallelly’, ‘future’, ‘globals’, ‘shape’, ‘future.apply’, ‘numDeriv’, ‘progressr’, ‘SQUAREM’, ‘diagram’, ‘lava’, ‘prodlim’, ‘proxy’, ‘iterators’, ‘clock’, ‘gower’, ‘hardhat’, ‘ipred’, ‘sparsevctrs’, ‘timeDate’, ‘e1071’, ‘foreach’, ‘ModelMetrics’, ‘plyr’, ‘pROC’, ‘recipes’, ‘reshape2’\n",
            "\n",
            "\n",
            "Loading required package: ggplot2\n",
            "\n",
            "Loading required package: lattice\n",
            "\n"
          ]
        },
        {
          "output_type": "display_data",
          "data": {
            "text/html": [
              "<table class=\"dataframe\">\n",
              "<caption>A data.frame: 9 × 2</caption>\n",
              "<thead>\n",
              "\t<tr><th scope=col>Age</th><th scope=col>Salary</th></tr>\n",
              "\t<tr><th scope=col>&lt;dbl&gt;</th><th scope=col>&lt;dbl&gt;</th></tr>\n",
              "</thead>\n",
              "<tbody>\n",
              "\t<tr><td>-1.45833333</td><td>-1.4605935</td></tr>\n",
              "\t<tr><td>-1.08333333</td><td>-1.0954451</td></tr>\n",
              "\t<tr><td>-0.70833333</td><td>-0.7302967</td></tr>\n",
              "\t<tr><td>-0.33333333</td><td>-0.3651484</td></tr>\n",
              "\t<tr><td> 0.04166667</td><td> 0.0000000</td></tr>\n",
              "\t<tr><td> 0.41666667</td><td> 0.3651484</td></tr>\n",
              "\t<tr><td> 0.41666667</td><td> 0.7302967</td></tr>\n",
              "\t<tr><td> 1.16666667</td><td> 1.0954451</td></tr>\n",
              "\t<tr><td> 1.54166667</td><td> 1.4605935</td></tr>\n",
              "</tbody>\n",
              "</table>\n"
            ],
            "text/markdown": "\nA data.frame: 9 × 2\n\n| Age &lt;dbl&gt; | Salary &lt;dbl&gt; |\n|---|---|\n| -1.45833333 | -1.4605935 |\n| -1.08333333 | -1.0954451 |\n| -0.70833333 | -0.7302967 |\n| -0.33333333 | -0.3651484 |\n|  0.04166667 |  0.0000000 |\n|  0.41666667 |  0.3651484 |\n|  0.41666667 |  0.7302967 |\n|  1.16666667 |  1.0954451 |\n|  1.54166667 |  1.4605935 |\n\n",
            "text/latex": "A data.frame: 9 × 2\n\\begin{tabular}{ll}\n Age & Salary\\\\\n <dbl> & <dbl>\\\\\n\\hline\n\t -1.45833333 & -1.4605935\\\\\n\t -1.08333333 & -1.0954451\\\\\n\t -0.70833333 & -0.7302967\\\\\n\t -0.33333333 & -0.3651484\\\\\n\t  0.04166667 &  0.0000000\\\\\n\t  0.41666667 &  0.3651484\\\\\n\t  0.41666667 &  0.7302967\\\\\n\t  1.16666667 &  1.0954451\\\\\n\t  1.54166667 &  1.4605935\\\\\n\\end{tabular}\n",
            "text/plain": [
              "  Age         Salary    \n",
              "1 -1.45833333 -1.4605935\n",
              "2 -1.08333333 -1.0954451\n",
              "3 -0.70833333 -0.7302967\n",
              "4 -0.33333333 -0.3651484\n",
              "5  0.04166667  0.0000000\n",
              "6  0.41666667  0.3651484\n",
              "7  0.41666667  0.7302967\n",
              "8  1.16666667  1.0954451\n",
              "9  1.54166667  1.4605935"
            ]
          },
          "metadata": {}
        }
      ]
    },
    {
      "cell_type": "code",
      "source": [
        "data2.pre <- preProcess(df, method=\"range\")\n",
        "data2 <- predict(data2.pre, df)\n",
        "data2"
      ],
      "metadata": {
        "colab": {
          "base_uri": "https://localhost:8080/",
          "height": 398
        },
        "id": "j1hr6uxrREIf",
        "outputId": "9eb5fed1-ad03-4ceb-d6f0-1b211c0e7ffd"
      },
      "execution_count": null,
      "outputs": [
        {
          "output_type": "display_data",
          "data": {
            "text/html": [
              "<table class=\"dataframe\">\n",
              "<caption>A data.frame: 9 × 2</caption>\n",
              "<thead>\n",
              "\t<tr><th scope=col>Age</th><th scope=col>Salary</th></tr>\n",
              "\t<tr><th scope=col>&lt;dbl&gt;</th><th scope=col>&lt;dbl&gt;</th></tr>\n",
              "</thead>\n",
              "<tbody>\n",
              "\t<tr><td>0.000</td><td>0.000</td></tr>\n",
              "\t<tr><td>0.125</td><td>0.125</td></tr>\n",
              "\t<tr><td>0.250</td><td>0.250</td></tr>\n",
              "\t<tr><td>0.375</td><td>0.375</td></tr>\n",
              "\t<tr><td>0.500</td><td>0.500</td></tr>\n",
              "\t<tr><td>0.625</td><td>0.625</td></tr>\n",
              "\t<tr><td>0.625</td><td>0.750</td></tr>\n",
              "\t<tr><td>0.875</td><td>0.875</td></tr>\n",
              "\t<tr><td>1.000</td><td>1.000</td></tr>\n",
              "</tbody>\n",
              "</table>\n"
            ],
            "text/markdown": "\nA data.frame: 9 × 2\n\n| Age &lt;dbl&gt; | Salary &lt;dbl&gt; |\n|---|---|\n| 0.000 | 0.000 |\n| 0.125 | 0.125 |\n| 0.250 | 0.250 |\n| 0.375 | 0.375 |\n| 0.500 | 0.500 |\n| 0.625 | 0.625 |\n| 0.625 | 0.750 |\n| 0.875 | 0.875 |\n| 1.000 | 1.000 |\n\n",
            "text/latex": "A data.frame: 9 × 2\n\\begin{tabular}{ll}\n Age & Salary\\\\\n <dbl> & <dbl>\\\\\n\\hline\n\t 0.000 & 0.000\\\\\n\t 0.125 & 0.125\\\\\n\t 0.250 & 0.250\\\\\n\t 0.375 & 0.375\\\\\n\t 0.500 & 0.500\\\\\n\t 0.625 & 0.625\\\\\n\t 0.625 & 0.750\\\\\n\t 0.875 & 0.875\\\\\n\t 1.000 & 1.000\\\\\n\\end{tabular}\n",
            "text/plain": [
              "  Age   Salary\n",
              "1 0.000 0.000 \n",
              "2 0.125 0.125 \n",
              "3 0.250 0.250 \n",
              "4 0.375 0.375 \n",
              "5 0.500 0.500 \n",
              "6 0.625 0.625 \n",
              "7 0.625 0.750 \n",
              "8 0.875 0.875 \n",
              "9 1.000 1.000 "
            ]
          },
          "metadata": {}
        }
      ]
    },
    {
      "cell_type": "code",
      "source": [
        "install.packages(\"tidyverse\")\n",
        "install.packages(\"dplyr\")"
      ],
      "metadata": {
        "colab": {
          "base_uri": "https://localhost:8080/"
        },
        "id": "pXksRlVVTxKV",
        "outputId": "153b6e09-7822-49ab-f3e5-ae4b535946f7"
      },
      "execution_count": null,
      "outputs": [
        {
          "output_type": "stream",
          "name": "stderr",
          "text": [
            "Installing package into ‘/usr/local/lib/R/site-library’\n",
            "(as ‘lib’ is unspecified)\n",
            "\n",
            "Installing package into ‘/usr/local/lib/R/site-library’\n",
            "(as ‘lib’ is unspecified)\n",
            "\n"
          ]
        }
      ]
    },
    {
      "cell_type": "code",
      "source": [
        "library(tidyverse)\n",
        "\n",
        "data_frame = data.frame(\n",
        "  col1 = c(2,4,1,7,5,3,5,8),\n",
        "  col2 = letters[1:8],\n",
        "  l3 = c(0,1,1,1,0,0,0,0))\n",
        "\n",
        "rownames(data_frame) <- c(\"r1\",\"r2\",\"r3\",\"r4\",\"r5\",\"r6\",\"r7\",\"r8\")\n",
        "print(\"Data Frame\")\n",
        "print(data_frame)\n",
        "\n",
        "arr_data_frame <- data_frame %>% arrange(col1)\n",
        "print(\"Arranged Data Frame\")\n",
        "print(arr_data_frame)"
      ],
      "metadata": {
        "colab": {
          "base_uri": "https://localhost:8080/"
        },
        "id": "2biJqXiJZUvd",
        "outputId": "382e6d0e-92af-4be3-eb58-ca4a16cf6298"
      },
      "execution_count": null,
      "outputs": [
        {
          "output_type": "stream",
          "name": "stderr",
          "text": [
            "── \u001b[1mAttaching core tidyverse packages\u001b[22m ──────────────────────── tidyverse 2.0.0 ──\n",
            "\u001b[32m✔\u001b[39m \u001b[34mdplyr    \u001b[39m 1.1.4     \u001b[32m✔\u001b[39m \u001b[34mreadr    \u001b[39m 2.1.5\n",
            "\u001b[32m✔\u001b[39m \u001b[34mforcats  \u001b[39m 1.0.0     \u001b[32m✔\u001b[39m \u001b[34mstringr  \u001b[39m 1.5.1\n",
            "\u001b[32m✔\u001b[39m \u001b[34mlubridate\u001b[39m 1.9.4     \u001b[32m✔\u001b[39m \u001b[34mtibble   \u001b[39m 3.2.1\n",
            "\u001b[32m✔\u001b[39m \u001b[34mpurrr    \u001b[39m 1.0.4     \u001b[32m✔\u001b[39m \u001b[34mtidyr    \u001b[39m 1.3.1\n",
            "── \u001b[1mConflicts\u001b[22m ────────────────────────────────────────── tidyverse_conflicts() ──\n",
            "\u001b[31m✖\u001b[39m \u001b[34mdplyr\u001b[39m::\u001b[32mfilter()\u001b[39m masks \u001b[34mstats\u001b[39m::filter()\n",
            "\u001b[31m✖\u001b[39m \u001b[34mdplyr\u001b[39m::\u001b[32mlag()\u001b[39m    masks \u001b[34mstats\u001b[39m::lag()\n",
            "\u001b[31m✖\u001b[39m \u001b[34mpurrr\u001b[39m::\u001b[32mlift()\u001b[39m   masks \u001b[34mcaret\u001b[39m::lift()\n",
            "\u001b[36mℹ\u001b[39m Use the conflicted package (\u001b[3m\u001b[34m<http://conflicted.r-lib.org/>\u001b[39m\u001b[23m) to force all conflicts to become errors\n"
          ]
        },
        {
          "output_type": "stream",
          "name": "stdout",
          "text": [
            "[1] \"Data Frame\"\n",
            "   col1 col2 l3\n",
            "r1    2    a  0\n",
            "r2    4    b  1\n",
            "r3    1    c  1\n",
            "r4    7    d  1\n",
            "r5    5    e  0\n",
            "r6    3    f  0\n",
            "r7    5    g  0\n",
            "r8    8    h  0\n",
            "[1] \"Arranged Data Frame\"\n",
            "   col1 col2 l3\n",
            "r3    1    c  1\n",
            "r1    2    a  0\n",
            "r6    3    f  0\n",
            "r2    4    b  1\n",
            "r5    5    e  0\n",
            "r7    5    g  0\n",
            "r4    7    d  1\n",
            "r8    8    h  0\n"
          ]
        }
      ]
    },
    {
      "cell_type": "code",
      "source": [
        "library(tidyverse)\n",
        "\n",
        "data_frame = data.frame(\n",
        "  col1 = c(2,4,1,7,5,3,5,8),\n",
        "  col2 = letters[1:8],\n",
        "  col3 = c(0,1,1,1,0,0,0,0))\n",
        "\n",
        "\n",
        "rownames(data_frame) <- c(\"r1\",\"r2\",\"r3\",\"r4\",\"r5\",\"r6\",\"r7\",\"r8\")\n",
        "print(\"Data Frame\")\n",
        "print(data_frame)\n",
        "\n",
        "arr_data_frame <- data_frame %>%\n",
        "                  arrange(desc(col1))\n",
        "\n",
        "print(\"Arranged Data Frame\")\n",
        "print(arr_data_frame)"
      ],
      "metadata": {
        "colab": {
          "base_uri": "https://localhost:8080/"
        },
        "id": "4Zztnm7qZbvU",
        "outputId": "ea12f2f5-197f-42df-9b8a-17fd2e1c0f8b"
      },
      "execution_count": null,
      "outputs": [
        {
          "output_type": "stream",
          "name": "stdout",
          "text": [
            "[1] \"Data Frame\"\n",
            "   col1 col2 col3\n",
            "r1    2    a    0\n",
            "r2    4    b    1\n",
            "r3    1    c    1\n",
            "r4    7    d    1\n",
            "r5    5    e    0\n",
            "r6    3    f    0\n",
            "r7    5    g    0\n",
            "r8    8    h    0\n",
            "[1] \"Arranged Data Frame\"\n",
            "   col1 col2 col3\n",
            "r8    8    h    0\n",
            "r4    7    d    1\n",
            "r5    5    e    0\n",
            "r7    5    g    0\n",
            "r2    4    b    1\n",
            "r6    3    f    0\n",
            "r1    2    a    0\n",
            "r3    1    c    1\n"
          ]
        }
      ]
    },
    {
      "cell_type": "code",
      "source": [
        "library(tidyverse)\n",
        "\n",
        "data_frame = data.frame(\n",
        "  col1 = c(2,4,1,7,5,3,5,8),\n",
        "  col2 = letters[1:8],\n",
        "  col3 = c(0,1,1,1,0,0,0,0),\n",
        "  col4 = c(9:16))\n",
        "\n",
        "print(\"Data Frame\")\n",
        "\n",
        "print(data_frame)\n",
        "\n",
        "\n",
        "arr_data_frame <- data_frame %>%\n",
        "                select(col2,col4)\n",
        "\n",
        "print(\"Selecting col2 and col4 in Data Frame\")\n",
        "print(arr_data_frame)"
      ],
      "metadata": {
        "colab": {
          "base_uri": "https://localhost:8080/"
        },
        "id": "iZGmHdJHaLUY",
        "outputId": "bee7a6af-b203-410f-ac3e-1b2a09d44367"
      },
      "execution_count": null,
      "outputs": [
        {
          "output_type": "stream",
          "name": "stdout",
          "text": [
            "[1] \"Data Frame\"\n",
            "  col1 col2 col3 col4\n",
            "1    2    a    0    9\n",
            "2    4    b    1   10\n",
            "3    1    c    1   11\n",
            "4    7    d    1   12\n",
            "5    5    e    0   13\n",
            "6    3    f    0   14\n",
            "7    5    g    0   15\n",
            "8    8    h    0   16\n",
            "[1] \"Selecting col2 and col4 in Data Frame\"\n",
            "  col2 col4\n",
            "1    a    9\n",
            "2    b   10\n",
            "3    c   11\n",
            "4    d   12\n",
            "5    e   13\n",
            "6    f   14\n",
            "7    g   15\n",
            "8    h   16\n"
          ]
        }
      ]
    },
    {
      "cell_type": "code",
      "source": [
        "library(tidyverse)\n",
        "\n",
        "data_frame = data.frame(\n",
        "  col1 = c(2,4,1,7,5,3,5,8),\n",
        "  col2 = letters[1:8],\n",
        "  col3 = c(0,1,1,1,0,0,0,0),\n",
        "  col4 = c(9:16))\n",
        "\n",
        "print(\"Data Frame\")\n",
        "print(data_frame)\n",
        "\n",
        "arr_data_frame <- data_frame %>%\n",
        "  select(col2:col4)\n",
        "\n",
        "print(\"Selecting col2 to col4 in Data Frame\")\n",
        "print(arr_data_frame)\n"
      ],
      "metadata": {
        "colab": {
          "base_uri": "https://localhost:8080/"
        },
        "id": "a4izSdThbGQw",
        "outputId": "62249c91-23fd-42a5-ff65-12e1f2299089"
      },
      "execution_count": null,
      "outputs": [
        {
          "output_type": "stream",
          "name": "stdout",
          "text": [
            "[1] \"Data Frame\"\n",
            "  col1 col2 col3 col4\n",
            "1    2    a    0    9\n",
            "2    4    b    1   10\n",
            "3    1    c    1   11\n",
            "4    7    d    1   12\n",
            "5    5    e    0   13\n",
            "6    3    f    0   14\n",
            "7    5    g    0   15\n",
            "8    8    h    0   16\n",
            "[1] \"Selecting col2 to col4 in Data Frame\"\n",
            "  col2 col3 col4\n",
            "1    a    0    9\n",
            "2    b    1   10\n",
            "3    c    1   11\n",
            "4    d    1   12\n",
            "5    e    0   13\n",
            "6    f    0   14\n",
            "7    g    0   15\n",
            "8    h    0   16\n"
          ]
        }
      ]
    },
    {
      "cell_type": "code",
      "source": [
        "library(tidyverse)\n",
        "\n",
        "data_frame = data.frame(\n",
        "  col1 = c(2,4,1,7,5,3,5,8),\n",
        "  col2 = letters[1:8],\n",
        "  col3 = c(0,1,1,1,0,0,0,0),\n",
        "  col4 = c(9:16))\n",
        "\n",
        "print(\"Data Frame\")\n",
        "print(data_frame)\n",
        "\n",
        "arr_data_frame <- data_frame %>%\n",
        "    filter(col1>4)\n",
        "\n",
        "print(\"Selecting col1 >4 \")\n",
        "print(arr_data_frame)"
      ],
      "metadata": {
        "colab": {
          "base_uri": "https://localhost:8080/"
        },
        "id": "YVk_HBCEbqR3",
        "outputId": "e7fff53c-32df-4149-cfb9-893595a33b4a"
      },
      "execution_count": null,
      "outputs": [
        {
          "output_type": "stream",
          "name": "stdout",
          "text": [
            "[1] \"Data Frame\"\n",
            "  col1 col2 col3 col4\n",
            "1    2    a    0    9\n",
            "2    4    b    1   10\n",
            "3    1    c    1   11\n",
            "4    7    d    1   12\n",
            "5    5    e    0   13\n",
            "6    3    f    0   14\n",
            "7    5    g    0   15\n",
            "8    8    h    0   16\n",
            "[1] \"Selecting col1 >4 \"\n",
            "  col1 col2 col3 col4\n",
            "1    7    d    1   12\n",
            "2    5    e    0   13\n",
            "3    5    g    0   15\n",
            "4    8    h    0   16\n"
          ]
        }
      ]
    },
    {
      "cell_type": "code",
      "source": [
        "library(tidyverse)\n",
        "\n",
        "data_frame = data.frame(\n",
        "  col1 = c(2,4,1,7,5,3,5,8),\n",
        "  col2 = letters[1:8],\n",
        "  col3 = c(\"this\",\"that\",\"there\",\"here\",\"there\",\"this\",\"that\",\"here\"),\n",
        "  col4 = c(9:16))\n",
        "\n",
        "print(\"Data Frame\")\n",
        "print(data_frame)\n",
        "\n",
        "\n",
        "arr_data_frame <- data_frame %>%\n",
        "  filter(col3 %in% c(\"there\", \"this\"))\n",
        "\n",
        "print(\"Selecting col1>4 \")\n",
        "print(arr_data_frame)"
      ],
      "metadata": {
        "colab": {
          "base_uri": "https://localhost:8080/"
        },
        "id": "bP6TsXySbt8y",
        "outputId": "622729b3-21ad-4f39-ae82-9c97d57c9b0b"
      },
      "execution_count": null,
      "outputs": [
        {
          "output_type": "stream",
          "name": "stdout",
          "text": [
            "[1] \"Data Frame\"\n",
            "  col1 col2  col3 col4\n",
            "1    2    a  this    9\n",
            "2    4    b  that   10\n",
            "3    1    c there   11\n",
            "4    7    d  here   12\n",
            "5    5    e there   13\n",
            "6    3    f  this   14\n",
            "7    5    g  that   15\n",
            "8    8    h  here   16\n",
            "[1] \"Selecting col1>4 \"\n",
            "  col1 col2  col3 col4\n",
            "1    2    a  this    9\n",
            "2    1    c there   11\n",
            "3    5    e there   13\n",
            "4    3    f  this   14\n"
          ]
        }
      ]
    },
    {
      "cell_type": "code",
      "source": [
        "library(tidyverse)\n",
        "\n",
        "data_frame = data.frame(\n",
        "  col1 = c(2,4,1,7,5,3,5,8),\n",
        "  col2 = letters[1:8],\n",
        "  col3 = c(\"this\",\"that\",\"there\",\"here\",\"there\",\"this\",\"that\",\"here\"),\n",
        "  col4 = c(9:16))\n",
        "\n",
        "print(\"Data Frame\")\n",
        "print(data_frame)\n",
        "\n",
        "arr_data_frame <- data_frame %>%\n",
        "    filter(col3==\"there\",col1==5)\n",
        "\n",
        "print(\"Selecting col3 value is there and col1 is 5\")\n",
        "print(arr_data_frame)"
      ],
      "metadata": {
        "colab": {
          "base_uri": "https://localhost:8080/"
        },
        "id": "SSadHwbUcNGX",
        "outputId": "a13cf537-6c1d-4b4f-b6ab-2c3b00cdee0d"
      },
      "execution_count": null,
      "outputs": [
        {
          "output_type": "stream",
          "name": "stdout",
          "text": [
            "[1] \"Data Frame\"\n",
            "  col1 col2  col3 col4\n",
            "1    2    a  this    9\n",
            "2    4    b  that   10\n",
            "3    1    c there   11\n",
            "4    7    d  here   12\n",
            "5    5    e there   13\n",
            "6    3    f  this   14\n",
            "7    5    g  that   15\n",
            "8    8    h  here   16\n",
            "[1] \"Selecting col3 value is there and col1 is 5\"\n",
            "  col1 col2  col3 col4\n",
            "1    5    e there   13\n"
          ]
        }
      ]
    },
    {
      "cell_type": "code",
      "source": [
        "library(tidyr)\n",
        "\n",
        "data_frame = data.frame(\n",
        "  col1 = c(\"A\",\"A\",\"A\",\"A\",\"A\",\"A\",\n",
        "           \"B\",\"B\",\"B\",\"B\",\"B\",\"B\"),\n",
        "  col2 = c(\"Eng\",\"Phy\",\"Chem\",\"MAQ\",\"Bio\",\"SST\",\n",
        "           \"Eng\",\"Phy\",\"Chem\",\"MAQ\",\"Bio\",\"SST\"),\n",
        "  col3 = c(34,56,46,23,72,67,89,43,88,45,78,99)\n",
        "  )\n",
        "\n",
        "print(\"Data Frame\")\n",
        "print(data_frame)\n",
        "\n",
        "arr_data_frame <- data_frame %>%\n",
        "    spread(col2,col3)\n",
        "\n",
        "print(\"Spread using col2 and col3\")\n",
        "print(arr_data_frame)"
      ],
      "metadata": {
        "colab": {
          "base_uri": "https://localhost:8080/"
        },
        "id": "SyzL2__ydivw",
        "outputId": "11bde017-82ff-4bc3-c71e-b212c51f9d58"
      },
      "execution_count": null,
      "outputs": [
        {
          "output_type": "stream",
          "name": "stdout",
          "text": [
            "[1] \"Data Frame\"\n",
            "   col1 col2 col3\n",
            "1     A  Eng   34\n",
            "2     A  Phy   56\n",
            "3     A Chem   46\n",
            "4     A  MAQ   23\n",
            "5     A  Bio   72\n",
            "6     A  SST   67\n",
            "7     B  Eng   89\n",
            "8     B  Phy   43\n",
            "9     B Chem   88\n",
            "10    B  MAQ   45\n",
            "11    B  Bio   78\n",
            "12    B  SST   99\n",
            "[1] \"Spread using col2 and col3\"\n",
            "  col1 Bio Chem Eng MAQ Phy SST\n",
            "1    A  72   46  34  23  56  67\n",
            "2    B  78   88  89  45  43  99\n"
          ]
        }
      ]
    },
    {
      "cell_type": "code",
      "source": [
        "library(tidyr)\n",
        "\n",
        "data_frame = data.frame(\n",
        "  col1 = c(\"A\",\"A\",\"A\",\"A\",\"A\",\"A\",\n",
        "           \"B\",\"B\",\"B\",\"B\",\"B\",\"B\"),\n",
        "  col2 = c(\"Eng\",\"Phy\",\"Chem\",\"MAQ\",\"Bio\",\"SST\",\n",
        "           \"Eng\",\"Phy\",\"Chem\",\"MAQ\",\"Bio\",\"SST\"),\n",
        "  col3 = c(34,56,46,23,72,67,89,43,88,45,78,99)\n",
        ")\n",
        "\n",
        "print(\"Data Frame\")\n",
        "print(data_frame)\n",
        "\n",
        "arr_data_frame <- data_frame %>%\n",
        "    spread(col1,col3)\n",
        "\n",
        "print(\"Spread using col1 and col3\")\n",
        "print(arr_data_frame)"
      ],
      "metadata": {
        "colab": {
          "base_uri": "https://localhost:8080/"
        },
        "id": "x3uzTWxudmHG",
        "outputId": "ff54e4ef-5c22-4bb6-8735-0495658bd75a"
      },
      "execution_count": null,
      "outputs": [
        {
          "output_type": "stream",
          "name": "stdout",
          "text": [
            "[1] \"Data Frame\"\n",
            "   col1 col2 col3\n",
            "1     A  Eng   34\n",
            "2     A  Phy   56\n",
            "3     A Chem   46\n",
            "4     A  MAQ   23\n",
            "5     A  Bio   72\n",
            "6     A  SST   67\n",
            "7     B  Eng   89\n",
            "8     B  Phy   43\n",
            "9     B Chem   88\n",
            "10    B  MAQ   45\n",
            "11    B  Bio   78\n",
            "12    B  SST   99\n",
            "[1] \"Spread using col1 and col3\"\n",
            "  col2  A  B\n",
            "1  Bio 72 78\n",
            "2 Chem 46 88\n",
            "3  Eng 34 89\n",
            "4  MAQ 23 45\n",
            "5  Phy 56 43\n",
            "6  SST 67 99\n"
          ]
        }
      ]
    },
    {
      "cell_type": "code",
      "source": [
        "library(tidyverse)\n",
        "\n",
        "data_frame = data.frame(\n",
        "  col1 = c(2,4,1,7,5,3,5,8),\n",
        "  col2 = letters[1:8],\n",
        "  col3 = c(0,1,1,1,0,0,0,0),\n",
        "  col4 = c(9:16))\n",
        "\n",
        "print(\"Data Frame\")\n",
        "print(data_frame)\n",
        "\n",
        "data_frame_mutate <- data_frame %>%\n",
        "  mutate(col5 = col1 + col4 ,\n",
        "         col6 = col3+1)\n",
        "\n",
        "print(\"Mutated Data Frame\")\n",
        "print(data_frame_mutate)"
      ],
      "metadata": {
        "colab": {
          "base_uri": "https://localhost:8080/"
        },
        "id": "PtL9Klo7hFrQ",
        "outputId": "f23c54b9-26ba-456b-c11f-c18dc6de1bc2"
      },
      "execution_count": null,
      "outputs": [
        {
          "output_type": "stream",
          "name": "stdout",
          "text": [
            "[1] \"Data Frame\"\n",
            "  col1 col2 col3 col4\n",
            "1    2    a    0    9\n",
            "2    4    b    1   10\n",
            "3    1    c    1   11\n",
            "4    7    d    1   12\n",
            "5    5    e    0   13\n",
            "6    3    f    0   14\n",
            "7    5    g    0   15\n",
            "8    8    h    0   16\n",
            "[1] \"Mutated Data Frame\"\n",
            "  col1 col2 col3 col4 col5 col6\n",
            "1    2    a    0    9   11    1\n",
            "2    4    b    1   10   14    2\n",
            "3    1    c    1   11   12    2\n",
            "4    7    d    1   12   19    2\n",
            "5    5    e    0   13   18    1\n",
            "6    3    f    0   14   17    1\n",
            "7    5    g    0   15   20    1\n",
            "8    8    h    0   16   24    1\n"
          ]
        }
      ]
    },
    {
      "cell_type": "code",
      "source": [
        "library(dplyr)\n",
        "\n",
        "data_frame = data.frame(\n",
        "  col1 = c(2,4,1,7,5,3,5,8),\n",
        "  col2 = letters[1:8],\n",
        "  col3 = c(0,1,1,1,0,0,0,0),\n",
        "  col4 = c(9:16))\n",
        "\n",
        "print(\"Data Frame\")\n",
        "print(data_frame)\n",
        "\n",
        "data_frame_mutate <- data_frame %>%\n",
        "    group_by(col3) %>%\n",
        "  summarise(\n",
        "    count = n(),\n",
        "    mean_col1 = mean(col1)\n",
        "  )\n",
        "\n",
        "print(\"Mutated Data Frame\")\n",
        "print(data_frame_mutate)"
      ],
      "metadata": {
        "colab": {
          "base_uri": "https://localhost:8080/"
        },
        "id": "_UY2X4rHhIvm",
        "outputId": "a86122fc-0995-4086-fa2e-98a0a0c09697"
      },
      "execution_count": null,
      "outputs": [
        {
          "output_type": "stream",
          "name": "stdout",
          "text": [
            "[1] \"Data Frame\"\n",
            "  col1 col2 col3 col4\n",
            "1    2    a    0    9\n",
            "2    4    b    1   10\n",
            "3    1    c    1   11\n",
            "4    7    d    1   12\n",
            "5    5    e    0   13\n",
            "6    3    f    0   14\n",
            "7    5    g    0   15\n",
            "8    8    h    0   16\n",
            "[1] \"Mutated Data Frame\"\n",
            "\u001b[90m# A tibble: 2 × 3\u001b[39m\n",
            "   col3 count mean_col1\n",
            "  \u001b[3m\u001b[90m<dbl>\u001b[39m\u001b[23m \u001b[3m\u001b[90m<int>\u001b[39m\u001b[23m     \u001b[3m\u001b[90m<dbl>\u001b[39m\u001b[23m\n",
            "\u001b[90m1\u001b[39m     0     5       4.6\n",
            "\u001b[90m2\u001b[39m     1     3       4  \n"
          ]
        }
      ]
    },
    {
      "cell_type": "code",
      "source": [
        "library(dplyr)\n",
        "\n",
        "data_frame = data.frame(col1 =\n",
        "  c(\"Jack\",\"Jill\",\"Yash\",\"Mallika\",\n",
        "    \"Muskan\",\"Keshav\",\"Meenu\",\"Sanjay\"),\n",
        "     Maths = c(26,47,14,73,65,83,95,48),\n",
        "     Physics = c(24,53,45,88,68,35,78,24),\n",
        "     Chemistry = c(67,23,79,67,33,66,25,78)\n",
        "     )\n",
        "\n",
        "print(\"Data Frame\")\n",
        "print(data_frame)\n",
        "\n",
        "data_frame_mutate <- data_frame %>%\n",
        "    gather(\"Subject\",\"Marks\",2:4)\n",
        "\n",
        "print(\"Mutated Data Frame\")\n",
        "print(data_frame_mutate)"
      ],
      "metadata": {
        "colab": {
          "base_uri": "https://localhost:8080/"
        },
        "id": "nwcly8Rlhcdp",
        "outputId": "8dbf9a86-f5fc-42e8-c2db-fcaca8a5f0d2"
      },
      "execution_count": null,
      "outputs": [
        {
          "output_type": "stream",
          "name": "stdout",
          "text": [
            "[1] \"Data Frame\"\n",
            "     col1 Maths Physics Chemistry\n",
            "1    Jack    26      24        67\n",
            "2    Jill    47      53        23\n",
            "3    Yash    14      45        79\n",
            "4 Mallika    73      88        67\n",
            "5  Muskan    65      68        33\n",
            "6  Keshav    83      35        66\n",
            "7   Meenu    95      78        25\n",
            "8  Sanjay    48      24        78\n",
            "[1] \"Mutated Data Frame\"\n",
            "      col1   Subject Marks\n",
            "1     Jack     Maths    26\n",
            "2     Jill     Maths    47\n",
            "3     Yash     Maths    14\n",
            "4  Mallika     Maths    73\n",
            "5   Muskan     Maths    65\n",
            "6   Keshav     Maths    83\n",
            "7    Meenu     Maths    95\n",
            "8   Sanjay     Maths    48\n",
            "9     Jack   Physics    24\n",
            "10    Jill   Physics    53\n",
            "11    Yash   Physics    45\n",
            "12 Mallika   Physics    88\n",
            "13  Muskan   Physics    68\n",
            "14  Keshav   Physics    35\n",
            "15   Meenu   Physics    78\n",
            "16  Sanjay   Physics    24\n",
            "17    Jack Chemistry    67\n",
            "18    Jill Chemistry    23\n",
            "19    Yash Chemistry    79\n",
            "20 Mallika Chemistry    67\n",
            "21  Muskan Chemistry    33\n",
            "22  Keshav Chemistry    66\n",
            "23   Meenu Chemistry    25\n",
            "24  Sanjay Chemistry    78\n"
          ]
        }
      ]
    },
    {
      "cell_type": "markdown",
      "source": [
        "## plyr"
      ],
      "metadata": {
        "id": "FB1eKb0yo4WY"
      }
    },
    {
      "cell_type": "code",
      "source": [
        "install.packages(\"plyr\")"
      ],
      "metadata": {
        "colab": {
          "base_uri": "https://localhost:8080/"
        },
        "id": "vSk3yEqPo8lY",
        "outputId": "2036e47c-86b0-41f3-d499-5f1a858410be"
      },
      "execution_count": null,
      "outputs": [
        {
          "output_type": "stream",
          "name": "stderr",
          "text": [
            "Installing package into ‘/usr/local/lib/R/site-library’\n",
            "(as ‘lib’ is unspecified)\n",
            "\n"
          ]
        }
      ]
    },
    {
      "cell_type": "code",
      "source": [
        "library(plyr)\n",
        "\n",
        "ddply(mtcars, .(cyl), summarise, mean_mpg = mean(mpg))"
      ],
      "metadata": {
        "colab": {
          "base_uri": "https://localhost:8080/",
          "height": 591
        },
        "id": "i1NyNbEIiCEX",
        "outputId": "9928b08d-697f-4014-e6e5-94b5aa88bcdb"
      },
      "execution_count": null,
      "outputs": [
        {
          "output_type": "stream",
          "name": "stderr",
          "text": [
            "------------------------------------------------------------------------------\n",
            "\n",
            "You have loaded plyr after dplyr - this is likely to cause problems.\n",
            "If you need functions from both plyr and dplyr, please load plyr first, then dplyr:\n",
            "library(plyr); library(dplyr)\n",
            "\n",
            "------------------------------------------------------------------------------\n",
            "\n",
            "\n",
            "Attaching package: ‘plyr’\n",
            "\n",
            "\n",
            "The following objects are masked from ‘package:dplyr’:\n",
            "\n",
            "    arrange, count, desc, failwith, id, mutate, rename, summarise,\n",
            "    summarize\n",
            "\n",
            "\n",
            "The following object is masked from ‘package:purrr’:\n",
            "\n",
            "    compact\n",
            "\n",
            "\n"
          ]
        },
        {
          "output_type": "display_data",
          "data": {
            "text/html": [
              "<table class=\"dataframe\">\n",
              "<caption>A data.frame: 3 × 2</caption>\n",
              "<thead>\n",
              "\t<tr><th scope=col>cyl</th><th scope=col>mean_mpg</th></tr>\n",
              "\t<tr><th scope=col>&lt;dbl&gt;</th><th scope=col>&lt;dbl&gt;</th></tr>\n",
              "</thead>\n",
              "<tbody>\n",
              "\t<tr><td>4</td><td>26.66364</td></tr>\n",
              "\t<tr><td>6</td><td>19.74286</td></tr>\n",
              "\t<tr><td>8</td><td>15.10000</td></tr>\n",
              "</tbody>\n",
              "</table>\n"
            ],
            "text/markdown": "\nA data.frame: 3 × 2\n\n| cyl &lt;dbl&gt; | mean_mpg &lt;dbl&gt; |\n|---|---|\n| 4 | 26.66364 |\n| 6 | 19.74286 |\n| 8 | 15.10000 |\n\n",
            "text/latex": "A data.frame: 3 × 2\n\\begin{tabular}{ll}\n cyl & mean\\_mpg\\\\\n <dbl> & <dbl>\\\\\n\\hline\n\t 4 & 26.66364\\\\\n\t 6 & 19.74286\\\\\n\t 8 & 15.10000\\\\\n\\end{tabular}\n",
            "text/plain": [
              "  cyl mean_mpg\n",
              "1 4   26.66364\n",
              "2 6   19.74286\n",
              "3 8   15.10000"
            ]
          },
          "metadata": {}
        }
      ]
    },
    {
      "cell_type": "code",
      "source": [
        "library(plyr)\n",
        "\n",
        "countries_1 <- data.frame(country = c(\"USA\", \"Canada\", \"Mexico\"), population = c(328, 37, 130))\n",
        "countries_2 <- data.frame(country = c(\"Brazil\", \"Argentina\", \"Chile\"), population = c(211, 45, 19))\n",
        "countries_list <- list(countries_1, countries_2)\n",
        "\n",
        "combined_df <- ldply(countries_list, data.frame)\n",
        "head(combined_df)\n"
      ],
      "metadata": {
        "colab": {
          "base_uri": "https://localhost:8080/",
          "height": 286
        },
        "id": "HdQm3ezmpKhr",
        "outputId": "a320d721-3fc4-4e33-884d-8907036925c9"
      },
      "execution_count": null,
      "outputs": [
        {
          "output_type": "display_data",
          "data": {
            "text/html": [
              "<table class=\"dataframe\">\n",
              "<caption>A data.frame: 6 × 2</caption>\n",
              "<thead>\n",
              "\t<tr><th></th><th scope=col>country</th><th scope=col>population</th></tr>\n",
              "\t<tr><th></th><th scope=col>&lt;chr&gt;</th><th scope=col>&lt;dbl&gt;</th></tr>\n",
              "</thead>\n",
              "<tbody>\n",
              "\t<tr><th scope=row>1</th><td>USA      </td><td>328</td></tr>\n",
              "\t<tr><th scope=row>2</th><td>Canada   </td><td> 37</td></tr>\n",
              "\t<tr><th scope=row>3</th><td>Mexico   </td><td>130</td></tr>\n",
              "\t<tr><th scope=row>4</th><td>Brazil   </td><td>211</td></tr>\n",
              "\t<tr><th scope=row>5</th><td>Argentina</td><td> 45</td></tr>\n",
              "\t<tr><th scope=row>6</th><td>Chile    </td><td> 19</td></tr>\n",
              "</tbody>\n",
              "</table>\n"
            ],
            "text/markdown": "\nA data.frame: 6 × 2\n\n| <!--/--> | country &lt;chr&gt; | population &lt;dbl&gt; |\n|---|---|---|\n| 1 | USA       | 328 |\n| 2 | Canada    |  37 |\n| 3 | Mexico    | 130 |\n| 4 | Brazil    | 211 |\n| 5 | Argentina |  45 |\n| 6 | Chile     |  19 |\n\n",
            "text/latex": "A data.frame: 6 × 2\n\\begin{tabular}{r|ll}\n  & country & population\\\\\n  & <chr> & <dbl>\\\\\n\\hline\n\t1 & USA       & 328\\\\\n\t2 & Canada    &  37\\\\\n\t3 & Mexico    & 130\\\\\n\t4 & Brazil    & 211\\\\\n\t5 & Argentina &  45\\\\\n\t6 & Chile     &  19\\\\\n\\end{tabular}\n",
            "text/plain": [
              "  country   population\n",
              "1 USA       328       \n",
              "2 Canada     37       \n",
              "3 Mexico    130       \n",
              "4 Brazil    211       \n",
              "5 Argentina  45       \n",
              "6 Chile      19       "
            ]
          },
          "metadata": {}
        }
      ]
    },
    {
      "cell_type": "code",
      "source": [
        "library(plyr)\n",
        "\n",
        "mat <- matrix(1:9, nrow = 3)\n",
        "head(mat)\n",
        "\n",
        "result <- adply(mat, 1, function(x) sum(x))\n",
        "head(result)\n"
      ],
      "metadata": {
        "colab": {
          "base_uri": "https://localhost:8080/",
          "height": 338
        },
        "id": "Ayh2lGktqKZi",
        "outputId": "dbdbf223-b411-4d6f-fa04-105afa99302b"
      },
      "execution_count": null,
      "outputs": [
        {
          "output_type": "display_data",
          "data": {
            "text/html": [
              "<table class=\"dataframe\">\n",
              "<caption>A matrix: 3 × 3 of type int</caption>\n",
              "<tbody>\n",
              "\t<tr><td>1</td><td>4</td><td>7</td></tr>\n",
              "\t<tr><td>2</td><td>5</td><td>8</td></tr>\n",
              "\t<tr><td>3</td><td>6</td><td>9</td></tr>\n",
              "</tbody>\n",
              "</table>\n"
            ],
            "text/markdown": "\nA matrix: 3 × 3 of type int\n\n| 1 | 4 | 7 |\n| 2 | 5 | 8 |\n| 3 | 6 | 9 |\n\n",
            "text/latex": "A matrix: 3 × 3 of type int\n\\begin{tabular}{lll}\n\t 1 & 4 & 7\\\\\n\t 2 & 5 & 8\\\\\n\t 3 & 6 & 9\\\\\n\\end{tabular}\n",
            "text/plain": [
              "     [,1] [,2] [,3]\n",
              "[1,] 1    4    7   \n",
              "[2,] 2    5    8   \n",
              "[3,] 3    6    9   "
            ]
          },
          "metadata": {}
        },
        {
          "output_type": "display_data",
          "data": {
            "text/html": [
              "<table class=\"dataframe\">\n",
              "<caption>A data.frame: 3 × 2</caption>\n",
              "<thead>\n",
              "\t<tr><th></th><th scope=col>X1</th><th scope=col>V1</th></tr>\n",
              "\t<tr><th></th><th scope=col>&lt;fct&gt;</th><th scope=col>&lt;int&gt;</th></tr>\n",
              "</thead>\n",
              "<tbody>\n",
              "\t<tr><th scope=row>1</th><td>1</td><td>12</td></tr>\n",
              "\t<tr><th scope=row>2</th><td>2</td><td>15</td></tr>\n",
              "\t<tr><th scope=row>3</th><td>3</td><td>18</td></tr>\n",
              "</tbody>\n",
              "</table>\n"
            ],
            "text/markdown": "\nA data.frame: 3 × 2\n\n| <!--/--> | X1 &lt;fct&gt; | V1 &lt;int&gt; |\n|---|---|---|\n| 1 | 1 | 12 |\n| 2 | 2 | 15 |\n| 3 | 3 | 18 |\n\n",
            "text/latex": "A data.frame: 3 × 2\n\\begin{tabular}{r|ll}\n  & X1 & V1\\\\\n  & <fct> & <int>\\\\\n\\hline\n\t1 & 1 & 12\\\\\n\t2 & 2 & 15\\\\\n\t3 & 3 & 18\\\\\n\\end{tabular}\n",
            "text/plain": [
              "  X1 V1\n",
              "1 1  12\n",
              "2 2  15\n",
              "3 3  18"
            ]
          },
          "metadata": {}
        }
      ]
    },
    {
      "cell_type": "code",
      "source": [
        "library(plyr)\n",
        "\n",
        "df1 <- data.frame(\n",
        "  id = c(1, 2, 3),\n",
        "  name = c(\"Alice\", \"Bob\", \"Charlie\")\n",
        ")\n",
        "\n",
        "df2 <- data.frame(\n",
        "  id = c(2, 3, 4),\n",
        "  age = c(25, 30, 35)\n",
        ")\n",
        "\n",
        "head(df1)\n",
        "head(df2)\n",
        "\n",
        "result <- join(df1, df2, by = \"id\")\n",
        "head(result)\n"
      ],
      "metadata": {
        "colab": {
          "base_uri": "https://localhost:8080/",
          "height": 542
        },
        "id": "MrdRqb9Fqcic",
        "outputId": "8916332a-5705-4f5f-e3ec-fb1a137e5e98"
      },
      "execution_count": null,
      "outputs": [
        {
          "output_type": "display_data",
          "data": {
            "text/html": [
              "<table class=\"dataframe\">\n",
              "<caption>A data.frame: 3 × 2</caption>\n",
              "<thead>\n",
              "\t<tr><th></th><th scope=col>id</th><th scope=col>name</th></tr>\n",
              "\t<tr><th></th><th scope=col>&lt;dbl&gt;</th><th scope=col>&lt;chr&gt;</th></tr>\n",
              "</thead>\n",
              "<tbody>\n",
              "\t<tr><th scope=row>1</th><td>1</td><td>Alice  </td></tr>\n",
              "\t<tr><th scope=row>2</th><td>2</td><td>Bob    </td></tr>\n",
              "\t<tr><th scope=row>3</th><td>3</td><td>Charlie</td></tr>\n",
              "</tbody>\n",
              "</table>\n"
            ],
            "text/markdown": "\nA data.frame: 3 × 2\n\n| <!--/--> | id &lt;dbl&gt; | name &lt;chr&gt; |\n|---|---|---|\n| 1 | 1 | Alice   |\n| 2 | 2 | Bob     |\n| 3 | 3 | Charlie |\n\n",
            "text/latex": "A data.frame: 3 × 2\n\\begin{tabular}{r|ll}\n  & id & name\\\\\n  & <dbl> & <chr>\\\\\n\\hline\n\t1 & 1 & Alice  \\\\\n\t2 & 2 & Bob    \\\\\n\t3 & 3 & Charlie\\\\\n\\end{tabular}\n",
            "text/plain": [
              "  id name   \n",
              "1 1  Alice  \n",
              "2 2  Bob    \n",
              "3 3  Charlie"
            ]
          },
          "metadata": {}
        },
        {
          "output_type": "display_data",
          "data": {
            "text/html": [
              "<table class=\"dataframe\">\n",
              "<caption>A data.frame: 3 × 2</caption>\n",
              "<thead>\n",
              "\t<tr><th></th><th scope=col>id</th><th scope=col>age</th></tr>\n",
              "\t<tr><th></th><th scope=col>&lt;dbl&gt;</th><th scope=col>&lt;dbl&gt;</th></tr>\n",
              "</thead>\n",
              "<tbody>\n",
              "\t<tr><th scope=row>1</th><td>2</td><td>25</td></tr>\n",
              "\t<tr><th scope=row>2</th><td>3</td><td>30</td></tr>\n",
              "\t<tr><th scope=row>3</th><td>4</td><td>35</td></tr>\n",
              "</tbody>\n",
              "</table>\n"
            ],
            "text/markdown": "\nA data.frame: 3 × 2\n\n| <!--/--> | id &lt;dbl&gt; | age &lt;dbl&gt; |\n|---|---|---|\n| 1 | 2 | 25 |\n| 2 | 3 | 30 |\n| 3 | 4 | 35 |\n\n",
            "text/latex": "A data.frame: 3 × 2\n\\begin{tabular}{r|ll}\n  & id & age\\\\\n  & <dbl> & <dbl>\\\\\n\\hline\n\t1 & 2 & 25\\\\\n\t2 & 3 & 30\\\\\n\t3 & 4 & 35\\\\\n\\end{tabular}\n",
            "text/plain": [
              "  id age\n",
              "1 2  25 \n",
              "2 3  30 \n",
              "3 4  35 "
            ]
          },
          "metadata": {}
        },
        {
          "output_type": "display_data",
          "data": {
            "text/html": [
              "<table class=\"dataframe\">\n",
              "<caption>A data.frame: 3 × 3</caption>\n",
              "<thead>\n",
              "\t<tr><th></th><th scope=col>id</th><th scope=col>name</th><th scope=col>age</th></tr>\n",
              "\t<tr><th></th><th scope=col>&lt;dbl&gt;</th><th scope=col>&lt;chr&gt;</th><th scope=col>&lt;dbl&gt;</th></tr>\n",
              "</thead>\n",
              "<tbody>\n",
              "\t<tr><th scope=row>1</th><td>1</td><td>Alice  </td><td>NA</td></tr>\n",
              "\t<tr><th scope=row>2</th><td>2</td><td>Bob    </td><td>25</td></tr>\n",
              "\t<tr><th scope=row>3</th><td>3</td><td>Charlie</td><td>30</td></tr>\n",
              "</tbody>\n",
              "</table>\n"
            ],
            "text/markdown": "\nA data.frame: 3 × 3\n\n| <!--/--> | id &lt;dbl&gt; | name &lt;chr&gt; | age &lt;dbl&gt; |\n|---|---|---|---|\n| 1 | 1 | Alice   | NA |\n| 2 | 2 | Bob     | 25 |\n| 3 | 3 | Charlie | 30 |\n\n",
            "text/latex": "A data.frame: 3 × 3\n\\begin{tabular}{r|lll}\n  & id & name & age\\\\\n  & <dbl> & <chr> & <dbl>\\\\\n\\hline\n\t1 & 1 & Alice   & NA\\\\\n\t2 & 2 & Bob     & 25\\\\\n\t3 & 3 & Charlie & 30\\\\\n\\end{tabular}\n",
            "text/plain": [
              "  id name    age\n",
              "1 1  Alice   NA \n",
              "2 2  Bob     25 \n",
              "3 3  Charlie 30 "
            ]
          },
          "metadata": {}
        }
      ]
    },
    {
      "cell_type": "code",
      "source": [
        "library(plyr)\n",
        "\n",
        "df <- data.frame(group = c(\"A\", \"A\", \"B\", \"B\", \"B\"), value = c(2, 4, 6, 8, 10))\n",
        "\n",
        "summary_df <- summarise(group_by(df, group), mean = mean(value), sd = sd(value))\n",
        "head(summary_df)\n"
      ],
      "metadata": {
        "colab": {
          "base_uri": "https://localhost:8080/",
          "height": 129
        },
        "id": "wX0vrtk_q-jk",
        "outputId": "f3384993-5366-4bef-b40e-67916abd0255"
      },
      "execution_count": null,
      "outputs": [
        {
          "output_type": "display_data",
          "data": {
            "text/html": [
              "<table class=\"dataframe\">\n",
              "<caption>A data.frame: 1 × 2</caption>\n",
              "<thead>\n",
              "\t<tr><th></th><th scope=col>mean</th><th scope=col>sd</th></tr>\n",
              "\t<tr><th></th><th scope=col>&lt;dbl&gt;</th><th scope=col>&lt;dbl&gt;</th></tr>\n",
              "</thead>\n",
              "<tbody>\n",
              "\t<tr><th scope=row>1</th><td>6</td><td>3.162278</td></tr>\n",
              "</tbody>\n",
              "</table>\n"
            ],
            "text/markdown": "\nA data.frame: 1 × 2\n\n| <!--/--> | mean &lt;dbl&gt; | sd &lt;dbl&gt; |\n|---|---|---|\n| 1 | 6 | 3.162278 |\n\n",
            "text/latex": "A data.frame: 1 × 2\n\\begin{tabular}{r|ll}\n  & mean & sd\\\\\n  & <dbl> & <dbl>\\\\\n\\hline\n\t1 & 6 & 3.162278\\\\\n\\end{tabular}\n",
            "text/plain": [
              "  mean sd      \n",
              "1 6    3.162278"
            ]
          },
          "metadata": {}
        }
      ]
    },
    {
      "cell_type": "markdown",
      "source": [
        "# Merging DAta"
      ],
      "metadata": {
        "id": "TME7tu_UC6hz"
      }
    },
    {
      "cell_type": "code",
      "source": [
        "df1 <- data.frame(ID = c(1, 2, 3, 4),\n",
        "                  Name = c(\"A\", \"B\", \"C\", \"D\"),\n",
        "                  Age = c(25, 30, 35, 40))\n",
        "\n",
        "df2 <- data.frame(ID = c(2, 3, 4, 5),\n",
        "                  Occupation = c(\"Engineer\", \"Teacher\", \"Doctor\", \"Lawyer\"),\n",
        "                  Salary = c(5000, 4000, 6000, 7000))"
      ],
      "metadata": {
        "id": "d0cv2IenuAJp"
      },
      "execution_count": null,
      "outputs": []
    },
    {
      "cell_type": "code",
      "source": [
        "inner_join <- merge(df1, df2, by = \"ID\")\n",
        "print(inner_join)"
      ],
      "metadata": {
        "colab": {
          "base_uri": "https://localhost:8080/"
        },
        "id": "dx4SDwRmDEyU",
        "outputId": "da72a066-c1f6-40f7-b9e5-369d217c0b50"
      },
      "execution_count": null,
      "outputs": [
        {
          "output_type": "stream",
          "name": "stdout",
          "text": [
            "  ID Name Age Occupation Salary\n",
            "1  2    B  30   Engineer   5000\n",
            "2  3    C  35    Teacher   4000\n",
            "3  4    D  40     Doctor   6000\n"
          ]
        }
      ]
    },
    {
      "cell_type": "code",
      "source": [
        "left_join <- merge(df1, df2, by = \"ID\", all.x = TRUE)\n",
        "print (left_join)"
      ],
      "metadata": {
        "colab": {
          "base_uri": "https://localhost:8080/"
        },
        "id": "J3jxRwYeDFWy",
        "outputId": "531742ff-76bb-4531-896b-093ffcf30e20"
      },
      "execution_count": null,
      "outputs": [
        {
          "output_type": "stream",
          "name": "stdout",
          "text": [
            "  ID Name Age Occupation Salary\n",
            "1  1    A  25       <NA>     NA\n",
            "2  2    B  30   Engineer   5000\n",
            "3  3    C  35    Teacher   4000\n",
            "4  4    D  40     Doctor   6000\n"
          ]
        }
      ]
    },
    {
      "cell_type": "markdown",
      "source": [
        "# Prediction Interval"
      ],
      "metadata": {
        "id": "S0W8JFqZOVyN"
      }
    },
    {
      "cell_type": "code",
      "source": [
        "size <- c(1200, 1500, 1700, 1900, 2200)\n",
        "price <- c(250, 320, 340, 400, 430)\n"
      ],
      "metadata": {
        "id": "lGIsbJqhDNn4"
      },
      "execution_count": null,
      "outputs": []
    },
    {
      "cell_type": "code",
      "source": [
        "model <- lm(price ~ size)\n"
      ],
      "metadata": {
        "id": "hExeo_G1Oahb"
      },
      "execution_count": null,
      "outputs": []
    },
    {
      "cell_type": "code",
      "source": [
        "confidence_level <- 0.95\n",
        "new_data <- data.frame(size = 1800)\n",
        "pred_result <- predict(model, newdata = new_data, interval = \"prediction\", level = confidence_level)\n"
      ],
      "metadata": {
        "id": "AEEzO_21Oa3g"
      },
      "execution_count": null,
      "outputs": []
    },
    {
      "cell_type": "code",
      "source": [
        "predicted_value <- pred_result[1]\n",
        "lower_bound <- pred_result[2]\n",
        "upper_bound <- pred_result[3]\n",
        "\n",
        "cat(\"Predicted Price:\", predicted_value, \"\\n\")\n",
        "cat(\"95% Prediction Interval: [\", lower_bound, \",\", upper_bound, \"]\\n\")\n"
      ],
      "metadata": {
        "id": "BUXrkbYyOcDL",
        "outputId": "703c5970-b8f6-4969-c9e4-9a462f17a6fa",
        "colab": {
          "base_uri": "https://localhost:8080/"
        }
      },
      "execution_count": null,
      "outputs": [
        {
          "output_type": "stream",
          "name": "stdout",
          "text": [
            "Predicted Price: 366.2759 \n",
            "95% Prediction Interval: [ 320.6045 , 411.9472 ]\n"
          ]
        }
      ]
    },
    {
      "cell_type": "code",
      "source": [
        "plot(size, price, main = \"House Price vs Size\",\n",
        "     xlab = \"Size (sq ft)\", ylab = \"Price ($1000s)\", pch = 19, col = \"blue\")\n",
        "\n",
        "abline(model, col = \"red\", lwd = 2)\n",
        "\n",
        "points(1800, predicted_value, col = \"darkgreen\", pch = 19)\n",
        "\n",
        "segments(1800, lower_bound, 1800, upper_bound, col = \"purple\", lwd = 2)\n"
      ],
      "metadata": {
        "id": "IpgKc1HNOdT_",
        "outputId": "7c92e6e3-0df0-4096-9c53-adee35caa388",
        "colab": {
          "base_uri": "https://localhost:8080/",
          "height": 437
        }
      },
      "execution_count": null,
      "outputs": [
        {
          "output_type": "display_data",
          "data": {
            "text/plain": [
              "Plot with title “House Price vs Size”"
            ],
            "image/png": "[encoded data removed]"
          },
          "metadata": {
            "image/png": {
              "width": 420,
              "height": 420
            }
          }
        }
      ]
    },
    {
      "cell_type": "code",
      "source": [],
      "metadata": {
        "id": "hSjewS-vOevf"
      },
      "execution_count": null,
      "outputs": []
    }
  ]
}
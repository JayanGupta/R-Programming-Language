{
  "nbformat": 4,
  "nbformat_minor": 0,
  "metadata": {
    "colab": {
      "provenance": []
    },
    "kernelspec": {
      "name": "ir",
      "display_name": "R"
    },
    "language_info": {
      "name": "R"
    }
  },
  "cells": [
    {
      "cell_type": "code",
      "execution_count": null,
      "metadata": {
        "colab": {
          "base_uri": "https://localhost:8080/",
          "height": 307
        },
        "id": "VTD3uMijWB9W",
        "outputId": "444d1989-9f9f-4242-bbc7-1927102df7aa"
      },
      "outputs": [
        {
          "output_type": "stream",
          "name": "stderr",
          "text": [
            "Installing package into ‘/usr/local/lib/R/site-library’\n",
            "(as ‘lib’ is unspecified)\n",
            "\n"
          ]
        },
        {
          "output_type": "display_data",
          "data": {
            "text/html": [
              "<table class=\"dataframe\">\n",
              "<caption>A data.table: 5 × 5</caption>\n",
              "<thead>\n",
              "\t<tr><th scope=col>Sepal.Length</th><th scope=col>Sepal.Width</th><th scope=col>Petal.Length</th><th scope=col>Petal.Width</th><th scope=col>Species</th></tr>\n",
              "\t<tr><th scope=col>&lt;dbl&gt;</th><th scope=col>&lt;dbl&gt;</th><th scope=col>&lt;dbl&gt;</th><th scope=col>&lt;dbl&gt;</th><th scope=col>&lt;fct&gt;</th></tr>\n",
              "</thead>\n",
              "<tbody>\n",
              "\t<tr><td>5.1</td><td>3.5</td><td>1.4</td><td>0.2</td><td>setosa</td></tr>\n",
              "\t<tr><td>5.4</td><td>3.9</td><td>1.7</td><td>0.4</td><td>setosa</td></tr>\n",
              "\t<tr><td>5.4</td><td>3.7</td><td>1.5</td><td>0.2</td><td>setosa</td></tr>\n",
              "\t<tr><td>5.8</td><td>4.0</td><td>1.2</td><td>0.2</td><td>setosa</td></tr>\n",
              "\t<tr><td>5.7</td><td>4.4</td><td>1.5</td><td>0.4</td><td>setosa</td></tr>\n",
              "</tbody>\n",
              "</table>\n"
            ],
            "text/markdown": "\nA data.table: 5 × 5\n\n| Sepal.Length &lt;dbl&gt; | Sepal.Width &lt;dbl&gt; | Petal.Length &lt;dbl&gt; | Petal.Width &lt;dbl&gt; | Species &lt;fct&gt; |\n|---|---|---|---|---|\n| 5.1 | 3.5 | 1.4 | 0.2 | setosa |\n| 5.4 | 3.9 | 1.7 | 0.4 | setosa |\n| 5.4 | 3.7 | 1.5 | 0.2 | setosa |\n| 5.8 | 4.0 | 1.2 | 0.2 | setosa |\n| 5.7 | 4.4 | 1.5 | 0.4 | setosa |\n\n",
            "text/latex": "A data.table: 5 × 5\n\\begin{tabular}{lllll}\n Sepal.Length & Sepal.Width & Petal.Length & Petal.Width & Species\\\\\n <dbl> & <dbl> & <dbl> & <dbl> & <fct>\\\\\n\\hline\n\t 5.1 & 3.5 & 1.4 & 0.2 & setosa\\\\\n\t 5.4 & 3.9 & 1.7 & 0.4 & setosa\\\\\n\t 5.4 & 3.7 & 1.5 & 0.2 & setosa\\\\\n\t 5.8 & 4.0 & 1.2 & 0.2 & setosa\\\\\n\t 5.7 & 4.4 & 1.5 & 0.4 & setosa\\\\\n\\end{tabular}\n",
            "text/plain": [
              "  Sepal.Length Sepal.Width Petal.Length Petal.Width Species\n",
              "1 5.1          3.5         1.4          0.2         setosa \n",
              "2 5.4          3.9         1.7          0.4         setosa \n",
              "3 5.4          3.7         1.5          0.2         setosa \n",
              "4 5.8          4.0         1.2          0.2         setosa \n",
              "5 5.7          4.4         1.5          0.4         setosa "
            ]
          },
          "metadata": {}
        }
      ],
      "source": [
        "# Installing the package (if not already installed)\n",
        "install.packages(\"data.table\")\n",
        "\n",
        "# Loading the package\n",
        "library(data.table)\n",
        "\n",
        "# Converting iris to a data.table\n",
        "iris_dt <- as.data.table(iris)\n",
        "\n",
        "# Filter rows where Species is \"setosa\" and Sepal.Length > 5\n",
        "result <- iris_dt[Species == \"setosa\" & Sepal.Length > 5][1:5]\n",
        "result\n"
      ]
    },
    {
      "cell_type": "code",
      "source": [
        "install.packages(\"dplyr\")  # Run only once\n",
        "library(dplyr)\n",
        "\n",
        "data(\"mtcars\")\n",
        "\n",
        "cat(\"---- Select ----\\n\")\n",
        "selected <- dplyr::select(mtcars, mpg, cyl)\n",
        "head(selected)\n",
        "cat(\"\\n------------------\\n\")\n",
        "\n",
        "cat(\"---- Mutate ----\\n\")\n",
        "mutated <- dplyr::mutate(mtcars, power_to_weight = hp / wt)\n",
        "head(mutated)\n",
        "cat(\"\\n------------------\\n\")\n"
      ],
      "metadata": {
        "colab": {
          "base_uri": "https://localhost:8080/",
          "height": 712
        },
        "id": "UGCqayHpWGja",
        "outputId": "4c33e1be-6336-4b7d-f657-6696eaa09e16"
      },
      "execution_count": null,
      "outputs": [
        {
          "output_type": "stream",
          "name": "stderr",
          "text": [
            "Installing package into ‘/usr/local/lib/R/site-library’\n",
            "(as ‘lib’ is unspecified)\n",
            "\n"
          ]
        },
        {
          "output_type": "stream",
          "name": "stdout",
          "text": [
            "---- Select ----\n"
          ]
        },
        {
          "output_type": "display_data",
          "data": {
            "text/html": [
              "<table class=\"dataframe\">\n",
              "<caption>A data.frame: 6 × 2</caption>\n",
              "<thead>\n",
              "\t<tr><th></th><th scope=col>mpg</th><th scope=col>cyl</th></tr>\n",
              "\t<tr><th></th><th scope=col>&lt;dbl&gt;</th><th scope=col>&lt;dbl&gt;</th></tr>\n",
              "</thead>\n",
              "<tbody>\n",
              "\t<tr><th scope=row>Mazda RX4</th><td>21.0</td><td>6</td></tr>\n",
              "\t<tr><th scope=row>Mazda RX4 Wag</th><td>21.0</td><td>6</td></tr>\n",
              "\t<tr><th scope=row>Datsun 710</th><td>22.8</td><td>4</td></tr>\n",
              "\t<tr><th scope=row>Hornet 4 Drive</th><td>21.4</td><td>6</td></tr>\n",
              "\t<tr><th scope=row>Hornet Sportabout</th><td>18.7</td><td>8</td></tr>\n",
              "\t<tr><th scope=row>Valiant</th><td>18.1</td><td>6</td></tr>\n",
              "</tbody>\n",
              "</table>\n"
            ],
            "text/markdown": "\nA data.frame: 6 × 2\n\n| <!--/--> | mpg &lt;dbl&gt; | cyl &lt;dbl&gt; |\n|---|---|---|\n| Mazda RX4 | 21.0 | 6 |\n| Mazda RX4 Wag | 21.0 | 6 |\n| Datsun 710 | 22.8 | 4 |\n| Hornet 4 Drive | 21.4 | 6 |\n| Hornet Sportabout | 18.7 | 8 |\n| Valiant | 18.1 | 6 |\n\n",
            "text/latex": "A data.frame: 6 × 2\n\\begin{tabular}{r|ll}\n  & mpg & cyl\\\\\n  & <dbl> & <dbl>\\\\\n\\hline\n\tMazda RX4 & 21.0 & 6\\\\\n\tMazda RX4 Wag & 21.0 & 6\\\\\n\tDatsun 710 & 22.8 & 4\\\\\n\tHornet 4 Drive & 21.4 & 6\\\\\n\tHornet Sportabout & 18.7 & 8\\\\\n\tValiant & 18.1 & 6\\\\\n\\end{tabular}\n",
            "text/plain": [
              "                  mpg  cyl\n",
              "Mazda RX4         21.0 6  \n",
              "Mazda RX4 Wag     21.0 6  \n",
              "Datsun 710        22.8 4  \n",
              "Hornet 4 Drive    21.4 6  \n",
              "Hornet Sportabout 18.7 8  \n",
              "Valiant           18.1 6  "
            ]
          },
          "metadata": {}
        },
        {
          "output_type": "stream",
          "name": "stdout",
          "text": [
            "\n",
            "------------------\n",
            "---- Mutate ----\n"
          ]
        },
        {
          "output_type": "display_data",
          "data": {
            "text/html": [
              "<table class=\"dataframe\">\n",
              "<caption>A data.frame: 6 × 12</caption>\n",
              "<thead>\n",
              "\t<tr><th></th><th scope=col>mpg</th><th scope=col>cyl</th><th scope=col>disp</th><th scope=col>hp</th><th scope=col>drat</th><th scope=col>wt</th><th scope=col>qsec</th><th scope=col>vs</th><th scope=col>am</th><th scope=col>gear</th><th scope=col>carb</th><th scope=col>power_to_weight</th></tr>\n",
              "\t<tr><th></th><th scope=col>&lt;dbl&gt;</th><th scope=col>&lt;dbl&gt;</th><th scope=col>&lt;dbl&gt;</th><th scope=col>&lt;dbl&gt;</th><th scope=col>&lt;dbl&gt;</th><th scope=col>&lt;dbl&gt;</th><th scope=col>&lt;dbl&gt;</th><th scope=col>&lt;dbl&gt;</th><th scope=col>&lt;dbl&gt;</th><th scope=col>&lt;dbl&gt;</th><th scope=col>&lt;dbl&gt;</th><th scope=col>&lt;dbl&gt;</th></tr>\n",
              "</thead>\n",
              "<tbody>\n",
              "\t<tr><th scope=row>Mazda RX4</th><td>21.0</td><td>6</td><td>160</td><td>110</td><td>3.90</td><td>2.620</td><td>16.46</td><td>0</td><td>1</td><td>4</td><td>4</td><td>41.98473</td></tr>\n",
              "\t<tr><th scope=row>Mazda RX4 Wag</th><td>21.0</td><td>6</td><td>160</td><td>110</td><td>3.90</td><td>2.875</td><td>17.02</td><td>0</td><td>1</td><td>4</td><td>4</td><td>38.26087</td></tr>\n",
              "\t<tr><th scope=row>Datsun 710</th><td>22.8</td><td>4</td><td>108</td><td> 93</td><td>3.85</td><td>2.320</td><td>18.61</td><td>1</td><td>1</td><td>4</td><td>1</td><td>40.08621</td></tr>\n",
              "\t<tr><th scope=row>Hornet 4 Drive</th><td>21.4</td><td>6</td><td>258</td><td>110</td><td>3.08</td><td>3.215</td><td>19.44</td><td>1</td><td>0</td><td>3</td><td>1</td><td>34.21462</td></tr>\n",
              "\t<tr><th scope=row>Hornet Sportabout</th><td>18.7</td><td>8</td><td>360</td><td>175</td><td>3.15</td><td>3.440</td><td>17.02</td><td>0</td><td>0</td><td>3</td><td>2</td><td>50.87209</td></tr>\n",
              "\t<tr><th scope=row>Valiant</th><td>18.1</td><td>6</td><td>225</td><td>105</td><td>2.76</td><td>3.460</td><td>20.22</td><td>1</td><td>0</td><td>3</td><td>1</td><td>30.34682</td></tr>\n",
              "</tbody>\n",
              "</table>\n"
            ],
            "text/markdown": "\nA data.frame: 6 × 12\n\n| <!--/--> | mpg &lt;dbl&gt; | cyl &lt;dbl&gt; | disp &lt;dbl&gt; | hp &lt;dbl&gt; | drat &lt;dbl&gt; | wt &lt;dbl&gt; | qsec &lt;dbl&gt; | vs &lt;dbl&gt; | am &lt;dbl&gt; | gear &lt;dbl&gt; | carb &lt;dbl&gt; | power_to_weight &lt;dbl&gt; |\n|---|---|---|---|---|---|---|---|---|---|---|---|---|\n| Mazda RX4 | 21.0 | 6 | 160 | 110 | 3.90 | 2.620 | 16.46 | 0 | 1 | 4 | 4 | 41.98473 |\n| Mazda RX4 Wag | 21.0 | 6 | 160 | 110 | 3.90 | 2.875 | 17.02 | 0 | 1 | 4 | 4 | 38.26087 |\n| Datsun 710 | 22.8 | 4 | 108 |  93 | 3.85 | 2.320 | 18.61 | 1 | 1 | 4 | 1 | 40.08621 |\n| Hornet 4 Drive | 21.4 | 6 | 258 | 110 | 3.08 | 3.215 | 19.44 | 1 | 0 | 3 | 1 | 34.21462 |\n| Hornet Sportabout | 18.7 | 8 | 360 | 175 | 3.15 | 3.440 | 17.02 | 0 | 0 | 3 | 2 | 50.87209 |\n| Valiant | 18.1 | 6 | 225 | 105 | 2.76 | 3.460 | 20.22 | 1 | 0 | 3 | 1 | 30.34682 |\n\n",
            "text/latex": "A data.frame: 6 × 12\n\\begin{tabular}{r|llllllllllll}\n  & mpg & cyl & disp & hp & drat & wt & qsec & vs & am & gear & carb & power\\_to\\_weight\\\\\n  & <dbl> & <dbl> & <dbl> & <dbl> & <dbl> & <dbl> & <dbl> & <dbl> & <dbl> & <dbl> & <dbl> & <dbl>\\\\\n\\hline\n\tMazda RX4 & 21.0 & 6 & 160 & 110 & 3.90 & 2.620 & 16.46 & 0 & 1 & 4 & 4 & 41.98473\\\\\n\tMazda RX4 Wag & 21.0 & 6 & 160 & 110 & 3.90 & 2.875 & 17.02 & 0 & 1 & 4 & 4 & 38.26087\\\\\n\tDatsun 710 & 22.8 & 4 & 108 &  93 & 3.85 & 2.320 & 18.61 & 1 & 1 & 4 & 1 & 40.08621\\\\\n\tHornet 4 Drive & 21.4 & 6 & 258 & 110 & 3.08 & 3.215 & 19.44 & 1 & 0 & 3 & 1 & 34.21462\\\\\n\tHornet Sportabout & 18.7 & 8 & 360 & 175 & 3.15 & 3.440 & 17.02 & 0 & 0 & 3 & 2 & 50.87209\\\\\n\tValiant & 18.1 & 6 & 225 & 105 & 2.76 & 3.460 & 20.22 & 1 & 0 & 3 & 1 & 30.34682\\\\\n\\end{tabular}\n",
            "text/plain": [
              "                  mpg  cyl disp hp  drat wt    qsec  vs am gear carb\n",
              "Mazda RX4         21.0 6   160  110 3.90 2.620 16.46 0  1  4    4   \n",
              "Mazda RX4 Wag     21.0 6   160  110 3.90 2.875 17.02 0  1  4    4   \n",
              "Datsun 710        22.8 4   108   93 3.85 2.320 18.61 1  1  4    1   \n",
              "Hornet 4 Drive    21.4 6   258  110 3.08 3.215 19.44 1  0  3    1   \n",
              "Hornet Sportabout 18.7 8   360  175 3.15 3.440 17.02 0  0  3    2   \n",
              "Valiant           18.1 6   225  105 2.76 3.460 20.22 1  0  3    1   \n",
              "                  power_to_weight\n",
              "Mazda RX4         41.98473       \n",
              "Mazda RX4 Wag     38.26087       \n",
              "Datsun 710        40.08621       \n",
              "Hornet 4 Drive    34.21462       \n",
              "Hornet Sportabout 50.87209       \n",
              "Valiant           30.34682       "
            ]
          },
          "metadata": {}
        },
        {
          "output_type": "stream",
          "name": "stdout",
          "text": [
            "\n",
            "------------------\n"
          ]
        }
      ]
    },
    {
      "cell_type": "code",
      "source": [
        "cat(\"---- Filter ----\\n\")\n",
        "filtered <- dplyr::filter(mtcars, cyl == 6)\n",
        "head(filtered)\n",
        "cat(\"\\n------------------\\n\")\n",
        "\n",
        "cat(\"---- Arrange ----\\n\")\n",
        "arranged <- dplyr::arrange(mtcars, desc(mpg))\n",
        "head(arranged)\n",
        "cat(\"\\n------------------\\n\")\n"
      ],
      "metadata": {
        "colab": {
          "base_uri": "https://localhost:8080/",
          "height": 660
        },
        "id": "fecSdVoSBer-",
        "outputId": "2773ba04-d1e1-4de6-8463-763fff1c3814"
      },
      "execution_count": null,
      "outputs": [
        {
          "output_type": "stream",
          "name": "stdout",
          "text": [
            "---- Filter ----\n"
          ]
        },
        {
          "output_type": "display_data",
          "data": {
            "text/html": [
              "<table class=\"dataframe\">\n",
              "<caption>A data.frame: 6 × 11</caption>\n",
              "<thead>\n",
              "\t<tr><th></th><th scope=col>mpg</th><th scope=col>cyl</th><th scope=col>disp</th><th scope=col>hp</th><th scope=col>drat</th><th scope=col>wt</th><th scope=col>qsec</th><th scope=col>vs</th><th scope=col>am</th><th scope=col>gear</th><th scope=col>carb</th></tr>\n",
              "\t<tr><th></th><th scope=col>&lt;dbl&gt;</th><th scope=col>&lt;dbl&gt;</th><th scope=col>&lt;dbl&gt;</th><th scope=col>&lt;dbl&gt;</th><th scope=col>&lt;dbl&gt;</th><th scope=col>&lt;dbl&gt;</th><th scope=col>&lt;dbl&gt;</th><th scope=col>&lt;dbl&gt;</th><th scope=col>&lt;dbl&gt;</th><th scope=col>&lt;dbl&gt;</th><th scope=col>&lt;dbl&gt;</th></tr>\n",
              "</thead>\n",
              "<tbody>\n",
              "\t<tr><th scope=row>Mazda RX4</th><td>21.0</td><td>6</td><td>160.0</td><td>110</td><td>3.90</td><td>2.620</td><td>16.46</td><td>0</td><td>1</td><td>4</td><td>4</td></tr>\n",
              "\t<tr><th scope=row>Mazda RX4 Wag</th><td>21.0</td><td>6</td><td>160.0</td><td>110</td><td>3.90</td><td>2.875</td><td>17.02</td><td>0</td><td>1</td><td>4</td><td>4</td></tr>\n",
              "\t<tr><th scope=row>Hornet 4 Drive</th><td>21.4</td><td>6</td><td>258.0</td><td>110</td><td>3.08</td><td>3.215</td><td>19.44</td><td>1</td><td>0</td><td>3</td><td>1</td></tr>\n",
              "\t<tr><th scope=row>Valiant</th><td>18.1</td><td>6</td><td>225.0</td><td>105</td><td>2.76</td><td>3.460</td><td>20.22</td><td>1</td><td>0</td><td>3</td><td>1</td></tr>\n",
              "\t<tr><th scope=row>Merc 280</th><td>19.2</td><td>6</td><td>167.6</td><td>123</td><td>3.92</td><td>3.440</td><td>18.30</td><td>1</td><td>0</td><td>4</td><td>4</td></tr>\n",
              "\t<tr><th scope=row>Merc 280C</th><td>17.8</td><td>6</td><td>167.6</td><td>123</td><td>3.92</td><td>3.440</td><td>18.90</td><td>1</td><td>0</td><td>4</td><td>4</td></tr>\n",
              "</tbody>\n",
              "</table>\n"
            ],
            "text/markdown": "\nA data.frame: 6 × 11\n\n| <!--/--> | mpg &lt;dbl&gt; | cyl &lt;dbl&gt; | disp &lt;dbl&gt; | hp &lt;dbl&gt; | drat &lt;dbl&gt; | wt &lt;dbl&gt; | qsec &lt;dbl&gt; | vs &lt;dbl&gt; | am &lt;dbl&gt; | gear &lt;dbl&gt; | carb &lt;dbl&gt; |\n|---|---|---|---|---|---|---|---|---|---|---|---|\n| Mazda RX4 | 21.0 | 6 | 160.0 | 110 | 3.90 | 2.620 | 16.46 | 0 | 1 | 4 | 4 |\n| Mazda RX4 Wag | 21.0 | 6 | 160.0 | 110 | 3.90 | 2.875 | 17.02 | 0 | 1 | 4 | 4 |\n| Hornet 4 Drive | 21.4 | 6 | 258.0 | 110 | 3.08 | 3.215 | 19.44 | 1 | 0 | 3 | 1 |\n| Valiant | 18.1 | 6 | 225.0 | 105 | 2.76 | 3.460 | 20.22 | 1 | 0 | 3 | 1 |\n| Merc 280 | 19.2 | 6 | 167.6 | 123 | 3.92 | 3.440 | 18.30 | 1 | 0 | 4 | 4 |\n| Merc 280C | 17.8 | 6 | 167.6 | 123 | 3.92 | 3.440 | 18.90 | 1 | 0 | 4 | 4 |\n\n",
            "text/latex": "A data.frame: 6 × 11\n\\begin{tabular}{r|lllllllllll}\n  & mpg & cyl & disp & hp & drat & wt & qsec & vs & am & gear & carb\\\\\n  & <dbl> & <dbl> & <dbl> & <dbl> & <dbl> & <dbl> & <dbl> & <dbl> & <dbl> & <dbl> & <dbl>\\\\\n\\hline\n\tMazda RX4 & 21.0 & 6 & 160.0 & 110 & 3.90 & 2.620 & 16.46 & 0 & 1 & 4 & 4\\\\\n\tMazda RX4 Wag & 21.0 & 6 & 160.0 & 110 & 3.90 & 2.875 & 17.02 & 0 & 1 & 4 & 4\\\\\n\tHornet 4 Drive & 21.4 & 6 & 258.0 & 110 & 3.08 & 3.215 & 19.44 & 1 & 0 & 3 & 1\\\\\n\tValiant & 18.1 & 6 & 225.0 & 105 & 2.76 & 3.460 & 20.22 & 1 & 0 & 3 & 1\\\\\n\tMerc 280 & 19.2 & 6 & 167.6 & 123 & 3.92 & 3.440 & 18.30 & 1 & 0 & 4 & 4\\\\\n\tMerc 280C & 17.8 & 6 & 167.6 & 123 & 3.92 & 3.440 & 18.90 & 1 & 0 & 4 & 4\\\\\n\\end{tabular}\n",
            "text/plain": [
              "               mpg  cyl disp  hp  drat wt    qsec  vs am gear carb\n",
              "Mazda RX4      21.0 6   160.0 110 3.90 2.620 16.46 0  1  4    4   \n",
              "Mazda RX4 Wag  21.0 6   160.0 110 3.90 2.875 17.02 0  1  4    4   \n",
              "Hornet 4 Drive 21.4 6   258.0 110 3.08 3.215 19.44 1  0  3    1   \n",
              "Valiant        18.1 6   225.0 105 2.76 3.460 20.22 1  0  3    1   \n",
              "Merc 280       19.2 6   167.6 123 3.92 3.440 18.30 1  0  4    4   \n",
              "Merc 280C      17.8 6   167.6 123 3.92 3.440 18.90 1  0  4    4   "
            ]
          },
          "metadata": {}
        },
        {
          "output_type": "stream",
          "name": "stdout",
          "text": [
            "\n",
            "------------------\n",
            "---- Arrange ----\n"
          ]
        },
        {
          "output_type": "display_data",
          "data": {
            "text/html": [
              "<table class=\"dataframe\">\n",
              "<caption>A data.frame: 6 × 11</caption>\n",
              "<thead>\n",
              "\t<tr><th></th><th scope=col>mpg</th><th scope=col>cyl</th><th scope=col>disp</th><th scope=col>hp</th><th scope=col>drat</th><th scope=col>wt</th><th scope=col>qsec</th><th scope=col>vs</th><th scope=col>am</th><th scope=col>gear</th><th scope=col>carb</th></tr>\n",
              "\t<tr><th></th><th scope=col>&lt;dbl&gt;</th><th scope=col>&lt;dbl&gt;</th><th scope=col>&lt;dbl&gt;</th><th scope=col>&lt;dbl&gt;</th><th scope=col>&lt;dbl&gt;</th><th scope=col>&lt;dbl&gt;</th><th scope=col>&lt;dbl&gt;</th><th scope=col>&lt;dbl&gt;</th><th scope=col>&lt;dbl&gt;</th><th scope=col>&lt;dbl&gt;</th><th scope=col>&lt;dbl&gt;</th></tr>\n",
              "</thead>\n",
              "<tbody>\n",
              "\t<tr><th scope=row>Toyota Corolla</th><td>33.9</td><td>4</td><td> 71.1</td><td> 65</td><td>4.22</td><td>1.835</td><td>19.90</td><td>1</td><td>1</td><td>4</td><td>1</td></tr>\n",
              "\t<tr><th scope=row>Fiat 128</th><td>32.4</td><td>4</td><td> 78.7</td><td> 66</td><td>4.08</td><td>2.200</td><td>19.47</td><td>1</td><td>1</td><td>4</td><td>1</td></tr>\n",
              "\t<tr><th scope=row>Honda Civic</th><td>30.4</td><td>4</td><td> 75.7</td><td> 52</td><td>4.93</td><td>1.615</td><td>18.52</td><td>1</td><td>1</td><td>4</td><td>2</td></tr>\n",
              "\t<tr><th scope=row>Lotus Europa</th><td>30.4</td><td>4</td><td> 95.1</td><td>113</td><td>3.77</td><td>1.513</td><td>16.90</td><td>1</td><td>1</td><td>5</td><td>2</td></tr>\n",
              "\t<tr><th scope=row>Fiat X1-9</th><td>27.3</td><td>4</td><td> 79.0</td><td> 66</td><td>4.08</td><td>1.935</td><td>18.90</td><td>1</td><td>1</td><td>4</td><td>1</td></tr>\n",
              "\t<tr><th scope=row>Porsche 914-2</th><td>26.0</td><td>4</td><td>120.3</td><td> 91</td><td>4.43</td><td>2.140</td><td>16.70</td><td>0</td><td>1</td><td>5</td><td>2</td></tr>\n",
              "</tbody>\n",
              "</table>\n"
            ],
            "text/markdown": "\nA data.frame: 6 × 11\n\n| <!--/--> | mpg &lt;dbl&gt; | cyl &lt;dbl&gt; | disp &lt;dbl&gt; | hp &lt;dbl&gt; | drat &lt;dbl&gt; | wt &lt;dbl&gt; | qsec &lt;dbl&gt; | vs &lt;dbl&gt; | am &lt;dbl&gt; | gear &lt;dbl&gt; | carb &lt;dbl&gt; |\n|---|---|---|---|---|---|---|---|---|---|---|---|\n| Toyota Corolla | 33.9 | 4 |  71.1 |  65 | 4.22 | 1.835 | 19.90 | 1 | 1 | 4 | 1 |\n| Fiat 128 | 32.4 | 4 |  78.7 |  66 | 4.08 | 2.200 | 19.47 | 1 | 1 | 4 | 1 |\n| Honda Civic | 30.4 | 4 |  75.7 |  52 | 4.93 | 1.615 | 18.52 | 1 | 1 | 4 | 2 |\n| Lotus Europa | 30.4 | 4 |  95.1 | 113 | 3.77 | 1.513 | 16.90 | 1 | 1 | 5 | 2 |\n| Fiat X1-9 | 27.3 | 4 |  79.0 |  66 | 4.08 | 1.935 | 18.90 | 1 | 1 | 4 | 1 |\n| Porsche 914-2 | 26.0 | 4 | 120.3 |  91 | 4.43 | 2.140 | 16.70 | 0 | 1 | 5 | 2 |\n\n",
            "text/latex": "A data.frame: 6 × 11\n\\begin{tabular}{r|lllllllllll}\n  & mpg & cyl & disp & hp & drat & wt & qsec & vs & am & gear & carb\\\\\n  & <dbl> & <dbl> & <dbl> & <dbl> & <dbl> & <dbl> & <dbl> & <dbl> & <dbl> & <dbl> & <dbl>\\\\\n\\hline\n\tToyota Corolla & 33.9 & 4 &  71.1 &  65 & 4.22 & 1.835 & 19.90 & 1 & 1 & 4 & 1\\\\\n\tFiat 128 & 32.4 & 4 &  78.7 &  66 & 4.08 & 2.200 & 19.47 & 1 & 1 & 4 & 1\\\\\n\tHonda Civic & 30.4 & 4 &  75.7 &  52 & 4.93 & 1.615 & 18.52 & 1 & 1 & 4 & 2\\\\\n\tLotus Europa & 30.4 & 4 &  95.1 & 113 & 3.77 & 1.513 & 16.90 & 1 & 1 & 5 & 2\\\\\n\tFiat X1-9 & 27.3 & 4 &  79.0 &  66 & 4.08 & 1.935 & 18.90 & 1 & 1 & 4 & 1\\\\\n\tPorsche 914-2 & 26.0 & 4 & 120.3 &  91 & 4.43 & 2.140 & 16.70 & 0 & 1 & 5 & 2\\\\\n\\end{tabular}\n",
            "text/plain": [
              "               mpg  cyl disp  hp  drat wt    qsec  vs am gear carb\n",
              "Toyota Corolla 33.9 4    71.1  65 4.22 1.835 19.90 1  1  4    1   \n",
              "Fiat 128       32.4 4    78.7  66 4.08 2.200 19.47 1  1  4    1   \n",
              "Honda Civic    30.4 4    75.7  52 4.93 1.615 18.52 1  1  4    2   \n",
              "Lotus Europa   30.4 4    95.1 113 3.77 1.513 16.90 1  1  5    2   \n",
              "Fiat X1-9      27.3 4    79.0  66 4.08 1.935 18.90 1  1  4    1   \n",
              "Porsche 914-2  26.0 4   120.3  91 4.43 2.140 16.70 0  1  5    2   "
            ]
          },
          "metadata": {}
        },
        {
          "output_type": "stream",
          "name": "stdout",
          "text": [
            "\n",
            "------------------\n"
          ]
        }
      ]
    },
    {
      "cell_type": "code",
      "source": [
        "# Installing the package\n",
        "install.packages(\"dplyr\")\n",
        "install.packages(\"ggplot2\")\n",
        "\n",
        "# Loading packages\n",
        "library(dplyr)\n",
        "library(ggplot2)\n",
        "\n",
        "ggplot(data = mtcars,\n",
        "       aes(x = hp, y = mpg,\n",
        "           col = disp)) + geom_point()\n"
      ],
      "metadata": {
        "colab": {
          "base_uri": "https://localhost:8080/",
          "height": 541
        },
        "id": "jv23MjF1XZ-I",
        "outputId": "58146ac8-6e25-4cc4-c102-e1f701669af9"
      },
      "execution_count": null,
      "outputs": [
        {
          "output_type": "stream",
          "name": "stderr",
          "text": [
            "Installing package into ‘/usr/local/lib/R/site-library’\n",
            "(as ‘lib’ is unspecified)\n",
            "\n",
            "Installing package into ‘/usr/local/lib/R/site-library’\n",
            "(as ‘lib’ is unspecified)\n",
            "\n"
          ]
        },
        {
          "output_type": "display_data",
          "data": {
            "text/plain": [
              "plot without title"
            ],
            "image/png": "[encoded data removed]"
          },
          "metadata": {
            "image/png": {
              "width": 420,
              "height": 420
            }
          }
        }
      ]
    },
    {
      "cell_type": "code",
      "source": [
        "install.packages(\"e1071\")\n",
        "install.packages(\"caTools\")\n",
        "install.packages(\"caret\")\n",
        "\n",
        "library(e1071)\n",
        "library(caTools)\n",
        "library(caret)\n",
        "\n",
        "data(iris)\n",
        "\n",
        "split <- sample.split(iris, SplitRatio = 0.7)\n",
        "train_cl <- subset(iris, split == TRUE)\n",
        "test_cl <- subset(iris, split == FALSE)\n",
        "\n",
        "train_scale <- scale(train_cl[, 1:4])\n",
        "test_scale <- scale(test_cl[, 1:4])\n",
        "\n",
        "set.seed(120)\n",
        "classifier_cl <- naiveBayes(Species ~ ., data = train_cl)\n",
        "\n",
        "y_pred <- predict(classifier_cl, newdata = test_cl)\n",
        "\n",
        "cm <- table(test_cl$Species, y_pred)\n",
        "cm\n"
      ],
      "metadata": {
        "colab": {
          "base_uri": "https://localhost:8080/",
          "height": 471
        },
        "id": "LX7sQ05iYrew",
        "outputId": "7b1ec688-cf22-416f-f4d2-db43299e9977"
      },
      "execution_count": null,
      "outputs": [
        {
          "output_type": "stream",
          "name": "stderr",
          "text": [
            "Installing package into ‘/usr/local/lib/R/site-library’\n",
            "(as ‘lib’ is unspecified)\n",
            "\n",
            "also installing the dependency ‘proxy’\n",
            "\n",
            "\n",
            "Installing package into ‘/usr/local/lib/R/site-library’\n",
            "(as ‘lib’ is unspecified)\n",
            "\n",
            "also installing the dependency ‘bitops’\n",
            "\n",
            "\n",
            "Installing package into ‘/usr/local/lib/R/site-library’\n",
            "(as ‘lib’ is unspecified)\n",
            "\n",
            "also installing the dependencies ‘listenv’, ‘parallelly’, ‘future’, ‘globals’, ‘shape’, ‘future.apply’, ‘numDeriv’, ‘progressr’, ‘SQUAREM’, ‘diagram’, ‘lava’, ‘prodlim’, ‘iterators’, ‘clock’, ‘gower’, ‘hardhat’, ‘ipred’, ‘sparsevctrs’, ‘timeDate’, ‘foreach’, ‘ModelMetrics’, ‘plyr’, ‘pROC’, ‘recipes’, ‘reshape2’\n",
            "\n",
            "\n",
            "Loading required package: lattice\n",
            "\n"
          ]
        },
        {
          "output_type": "display_data",
          "data": {
            "text/plain": [
              "            y_pred\n",
              "             setosa versicolor virginica\n",
              "  setosa         20          0         0\n",
              "  versicolor      0         20         0\n",
              "  virginica       0          3        17"
            ]
          },
          "metadata": {}
        }
      ]
    },
    {
      "cell_type": "code",
      "source": [
        "print(classifier_cl)\n",
        "print(cm)"
      ],
      "metadata": {
        "colab": {
          "base_uri": "https://localhost:8080/"
        },
        "id": "rogR8MlFri8_",
        "outputId": "af2ce14b-e152-442f-88f3-67619c20a218"
      },
      "execution_count": null,
      "outputs": [
        {
          "output_type": "stream",
          "name": "stdout",
          "text": [
            "\n",
            "Naive Bayes Classifier for Discrete Predictors\n",
            "\n",
            "Call:\n",
            "naiveBayes.default(x = X, y = Y, laplace = laplace)\n",
            "\n",
            "A-priori probabilities:\n",
            "Y\n",
            "    setosa versicolor  virginica \n",
            " 0.3333333  0.3333333  0.3333333 \n",
            "\n",
            "Conditional probabilities:\n",
            "            Sepal.Length\n",
            "Y                [,1]      [,2]\n",
            "  setosa     5.013333 0.3224190\n",
            "  versicolor 6.046667 0.5328734\n",
            "  virginica  6.666667 0.6999179\n",
            "\n",
            "            Sepal.Width\n",
            "Y                [,1]      [,2]\n",
            "  setosa     3.426667 0.3956081\n",
            "  versicolor 2.820000 0.3487910\n",
            "  virginica  3.013333 0.3048271\n",
            "\n",
            "            Petal.Length\n",
            "Y                [,1]      [,2]\n",
            "  setosa     1.436667 0.1519604\n",
            "  versicolor 4.330000 0.4235727\n",
            "  virginica  5.576667 0.5922973\n",
            "\n",
            "            Petal.Width\n",
            "Y                 [,1]       [,2]\n",
            "  setosa     0.2466667 0.09371024\n",
            "  versicolor 1.3366667 0.21732438\n",
            "  virginica  2.0500000 0.22244720\n",
            "\n",
            "            y_pred\n",
            "             setosa versicolor virginica\n",
            "  setosa         20          0         0\n",
            "  versicolor      0         20         0\n",
            "  virginica       0          3        17\n"
          ]
        }
      ]
    },
    {
      "cell_type": "code",
      "source": [
        "install.packages(\"e1071\")\n",
        "install.packages(\"caTools\")\n",
        "install.packages(\"class\")\n",
        "\n",
        "library(e1071)\n",
        "library(caTools)\n",
        "library(class)\n",
        "\n",
        "data(iris)\n",
        "\n",
        "split <- sample.split(iris, SplitRatio = 0.7)\n",
        "train_cl <- subset(iris, split == TRUE)\n",
        "test_cl <- subset(iris, split == FALSE)\n",
        "\n",
        "train_scale <- scale(train_cl[, 1:4])\n",
        "test_scale <- scale(test_cl[, 1:4])\n",
        "\n",
        "classifier_knn <- knn(train = train_scale,\n",
        "                      test = test_scale,\n",
        "                      cl = train_cl$Species,\n",
        "                      k = 1)\n",
        "\n",
        "cm <- table(test_cl$Species, classifier_knn)\n",
        "print(cm)\n",
        "\n",
        "misClassError <- mean(classifier_knn != test_cl$Species)\n",
        "print(paste('Accuracy =', 1 - misClassError))\n"
      ],
      "metadata": {
        "colab": {
          "base_uri": "https://localhost:8080/"
        },
        "id": "xcF2H3xbsoEK",
        "outputId": "4b45a9cb-9614-4d17-f1b1-f61bb3950095"
      },
      "execution_count": null,
      "outputs": [
        {
          "output_type": "stream",
          "name": "stderr",
          "text": [
            "Installing package into ‘/usr/local/lib/R/site-library’\n",
            "(as ‘lib’ is unspecified)\n",
            "\n",
            "Installing package into ‘/usr/local/lib/R/site-library’\n",
            "(as ‘lib’ is unspecified)\n",
            "\n",
            "Installing package into ‘/usr/local/lib/R/site-library’\n",
            "(as ‘lib’ is unspecified)\n",
            "\n"
          ]
        },
        {
          "output_type": "stream",
          "name": "stdout",
          "text": [
            "            classifier_knn\n",
            "             setosa versicolor virginica\n",
            "  setosa         20          0         0\n",
            "  versicolor      0         18         2\n",
            "  virginica       0          1        19\n",
            "[1] \"Accuracy = 0.95\"\n"
          ]
        }
      ]
    },
    {
      "cell_type": "code",
      "source": [
        "# Install required packages\n",
        "install.packages(\"xgboost\")\n",
        "install.packages(\"caret\")\n",
        "install.packages(\"MASS\")\n",
        "\n",
        "# Load required libraries\n",
        "library(xgboost)\n",
        "library(caret)\n",
        "library(MASS)\n",
        "\n",
        "# Load the Boston dataset from the MASS package\n",
        "data(\"Boston\")\n",
        "\n",
        "# Split data into train and test sets (80-20 split)\n",
        "set.seed(123)\n",
        "train_index <- createDataPartition(Boston$medv, p = 0.8, list = FALSE)\n",
        "train_data <- Boston[train_index, ]\n",
        "test_data <- Boston[-train_index, ]\n",
        "\n",
        "# Preprocess data - Scaling and centering numeric variables\n",
        "pre_process <- preProcess(train_data[, -14], method = c(\"center\", \"scale\"))\n",
        "train_data_scaled <- predict(pre_process, train_data[, -14])\n",
        "test_data_scaled <- predict(pre_process, test_data[, -14])\n",
        "\n",
        "# Add the target variable back to the scaled data\n",
        "train_data_scaled$medv <- train_data$medv\n",
        "test_data_scaled$medv <- test_data$medv\n",
        "\n",
        "# Convert to xgboost DMatrix format\n",
        "Dtrain <- xgb.DMatrix(data = as.matrix(train_data_scaled[, -ncol(train_data_scaled)]), label = train_data_scaled$medv)\n",
        "Dtest <- xgb.DMatrix(data = as.matrix(test_data_scaled[, -ncol(test_data_scaled)]))\n",
        "\n",
        "# Set parameters for XGBoost\n",
        "params <- list(\n",
        "  objective = \"reg:squarederror\", # For regression tasks\n",
        "  eta = 0.1,                      # Learning rate\n",
        "  max_depth = 6,                   # Depth of trees\n",
        "  subsample = 0.8,                 # Proportion of data to use for training each tree\n",
        "  colsample_bytree = 0.8          # Proportion of features to use for each tree\n",
        ")\n",
        "\n",
        "# Train the model using cross-validation\n",
        "set.seed(123)\n",
        "xgbcv <- xgb.cv(\n",
        "  params = params,\n",
        "  data = Dtrain,\n",
        "  nrounds = 100,\n",
        "  nfold = 5,\n",
        "  early_stopping_rounds = 10,\n",
        "  print_every_n = 10,\n",
        "  maximize = FALSE\n",
        ")\n",
        "\n",
        "# Train the final model with the best number of rounds\n",
        "best_nrounds <- xgbcv$best_iteration\n",
        "xgb_model <- xgb.train(\n",
        "  params = params,\n",
        "  data = Dtrain,\n",
        "  nrounds = best_nrounds\n",
        ")\n",
        "\n",
        "# Make predictions on the test set\n",
        "predictions <- predict(xgb_model, Dtest)\n",
        "\n",
        "# Evaluate the model\n",
        "actuals <- test_data$medv\n",
        "mse <- mean((predictions - actuals)^2)\n",
        "rmse <- sqrt(mse)\n",
        "\n",
        "cat(\"Root Mean Squared Error (RMSE):\", rmse)\n"
      ],
      "metadata": {
        "colab": {
          "base_uri": "https://localhost:8080/"
        },
        "id": "ElRxTgT2tzL_",
        "outputId": "dd573789-2fef-44fb-b06f-62bbda5e4593"
      },
      "execution_count": null,
      "outputs": [
        {
          "output_type": "stream",
          "name": "stderr",
          "text": [
            "Installing package into ‘/usr/local/lib/R/site-library’\n",
            "(as ‘lib’ is unspecified)\n",
            "\n",
            "Installing package into ‘/usr/local/lib/R/site-library’\n",
            "(as ‘lib’ is unspecified)\n",
            "\n",
            "Installing package into ‘/usr/local/lib/R/site-library’\n",
            "(as ‘lib’ is unspecified)\n",
            "\n",
            "\n",
            "Attaching package: ‘MASS’\n",
            "\n",
            "\n",
            "The following object is masked from ‘package:dplyr’:\n",
            "\n",
            "    select\n",
            "\n",
            "\n"
          ]
        },
        {
          "output_type": "stream",
          "name": "stdout",
          "text": [
            "[1]\ttrain-rmse:21.638974+0.143532\ttest-rmse:21.649086+0.648186 \n",
            "Multiple eval metrics are present. Will use test_rmse for early stopping.\n",
            "Will train until test_rmse hasn't improved in 10 rounds.\n",
            "\n",
            "[11]\ttrain-rmse:8.456510+0.035238\ttest-rmse:9.002567+0.355320 \n",
            "[21]\ttrain-rmse:3.692688+0.029829\ttest-rmse:4.872335+0.459736 \n",
            "[31]\ttrain-rmse:1.949766+0.031259\ttest-rmse:3.742814+0.581118 \n",
            "[41]\ttrain-rmse:1.276748+0.038304\ttest-rmse:3.444041+0.594562 \n",
            "[51]\ttrain-rmse:0.975116+0.035983\ttest-rmse:3.329396+0.579440 \n",
            "[61]\ttrain-rmse:0.776189+0.032257\ttest-rmse:3.270209+0.559111 \n",
            "[71]\ttrain-rmse:0.621103+0.022862\ttest-rmse:3.242021+0.558477 \n",
            "[81]\ttrain-rmse:0.499242+0.023994\ttest-rmse:3.230623+0.566582 \n",
            "[91]\ttrain-rmse:0.412517+0.018563\ttest-rmse:3.220359+0.568461 \n",
            "[100]\ttrain-rmse:0.352168+0.017576\ttest-rmse:3.213539+0.561828 \n",
            "Root Mean Squared Error (RMSE): 3.003"
          ]
        }
      ]
    },
    {
      "cell_type": "code",
      "source": [
        "install.packages(\"caTools\")\n",
        "install.packages(\"randomForest\")\n",
        "\n",
        "library(caTools)\n",
        "library(randomForest)\n",
        "\n",
        "data(iris)\n",
        "\n",
        "split <- sample.split(iris, SplitRatio = 0.7)\n",
        "train <- subset(iris, split == \"TRUE\")\n",
        "test <- subset(iris, split == \"FALSE\")\n",
        "\n",
        "set.seed(120)\n",
        "classifier_RF = randomForest(x = train[-5], y = train$Species, ntree = 500)\n",
        "\n",
        "classifier_RF\n",
        "\n",
        "y_pred = predict(classifier_RF, newdata = test[-5])\n",
        "cm = table(test[, 5], y_pred)\n",
        "cm"
      ],
      "metadata": {
        "colab": {
          "base_uri": "https://localhost:8080/",
          "height": 746
        },
        "id": "AXYPzWT8vxdZ",
        "outputId": "6ee1fbe4-dc12-42b9-9976-44a086e79a40"
      },
      "execution_count": null,
      "outputs": [
        {
          "output_type": "stream",
          "name": "stderr",
          "text": [
            "Installing package into ‘/usr/local/lib/R/site-library’\n",
            "(as ‘lib’ is unspecified)\n",
            "\n",
            "Installing package into ‘/usr/local/lib/R/site-library’\n",
            "(as ‘lib’ is unspecified)\n",
            "\n",
            "randomForest 4.7-1.2\n",
            "\n",
            "Type rfNews() to see new features/changes/bug fixes.\n",
            "\n",
            "\n",
            "Attaching package: ‘randomForest’\n",
            "\n",
            "\n",
            "The following object is masked from ‘package:ggplot2’:\n",
            "\n",
            "    margin\n",
            "\n",
            "\n",
            "The following object is masked from ‘package:dplyr’:\n",
            "\n",
            "    combine\n",
            "\n",
            "\n"
          ]
        },
        {
          "output_type": "display_data",
          "data": {
            "text/plain": [
              "\n",
              "Call:\n",
              " randomForest(x = train[-5], y = train$Species, ntree = 500) \n",
              "               Type of random forest: classification\n",
              "                     Number of trees: 500\n",
              "No. of variables tried at each split: 2\n",
              "\n",
              "        OOB estimate of  error rate: 6.67%\n",
              "Confusion matrix:\n",
              "           setosa versicolor virginica class.error\n",
              "setosa         30          0         0  0.00000000\n",
              "versicolor      0         28         2  0.06666667\n",
              "virginica       0          4        26  0.13333333"
            ]
          },
          "metadata": {}
        },
        {
          "output_type": "display_data",
          "data": {
            "text/plain": [
              "            y_pred\n",
              "             setosa versicolor virginica\n",
              "  setosa         20          0         0\n",
              "  versicolor      0         16         4\n",
              "  virginica       0          0        20"
            ]
          },
          "metadata": {}
        }
      ]
    },
    {
      "cell_type": "code",
      "source": [],
      "metadata": {
        "id": "a1LReCYYHXvl"
      },
      "execution_count": null,
      "outputs": []
    }
  ]
}
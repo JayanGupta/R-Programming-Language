{
  "nbformat": 4,
  "nbformat_minor": 0,
  "metadata": {
    "colab": {
      "provenance": []
    },
    "kernelspec": {
      "name": "ir",
      "display_name": "R"
    },
    "language_info": {
      "name": "R"
    }
  },
  "cells": [
    {
      "cell_type": "code",
      "source": [
        "install.packages(\"dplyr\")\n",
        "library(dplyr)"
      ],
      "metadata": {
        "colab": {
          "base_uri": "https://localhost:8080/"
        },
        "id": "YYjiJFWa-FTZ",
        "outputId": "1f46bb60-b22c-40da-93ea-16147d3472be"
      },
      "execution_count": null,
      "outputs": [
        {
          "output_type": "stream",
          "name": "stderr",
          "text": [
            "Installing package into ‘/usr/local/lib/R/site-library’\n",
            "(as ‘lib’ is unspecified)\n",
            "\n",
            "\n",
            "Attaching package: ‘dplyr’\n",
            "\n",
            "\n",
            "The following objects are masked from ‘package:stats’:\n",
            "\n",
            "    filter, lag\n",
            "\n",
            "\n",
            "The following objects are masked from ‘package:base’:\n",
            "\n",
            "    intersect, setdiff, setequal, union\n",
            "\n",
            "\n"
          ]
        }
      ]
    },
    {
      "cell_type": "code",
      "execution_count": null,
      "metadata": {
        "colab": {
          "base_uri": "https://localhost:8080/",
          "height": 1000
        },
        "id": "E5WNEz5z95nu",
        "outputId": "ea6e2fbc-2cf4-4ab8-d65f-e6c2e10b38f6"
      },
      "outputs": [
        {
          "output_type": "display_data",
          "data": {
            "text/html": [
              "<table class=\"dataframe\">\n",
              "<caption>A data.frame: 30 × 3</caption>\n",
              "<thead>\n",
              "\t<tr><th scope=col>group</th><th scope=col>x</th><th scope=col>y</th></tr>\n",
              "\t<tr><th scope=col>&lt;chr&gt;</th><th scope=col>&lt;dbl&gt;</th><th scope=col>&lt;dbl&gt;</th></tr>\n",
              "</thead>\n",
              "<tbody>\n",
              "\t<tr><td>A</td><td>-0.56047565</td><td> 0.42646422</td></tr>\n",
              "\t<tr><td>A</td><td>-0.23017749</td><td>-0.29507148</td></tr>\n",
              "\t<tr><td>A</td><td> 1.55870831</td><td> 0.89512566</td></tr>\n",
              "\t<tr><td>A</td><td> 0.07050839</td><td> 0.87813349</td></tr>\n",
              "\t<tr><td>A</td><td> 0.12928774</td><td> 0.82158108</td></tr>\n",
              "\t<tr><td>A</td><td> 1.71506499</td><td> 0.68864025</td></tr>\n",
              "\t<tr><td>A</td><td> 0.46091621</td><td> 0.55391765</td></tr>\n",
              "\t<tr><td>A</td><td>-1.26506123</td><td>-0.06191171</td></tr>\n",
              "\t<tr><td>A</td><td>-0.68685285</td><td>-0.30596266</td></tr>\n",
              "\t<tr><td>A</td><td>-0.44566197</td><td>-0.38047100</td></tr>\n",
              "\t<tr><td>B</td><td> 1.22408180</td><td>-0.69470698</td></tr>\n",
              "\t<tr><td>B</td><td> 0.35981383</td><td>-0.20791728</td></tr>\n",
              "\t<tr><td>B</td><td> 0.40077145</td><td>-1.26539635</td></tr>\n",
              "\t<tr><td>B</td><td> 0.11068272</td><td> 2.16895597</td></tr>\n",
              "\t<tr><td>B</td><td>-0.55584113</td><td> 1.20796200</td></tr>\n",
              "\t<tr><td>B</td><td> 1.78691314</td><td>-1.12310858</td></tr>\n",
              "\t<tr><td>B</td><td> 0.49785048</td><td>-0.40288484</td></tr>\n",
              "\t<tr><td>B</td><td>-1.96661716</td><td>-0.46665535</td></tr>\n",
              "\t<tr><td>B</td><td> 0.70135590</td><td> 0.77996512</td></tr>\n",
              "\t<tr><td>B</td><td>-0.47279141</td><td>-0.08336907</td></tr>\n",
              "\t<tr><td>C</td><td>-1.06782371</td><td> 0.25331851</td></tr>\n",
              "\t<tr><td>C</td><td>-0.21797491</td><td>-0.02854676</td></tr>\n",
              "\t<tr><td>C</td><td>-1.02600445</td><td>-0.04287046</td></tr>\n",
              "\t<tr><td>C</td><td>-0.72889123</td><td> 1.36860228</td></tr>\n",
              "\t<tr><td>C</td><td>-0.62503927</td><td>-0.22577099</td></tr>\n",
              "\t<tr><td>C</td><td>-1.68669331</td><td> 1.51647060</td></tr>\n",
              "\t<tr><td>C</td><td> 0.83778704</td><td>-1.54875280</td></tr>\n",
              "\t<tr><td>C</td><td> 0.15337312</td><td> 0.58461375</td></tr>\n",
              "\t<tr><td>C</td><td>-1.13813694</td><td> 0.12385424</td></tr>\n",
              "\t<tr><td>C</td><td> 1.25381492</td><td> 0.21594157</td></tr>\n",
              "</tbody>\n",
              "</table>\n"
            ],
            "text/markdown": "\nA data.frame: 30 × 3\n\n| group &lt;chr&gt; | x &lt;dbl&gt; | y &lt;dbl&gt; |\n|---|---|---|\n| A | -0.56047565 |  0.42646422 |\n| A | -0.23017749 | -0.29507148 |\n| A |  1.55870831 |  0.89512566 |\n| A |  0.07050839 |  0.87813349 |\n| A |  0.12928774 |  0.82158108 |\n| A |  1.71506499 |  0.68864025 |\n| A |  0.46091621 |  0.55391765 |\n| A | -1.26506123 | -0.06191171 |\n| A | -0.68685285 | -0.30596266 |\n| A | -0.44566197 | -0.38047100 |\n| B |  1.22408180 | -0.69470698 |\n| B |  0.35981383 | -0.20791728 |\n| B |  0.40077145 | -1.26539635 |\n| B |  0.11068272 |  2.16895597 |\n| B | -0.55584113 |  1.20796200 |\n| B |  1.78691314 | -1.12310858 |\n| B |  0.49785048 | -0.40288484 |\n| B | -1.96661716 | -0.46665535 |\n| B |  0.70135590 |  0.77996512 |\n| B | -0.47279141 | -0.08336907 |\n| C | -1.06782371 |  0.25331851 |\n| C | -0.21797491 | -0.02854676 |\n| C | -1.02600445 | -0.04287046 |\n| C | -0.72889123 |  1.36860228 |\n| C | -0.62503927 | -0.22577099 |\n| C | -1.68669331 |  1.51647060 |\n| C |  0.83778704 | -1.54875280 |\n| C |  0.15337312 |  0.58461375 |\n| C | -1.13813694 |  0.12385424 |\n| C |  1.25381492 |  0.21594157 |\n\n",
            "text/latex": "A data.frame: 30 × 3\n\\begin{tabular}{lll}\n group & x & y\\\\\n <chr> & <dbl> & <dbl>\\\\\n\\hline\n\t A & -0.56047565 &  0.42646422\\\\\n\t A & -0.23017749 & -0.29507148\\\\\n\t A &  1.55870831 &  0.89512566\\\\\n\t A &  0.07050839 &  0.87813349\\\\\n\t A &  0.12928774 &  0.82158108\\\\\n\t A &  1.71506499 &  0.68864025\\\\\n\t A &  0.46091621 &  0.55391765\\\\\n\t A & -1.26506123 & -0.06191171\\\\\n\t A & -0.68685285 & -0.30596266\\\\\n\t A & -0.44566197 & -0.38047100\\\\\n\t B &  1.22408180 & -0.69470698\\\\\n\t B &  0.35981383 & -0.20791728\\\\\n\t B &  0.40077145 & -1.26539635\\\\\n\t B &  0.11068272 &  2.16895597\\\\\n\t B & -0.55584113 &  1.20796200\\\\\n\t B &  1.78691314 & -1.12310858\\\\\n\t B &  0.49785048 & -0.40288484\\\\\n\t B & -1.96661716 & -0.46665535\\\\\n\t B &  0.70135590 &  0.77996512\\\\\n\t B & -0.47279141 & -0.08336907\\\\\n\t C & -1.06782371 &  0.25331851\\\\\n\t C & -0.21797491 & -0.02854676\\\\\n\t C & -1.02600445 & -0.04287046\\\\\n\t C & -0.72889123 &  1.36860228\\\\\n\t C & -0.62503927 & -0.22577099\\\\\n\t C & -1.68669331 &  1.51647060\\\\\n\t C &  0.83778704 & -1.54875280\\\\\n\t C &  0.15337312 &  0.58461375\\\\\n\t C & -1.13813694 &  0.12385424\\\\\n\t C &  1.25381492 &  0.21594157\\\\\n\\end{tabular}\n",
            "text/plain": [
              "   group x           y          \n",
              "1  A     -0.56047565  0.42646422\n",
              "2  A     -0.23017749 -0.29507148\n",
              "3  A      1.55870831  0.89512566\n",
              "4  A      0.07050839  0.87813349\n",
              "5  A      0.12928774  0.82158108\n",
              "6  A      1.71506499  0.68864025\n",
              "7  A      0.46091621  0.55391765\n",
              "8  A     -1.26506123 -0.06191171\n",
              "9  A     -0.68685285 -0.30596266\n",
              "10 A     -0.44566197 -0.38047100\n",
              "11 B      1.22408180 -0.69470698\n",
              "12 B      0.35981383 -0.20791728\n",
              "13 B      0.40077145 -1.26539635\n",
              "14 B      0.11068272  2.16895597\n",
              "15 B     -0.55584113  1.20796200\n",
              "16 B      1.78691314 -1.12310858\n",
              "17 B      0.49785048 -0.40288484\n",
              "18 B     -1.96661716 -0.46665535\n",
              "19 B      0.70135590  0.77996512\n",
              "20 B     -0.47279141 -0.08336907\n",
              "21 C     -1.06782371  0.25331851\n",
              "22 C     -0.21797491 -0.02854676\n",
              "23 C     -1.02600445 -0.04287046\n",
              "24 C     -0.72889123  1.36860228\n",
              "25 C     -0.62503927 -0.22577099\n",
              "26 C     -1.68669331  1.51647060\n",
              "27 C      0.83778704 -1.54875280\n",
              "28 C      0.15337312  0.58461375\n",
              "29 C     -1.13813694  0.12385424\n",
              "30 C      1.25381492  0.21594157"
            ]
          },
          "metadata": {}
        }
      ],
      "source": [
        "# Sample data\n",
        "set.seed(123)\n",
        "data <- data.frame(\n",
        "  group = rep(c(\"A\", \"B\", \"C\"), each = 10),\n",
        "  x = rnorm(30),\n",
        "  y = rnorm(30)\n",
        ")\n",
        "data"
      ]
    },
    {
      "cell_type": "code",
      "source": [
        "# Perform linear regression by group\n",
        "models <- data %>%\n",
        "  group_by(group) %>%\n",
        "  do(model = lm(y ~ x, data = .))\n",
        "\n",
        "print(models)"
      ],
      "metadata": {
        "colab": {
          "base_uri": "https://localhost:8080/"
        },
        "id": "ImO3pXre-ZSw",
        "outputId": "ae8ae051-1ec6-45ef-8837-8937fa425c99"
      },
      "execution_count": null,
      "outputs": [
        {
          "output_type": "stream",
          "name": "stdout",
          "text": [
            "\u001b[90m# A tibble: 3 × 2\u001b[39m\n",
            "\u001b[90m# Rowwise: \u001b[39m\n",
            "  group model \n",
            "  \u001b[3m\u001b[90m<chr>\u001b[39m\u001b[23m \u001b[3m\u001b[90m<list>\u001b[39m\u001b[23m\n",
            "\u001b[90m1\u001b[39m A     \u001b[90m<lm>\u001b[39m  \n",
            "\u001b[90m2\u001b[39m B     \u001b[90m<lm>\u001b[39m  \n",
            "\u001b[90m3\u001b[39m C     \u001b[90m<lm>\u001b[39m  \n"
          ]
        }
      ]
    },
    {
      "cell_type": "code",
      "source": [
        "# Summarize coefficients by group\n",
        "coefficients_summary <- models %>%\n",
        "  summarise(\n",
        "    intercept = coef(model)[1],\n",
        "    slope = coef(model)[2]\n",
        "  )\n",
        "\n",
        "print(coefficients_summary)"
      ],
      "metadata": {
        "colab": {
          "base_uri": "https://localhost:8080/"
        },
        "id": "t3C6Iryg-tF0",
        "outputId": "789790b1-db7a-42f8-9562-1da8d808418c"
      },
      "execution_count": null,
      "outputs": [
        {
          "output_type": "stream",
          "name": "stdout",
          "text": [
            "\u001b[90m# A tibble: 3 × 2\u001b[39m\n",
            "  intercept  slope\n",
            "      \u001b[3m\u001b[90m<dbl>\u001b[39m\u001b[23m  \u001b[3m\u001b[90m<dbl>\u001b[39m\u001b[23m\n",
            "\u001b[90m1\u001b[39m    0.294   0.372\n",
            "\u001b[90m2\u001b[39m    0.046\u001b[4m1\u001b[24m -\u001b[31m0\u001b[39m\u001b[31m.\u001b[39m\u001b[31m263\u001b[39m\n",
            "\u001b[90m3\u001b[39m    0.016\u001b[4m3\u001b[24m -\u001b[31m0\u001b[39m\u001b[31m.\u001b[39m\u001b[31m484\u001b[39m\n"
          ]
        }
      ]
    },
    {
      "cell_type": "code",
      "source": [
        "data(mtcars)\n",
        "\n",
        "mtcars$cyl <- as.factor(mtcars$cyl)\n",
        "\n",
        "models <- mtcars %>%\n",
        "  group_by(cyl) %>%\n",
        "  do(model = lm(mpg ~ hp, data = .))\n",
        "\n",
        "coefficients_summary <- models %>%\n",
        "  summarise(\n",
        "    intercept = coef(model)[1],\n",
        "    slope = coef(model)[2]\n",
        "  )\n",
        "\n",
        "print(coefficients_summary)\n"
      ],
      "metadata": {
        "colab": {
          "base_uri": "https://localhost:8080/"
        },
        "id": "Y9rD0Zh3_BTs",
        "outputId": "fe603056-78d1-497c-d64c-d5ee306ce4fb"
      },
      "execution_count": null,
      "outputs": [
        {
          "output_type": "stream",
          "name": "stdout",
          "text": [
            "\u001b[90m# A tibble: 3 × 2\u001b[39m\n",
            "  intercept    slope\n",
            "      \u001b[3m\u001b[90m<dbl>\u001b[39m\u001b[23m    \u001b[3m\u001b[90m<dbl>\u001b[39m\u001b[23m\n",
            "\u001b[90m1\u001b[39m      36.0 -\u001b[31m0\u001b[39m\u001b[31m.\u001b[39m\u001b[31m113\u001b[39m  \n",
            "\u001b[90m2\u001b[39m      20.7 -\u001b[31m0\u001b[39m\u001b[31m.\u001b[39m\u001b[31m00\u001b[39m\u001b[31m7\u001b[4m6\u001b[24m\u001b[4m1\u001b[24m\u001b[39m\n",
            "\u001b[90m3\u001b[39m      18.1 -\u001b[31m0\u001b[39m\u001b[31m.\u001b[39m\u001b[31m0\u001b[39m\u001b[31m14\u001b[4m2\u001b[24m\u001b[39m \n"
          ]
        }
      ]
    }
  ]
}